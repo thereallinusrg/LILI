{
 "cells": [
  {
   "cell_type": "code",
   "execution_count": 170,
   "metadata": {},
   "outputs": [],
   "source": [
    "import plotly.graph_objects as go\n",
    "from plotly.subplots import make_subplots\n",
    "import pandas as pd\n",
    "import numpy as np\n",
    "import configparser as configparser\n",
    "from ipywidgets import widgets"
   ]
  },
  {
   "cell_type": "code",
   "execution_count": 171,
   "metadata": {},
   "outputs": [],
   "source": [
    "config = configparser.ConfigParser()\n",
    "config.read('../config.ini')\n",
    "mapbox_token = config['mapbox']['secret_token']"
   ]
  },
  {
   "cell_type": "code",
   "execution_count": 172,
   "metadata": {},
   "outputs": [
    {
     "name": "stderr",
     "output_type": "stream",
     "text": [
      "/tmp/ipykernel_27427/1224049548.py:1: DtypeWarning:\n",
      "\n",
      "Columns (53) have mixed types. Specify dtype option on import or set low_memory=False.\n",
      "\n"
     ]
    },
    {
     "data": {
      "text/html": [
       "<div>\n",
       "<style scoped>\n",
       "    .dataframe tbody tr th:only-of-type {\n",
       "        vertical-align: middle;\n",
       "    }\n",
       "\n",
       "    .dataframe tbody tr th {\n",
       "        vertical-align: top;\n",
       "    }\n",
       "\n",
       "    .dataframe thead th {\n",
       "        text-align: right;\n",
       "    }\n",
       "</style>\n",
       "<table border=\"1\" class=\"dataframe\">\n",
       "  <thead>\n",
       "    <tr style=\"text-align: right;\">\n",
       "      <th></th>\n",
       "      <th>created_at</th>\n",
       "      <th>twitter_id</th>\n",
       "      <th>user_id</th>\n",
       "      <th>user_location</th>\n",
       "      <th>longitude</th>\n",
       "      <th>latitude</th>\n",
       "      <th>place_box_1_long</th>\n",
       "      <th>place_box_1_lat</th>\n",
       "      <th>place_box_2_long</th>\n",
       "      <th>place_box_2_lat</th>\n",
       "      <th>...</th>\n",
       "      <th>quarter</th>\n",
       "      <th>suburb</th>\n",
       "      <th>allotments</th>\n",
       "      <th>farm</th>\n",
       "      <th>hamlet</th>\n",
       "      <th>isolated_dwelling</th>\n",
       "      <th>island</th>\n",
       "      <th>time</th>\n",
       "      <th>innoint</th>\n",
       "      <th>date</th>\n",
       "    </tr>\n",
       "  </thead>\n",
       "  <tbody>\n",
       "    <tr>\n",
       "      <th>0</th>\n",
       "      <td>2012-01-01 08:10:59+00:00</td>\n",
       "      <td>153387731521773569</td>\n",
       "      <td>191216844</td>\n",
       "      <td>Paraguay</td>\n",
       "      <td>NaN</td>\n",
       "      <td>NaN</td>\n",
       "      <td>NaN</td>\n",
       "      <td>NaN</td>\n",
       "      <td>NaN</td>\n",
       "      <td>NaN</td>\n",
       "      <td>...</td>\n",
       "      <td>NaN</td>\n",
       "      <td>NaN</td>\n",
       "      <td>NaN</td>\n",
       "      <td>NaN</td>\n",
       "      <td>NaN</td>\n",
       "      <td>NaN</td>\n",
       "      <td>NaN</td>\n",
       "      <td>01/01/2012, 08:10:59</td>\n",
       "      <td>2</td>\n",
       "      <td>2012-01-01</td>\n",
       "    </tr>\n",
       "    <tr>\n",
       "      <th>2</th>\n",
       "      <td>2012-01-03 14:15:36+00:00</td>\n",
       "      <td>154204266041585664</td>\n",
       "      <td>298356610</td>\n",
       "      <td>bogota</td>\n",
       "      <td>NaN</td>\n",
       "      <td>NaN</td>\n",
       "      <td>NaN</td>\n",
       "      <td>NaN</td>\n",
       "      <td>NaN</td>\n",
       "      <td>NaN</td>\n",
       "      <td>...</td>\n",
       "      <td>NaN</td>\n",
       "      <td>NaN</td>\n",
       "      <td>NaN</td>\n",
       "      <td>NaN</td>\n",
       "      <td>NaN</td>\n",
       "      <td>NaN</td>\n",
       "      <td>NaN</td>\n",
       "      <td>03/01/2012, 14:15:36</td>\n",
       "      <td>2</td>\n",
       "      <td>2012-01-03</td>\n",
       "    </tr>\n",
       "    <tr>\n",
       "      <th>3</th>\n",
       "      <td>2012-01-08 02:41:19+00:00</td>\n",
       "      <td>155841483243663360</td>\n",
       "      <td>285206171</td>\n",
       "      <td>Ibagué</td>\n",
       "      <td>NaN</td>\n",
       "      <td>NaN</td>\n",
       "      <td>NaN</td>\n",
       "      <td>NaN</td>\n",
       "      <td>NaN</td>\n",
       "      <td>NaN</td>\n",
       "      <td>...</td>\n",
       "      <td>NaN</td>\n",
       "      <td>NaN</td>\n",
       "      <td>NaN</td>\n",
       "      <td>NaN</td>\n",
       "      <td>NaN</td>\n",
       "      <td>NaN</td>\n",
       "      <td>NaN</td>\n",
       "      <td>08/01/2012, 02:41:19</td>\n",
       "      <td>2</td>\n",
       "      <td>2012-01-08</td>\n",
       "    </tr>\n",
       "  </tbody>\n",
       "</table>\n",
       "<p>3 rows × 57 columns</p>\n",
       "</div>"
      ],
      "text/plain": [
       "                  created_at          twitter_id    user_id user_location  \\\n",
       "0  2012-01-01 08:10:59+00:00  153387731521773569  191216844     Paraguay    \n",
       "2  2012-01-03 14:15:36+00:00  154204266041585664  298356610       bogota    \n",
       "3  2012-01-08 02:41:19+00:00  155841483243663360  285206171       Ibagué    \n",
       "\n",
       "   longitude  latitude  place_box_1_long  place_box_1_lat  place_box_2_long  \\\n",
       "0        NaN       NaN               NaN              NaN               NaN   \n",
       "2        NaN       NaN               NaN              NaN               NaN   \n",
       "3        NaN       NaN               NaN              NaN               NaN   \n",
       "\n",
       "   place_box_2_lat  ... quarter suburb allotments farm hamlet  \\\n",
       "0              NaN  ...     NaN    NaN        NaN  NaN    NaN   \n",
       "2              NaN  ...     NaN    NaN        NaN  NaN    NaN   \n",
       "3              NaN  ...     NaN    NaN        NaN  NaN    NaN   \n",
       "\n",
       "  isolated_dwelling  island                  time innoint        date  \n",
       "0               NaN     NaN  01/01/2012, 08:10:59       2  2012-01-01  \n",
       "2               NaN     NaN  03/01/2012, 14:15:36       2  2012-01-03  \n",
       "3               NaN     NaN  08/01/2012, 02:41:19       2  2012-01-08  \n",
       "\n",
       "[3 rows x 57 columns]"
      ]
     },
     "execution_count": 172,
     "metadata": {},
     "output_type": "execute_result"
    }
   ],
   "source": [
    "df = pd.read_csv('inno_geocoded.csv')\n",
    "df = df.dropna(subset=['lng', 'lat'])\n",
    "\n",
    "df['innoint'] = df.inno_nr.str.strip('inno_').astype('int')\n",
    "df['date'] = pd.to_datetime(df['created_at']).dt.date\n",
    "\n",
    "df.head(3)"
   ]
  },
  {
   "cell_type": "code",
   "execution_count": 173,
   "metadata": {},
   "outputs": [],
   "source": [
    "def process_geocodedtwitter_data(df, zone = 'country_y', inno_choose=inno_choose):\n",
    "\n",
    "    # Choose Innovation\n",
    "    df = df[df.inno_nr == inno_choose]\n",
    "    df = df.reset_index()\n",
    "\n",
    "    # Saving countries positions (latitude and longitude per subzones)\n",
    "    country_position = df[[f'{zone}', 'lat', 'lng']].drop_duplicates([f'{zone}']).set_index([f'{zone}'])\n",
    "\n",
    "    # Pivoting per category\n",
    "    cats = list(df.inno_nr.unique())\n",
    "    cats.sort()\n",
    "    \n",
    "    df = pd.pivot_table(df, values='innoint', index=['date', f'{zone}'], columns=['inno_nr'])\n",
    "    df.columns = cats\n",
    "\n",
    "    # Merging locations after pivoting\n",
    "    df = df.join(country_position)\n",
    "\n",
    "    # Filling nan values with 0\n",
    "    df = df.fillna(0)\n",
    "\n",
    "    # Compute bubble sizes\n",
    "    df['size'] = df[inno_choose]\n",
    "\n",
    "    # Compute bubble color\n",
    "    df['color'] = 'fuchsia' #df[cats].sum(axis=1)\n",
    "    \n",
    "    return df"
   ]
  },
  {
   "cell_type": "code",
   "execution_count": 174,
   "metadata": {},
   "outputs": [
    {
     "data": {
      "text/html": [
       "<div>\n",
       "<style scoped>\n",
       "    .dataframe tbody tr th:only-of-type {\n",
       "        vertical-align: middle;\n",
       "    }\n",
       "\n",
       "    .dataframe tbody tr th {\n",
       "        vertical-align: top;\n",
       "    }\n",
       "\n",
       "    .dataframe thead th {\n",
       "        text-align: right;\n",
       "    }\n",
       "</style>\n",
       "<table border=\"1\" class=\"dataframe\">\n",
       "  <thead>\n",
       "    <tr style=\"text-align: right;\">\n",
       "      <th></th>\n",
       "      <th></th>\n",
       "      <th>inno_01</th>\n",
       "      <th>lat</th>\n",
       "      <th>lng</th>\n",
       "      <th>size</th>\n",
       "      <th>color</th>\n",
       "    </tr>\n",
       "    <tr>\n",
       "      <th>date</th>\n",
       "      <th>country_y</th>\n",
       "      <th></th>\n",
       "      <th></th>\n",
       "      <th></th>\n",
       "      <th></th>\n",
       "      <th></th>\n",
       "    </tr>\n",
       "  </thead>\n",
       "  <tbody>\n",
       "    <tr>\n",
       "      <th>2013-04-01</th>\n",
       "      <th>Guatemala</th>\n",
       "      <td>1</td>\n",
       "      <td>15.687101</td>\n",
       "      <td>-90.122655</td>\n",
       "      <td>1</td>\n",
       "      <td>fuchsia</td>\n",
       "    </tr>\n",
       "    <tr>\n",
       "      <th>2013-04-03</th>\n",
       "      <th>México</th>\n",
       "      <td>1</td>\n",
       "      <td>23.658512</td>\n",
       "      <td>-102.007710</td>\n",
       "      <td>1</td>\n",
       "      <td>fuchsia</td>\n",
       "    </tr>\n",
       "    <tr>\n",
       "      <th>2013-04-04</th>\n",
       "      <th>España</th>\n",
       "      <td>1</td>\n",
       "      <td>39.491522</td>\n",
       "      <td>-0.473903</td>\n",
       "      <td>1</td>\n",
       "      <td>fuchsia</td>\n",
       "    </tr>\n",
       "    <tr>\n",
       "      <th>2013-04-05</th>\n",
       "      <th>Venezuela</th>\n",
       "      <td>1</td>\n",
       "      <td>10.237514</td>\n",
       "      <td>-67.589022</td>\n",
       "      <td>1</td>\n",
       "      <td>fuchsia</td>\n",
       "    </tr>\n",
       "    <tr>\n",
       "      <th>2013-05-03</th>\n",
       "      <th>France</th>\n",
       "      <td>1</td>\n",
       "      <td>44.763984</td>\n",
       "      <td>4.915850</td>\n",
       "      <td>1</td>\n",
       "      <td>fuchsia</td>\n",
       "    </tr>\n",
       "    <tr>\n",
       "      <th>2013-05-08</th>\n",
       "      <th>México</th>\n",
       "      <td>1</td>\n",
       "      <td>23.658512</td>\n",
       "      <td>-102.007710</td>\n",
       "      <td>1</td>\n",
       "      <td>fuchsia</td>\n",
       "    </tr>\n",
       "    <tr>\n",
       "      <th>2013-06-03</th>\n",
       "      <th>中国</th>\n",
       "      <td>1</td>\n",
       "      <td>43.813074</td>\n",
       "      <td>125.317122</td>\n",
       "      <td>1</td>\n",
       "      <td>fuchsia</td>\n",
       "    </tr>\n",
       "    <tr>\n",
       "      <th rowspan=\"2\" valign=\"top\">2013-06-05</th>\n",
       "      <th>Argentina</th>\n",
       "      <td>1</td>\n",
       "      <td>-33.123759</td>\n",
       "      <td>-64.348978</td>\n",
       "      <td>1</td>\n",
       "      <td>fuchsia</td>\n",
       "    </tr>\n",
       "    <tr>\n",
       "      <th>España</th>\n",
       "      <td>1</td>\n",
       "      <td>39.491522</td>\n",
       "      <td>-0.473903</td>\n",
       "      <td>1</td>\n",
       "      <td>fuchsia</td>\n",
       "    </tr>\n",
       "    <tr>\n",
       "      <th>2013-06-06</th>\n",
       "      <th>Argentina</th>\n",
       "      <td>1</td>\n",
       "      <td>-33.123759</td>\n",
       "      <td>-64.348978</td>\n",
       "      <td>1</td>\n",
       "      <td>fuchsia</td>\n",
       "    </tr>\n",
       "  </tbody>\n",
       "</table>\n",
       "</div>"
      ],
      "text/plain": [
       "                      inno_01        lat         lng  size    color\n",
       "date       country_y                                               \n",
       "2013-04-01 Guatemala        1  15.687101  -90.122655     1  fuchsia\n",
       "2013-04-03 México           1  23.658512 -102.007710     1  fuchsia\n",
       "2013-04-04 España           1  39.491522   -0.473903     1  fuchsia\n",
       "2013-04-05 Venezuela        1  10.237514  -67.589022     1  fuchsia\n",
       "2013-05-03 France           1  44.763984    4.915850     1  fuchsia\n",
       "2013-05-08 México           1  23.658512 -102.007710     1  fuchsia\n",
       "2013-06-03 中国               1  43.813074  125.317122     1  fuchsia\n",
       "2013-06-05 Argentina        1 -33.123759  -64.348978     1  fuchsia\n",
       "           España           1  39.491522   -0.473903     1  fuchsia\n",
       "2013-06-06 Argentina        1 -33.123759  -64.348978     1  fuchsia"
      ]
     },
     "execution_count": 174,
     "metadata": {},
     "output_type": "execute_result"
    }
   ],
   "source": [
    "df = process_geocodedtwitter_data(df)\n",
    "df.head(10)"
   ]
  },
  {
   "cell_type": "code",
   "execution_count": 175,
   "metadata": {},
   "outputs": [
    {
     "data": {
      "text/html": [
       "<div>\n",
       "<style scoped>\n",
       "    .dataframe tbody tr th:only-of-type {\n",
       "        vertical-align: middle;\n",
       "    }\n",
       "\n",
       "    .dataframe tbody tr th {\n",
       "        vertical-align: top;\n",
       "    }\n",
       "\n",
       "    .dataframe thead th {\n",
       "        text-align: right;\n",
       "    }\n",
       "</style>\n",
       "<table border=\"1\" class=\"dataframe\">\n",
       "  <thead>\n",
       "    <tr style=\"text-align: right;\">\n",
       "      <th></th>\n",
       "      <th>inno_01</th>\n",
       "      <th>lat</th>\n",
       "      <th>lng</th>\n",
       "      <th>size</th>\n",
       "      <th>color</th>\n",
       "    </tr>\n",
       "    <tr>\n",
       "      <th>country_y</th>\n",
       "      <th></th>\n",
       "      <th></th>\n",
       "      <th></th>\n",
       "      <th></th>\n",
       "      <th></th>\n",
       "    </tr>\n",
       "  </thead>\n",
       "  <tbody>\n",
       "    <tr>\n",
       "      <th>Venezuela</th>\n",
       "      <td>1</td>\n",
       "      <td>10.237514</td>\n",
       "      <td>-67.589022</td>\n",
       "      <td>1</td>\n",
       "      <td>fuchsia</td>\n",
       "    </tr>\n",
       "  </tbody>\n",
       "</table>\n",
       "</div>"
      ],
      "text/plain": [
       "           inno_01        lat        lng  size    color\n",
       "country_y                                              \n",
       "Venezuela        1  10.237514 -67.589022     1  fuchsia"
      ]
     },
     "execution_count": 175,
     "metadata": {},
     "output_type": "execute_result"
    }
   ],
   "source": [
    "day = df.index[-1][0]\n",
    "tmp = df.xs(day)\n",
    "tmp"
   ]
  },
  {
   "cell_type": "markdown",
   "metadata": {},
   "source": [
    "import plotly.express as px\n",
    "\n",
    "fig = px.scatter_mapbox(tmp, lat=\"lat\", lon=\"lng\", hover_name=\"color\", hover_data=[\"size\"],\n",
    "                        color = \"color\",\n",
    "                        size = 'size',\n",
    "                        color_continuous_scale=px.colors.cyclical.IceFire,\n",
    "                        zoom=3, height=400)\n",
    "fig.update_layout(mapbox_style=\"open-street-map\")\n",
    "fig.update_layout(margin={\"r\":0,\"t\":0,\"l\":0,\"b\":0})\n",
    "\n",
    "\n",
    "# Display the figure\n",
    "fig.show()\n"
   ]
  },
  {
   "cell_type": "code",
   "execution_count": 184,
   "metadata": {},
   "outputs": [
    {
     "data": {
      "application/vnd.plotly.v1+json": {
       "config": {
        "plotlyServerURL": "https://plot.ly"
       },
       "data": [
        {
         "lat": [
          10.2375144
         ],
         "lon": [
          -67.5890216
         ],
         "marker": {
          "color": "fuchsia",
          "colorbar": {
           "thickness": 4,
           "tickprefix": " Inno Nr.: ",
           "title": {
            "side": "top",
            "text": "Innovations"
           }
          },
          "showscale": true,
          "size": [
           10
          ]
         },
         "mode": "markers",
         "type": "scattermapbox"
        }
       ],
       "layout": {
        "mapbox": {
         "accesstoken": "sk.eyJ1IjoibGludXNyZyIsImEiOiJjbDNoNG0xbzAxODh6M2xwcnY5YjBjdzBzIn0.5y7lSclNZuEcjPIDDOwhVg",
         "center": {
          "lat": 7,
          "lon": -33
         },
         "style": "open-street-map",
         "zoom": 1
        },
        "template": {
         "data": {
          "bar": [
           {
            "error_x": {
             "color": "#2a3f5f"
            },
            "error_y": {
             "color": "#2a3f5f"
            },
            "marker": {
             "line": {
              "color": "#E5ECF6",
              "width": 0.5
             },
             "pattern": {
              "fillmode": "overlay",
              "size": 10,
              "solidity": 0.2
             }
            },
            "type": "bar"
           }
          ],
          "barpolar": [
           {
            "marker": {
             "line": {
              "color": "#E5ECF6",
              "width": 0.5
             },
             "pattern": {
              "fillmode": "overlay",
              "size": 10,
              "solidity": 0.2
             }
            },
            "type": "barpolar"
           }
          ],
          "carpet": [
           {
            "aaxis": {
             "endlinecolor": "#2a3f5f",
             "gridcolor": "white",
             "linecolor": "white",
             "minorgridcolor": "white",
             "startlinecolor": "#2a3f5f"
            },
            "baxis": {
             "endlinecolor": "#2a3f5f",
             "gridcolor": "white",
             "linecolor": "white",
             "minorgridcolor": "white",
             "startlinecolor": "#2a3f5f"
            },
            "type": "carpet"
           }
          ],
          "choropleth": [
           {
            "colorbar": {
             "outlinewidth": 0,
             "ticks": ""
            },
            "type": "choropleth"
           }
          ],
          "contour": [
           {
            "colorbar": {
             "outlinewidth": 0,
             "ticks": ""
            },
            "colorscale": [
             [
              0,
              "#0d0887"
             ],
             [
              0.1111111111111111,
              "#46039f"
             ],
             [
              0.2222222222222222,
              "#7201a8"
             ],
             [
              0.3333333333333333,
              "#9c179e"
             ],
             [
              0.4444444444444444,
              "#bd3786"
             ],
             [
              0.5555555555555556,
              "#d8576b"
             ],
             [
              0.6666666666666666,
              "#ed7953"
             ],
             [
              0.7777777777777778,
              "#fb9f3a"
             ],
             [
              0.8888888888888888,
              "#fdca26"
             ],
             [
              1,
              "#f0f921"
             ]
            ],
            "type": "contour"
           }
          ],
          "contourcarpet": [
           {
            "colorbar": {
             "outlinewidth": 0,
             "ticks": ""
            },
            "type": "contourcarpet"
           }
          ],
          "heatmap": [
           {
            "colorbar": {
             "outlinewidth": 0,
             "ticks": ""
            },
            "colorscale": [
             [
              0,
              "#0d0887"
             ],
             [
              0.1111111111111111,
              "#46039f"
             ],
             [
              0.2222222222222222,
              "#7201a8"
             ],
             [
              0.3333333333333333,
              "#9c179e"
             ],
             [
              0.4444444444444444,
              "#bd3786"
             ],
             [
              0.5555555555555556,
              "#d8576b"
             ],
             [
              0.6666666666666666,
              "#ed7953"
             ],
             [
              0.7777777777777778,
              "#fb9f3a"
             ],
             [
              0.8888888888888888,
              "#fdca26"
             ],
             [
              1,
              "#f0f921"
             ]
            ],
            "type": "heatmap"
           }
          ],
          "heatmapgl": [
           {
            "colorbar": {
             "outlinewidth": 0,
             "ticks": ""
            },
            "colorscale": [
             [
              0,
              "#0d0887"
             ],
             [
              0.1111111111111111,
              "#46039f"
             ],
             [
              0.2222222222222222,
              "#7201a8"
             ],
             [
              0.3333333333333333,
              "#9c179e"
             ],
             [
              0.4444444444444444,
              "#bd3786"
             ],
             [
              0.5555555555555556,
              "#d8576b"
             ],
             [
              0.6666666666666666,
              "#ed7953"
             ],
             [
              0.7777777777777778,
              "#fb9f3a"
             ],
             [
              0.8888888888888888,
              "#fdca26"
             ],
             [
              1,
              "#f0f921"
             ]
            ],
            "type": "heatmapgl"
           }
          ],
          "histogram": [
           {
            "marker": {
             "pattern": {
              "fillmode": "overlay",
              "size": 10,
              "solidity": 0.2
             }
            },
            "type": "histogram"
           }
          ],
          "histogram2d": [
           {
            "colorbar": {
             "outlinewidth": 0,
             "ticks": ""
            },
            "colorscale": [
             [
              0,
              "#0d0887"
             ],
             [
              0.1111111111111111,
              "#46039f"
             ],
             [
              0.2222222222222222,
              "#7201a8"
             ],
             [
              0.3333333333333333,
              "#9c179e"
             ],
             [
              0.4444444444444444,
              "#bd3786"
             ],
             [
              0.5555555555555556,
              "#d8576b"
             ],
             [
              0.6666666666666666,
              "#ed7953"
             ],
             [
              0.7777777777777778,
              "#fb9f3a"
             ],
             [
              0.8888888888888888,
              "#fdca26"
             ],
             [
              1,
              "#f0f921"
             ]
            ],
            "type": "histogram2d"
           }
          ],
          "histogram2dcontour": [
           {
            "colorbar": {
             "outlinewidth": 0,
             "ticks": ""
            },
            "colorscale": [
             [
              0,
              "#0d0887"
             ],
             [
              0.1111111111111111,
              "#46039f"
             ],
             [
              0.2222222222222222,
              "#7201a8"
             ],
             [
              0.3333333333333333,
              "#9c179e"
             ],
             [
              0.4444444444444444,
              "#bd3786"
             ],
             [
              0.5555555555555556,
              "#d8576b"
             ],
             [
              0.6666666666666666,
              "#ed7953"
             ],
             [
              0.7777777777777778,
              "#fb9f3a"
             ],
             [
              0.8888888888888888,
              "#fdca26"
             ],
             [
              1,
              "#f0f921"
             ]
            ],
            "type": "histogram2dcontour"
           }
          ],
          "mesh3d": [
           {
            "colorbar": {
             "outlinewidth": 0,
             "ticks": ""
            },
            "type": "mesh3d"
           }
          ],
          "parcoords": [
           {
            "line": {
             "colorbar": {
              "outlinewidth": 0,
              "ticks": ""
             }
            },
            "type": "parcoords"
           }
          ],
          "pie": [
           {
            "automargin": true,
            "type": "pie"
           }
          ],
          "scatter": [
           {
            "fillpattern": {
             "fillmode": "overlay",
             "size": 10,
             "solidity": 0.2
            },
            "type": "scatter"
           }
          ],
          "scatter3d": [
           {
            "line": {
             "colorbar": {
              "outlinewidth": 0,
              "ticks": ""
             }
            },
            "marker": {
             "colorbar": {
              "outlinewidth": 0,
              "ticks": ""
             }
            },
            "type": "scatter3d"
           }
          ],
          "scattercarpet": [
           {
            "marker": {
             "colorbar": {
              "outlinewidth": 0,
              "ticks": ""
             }
            },
            "type": "scattercarpet"
           }
          ],
          "scattergeo": [
           {
            "marker": {
             "colorbar": {
              "outlinewidth": 0,
              "ticks": ""
             }
            },
            "type": "scattergeo"
           }
          ],
          "scattergl": [
           {
            "marker": {
             "colorbar": {
              "outlinewidth": 0,
              "ticks": ""
             }
            },
            "type": "scattergl"
           }
          ],
          "scattermapbox": [
           {
            "marker": {
             "colorbar": {
              "outlinewidth": 0,
              "ticks": ""
             }
            },
            "type": "scattermapbox"
           }
          ],
          "scatterpolar": [
           {
            "marker": {
             "colorbar": {
              "outlinewidth": 0,
              "ticks": ""
             }
            },
            "type": "scatterpolar"
           }
          ],
          "scatterpolargl": [
           {
            "marker": {
             "colorbar": {
              "outlinewidth": 0,
              "ticks": ""
             }
            },
            "type": "scatterpolargl"
           }
          ],
          "scatterternary": [
           {
            "marker": {
             "colorbar": {
              "outlinewidth": 0,
              "ticks": ""
             }
            },
            "type": "scatterternary"
           }
          ],
          "surface": [
           {
            "colorbar": {
             "outlinewidth": 0,
             "ticks": ""
            },
            "colorscale": [
             [
              0,
              "#0d0887"
             ],
             [
              0.1111111111111111,
              "#46039f"
             ],
             [
              0.2222222222222222,
              "#7201a8"
             ],
             [
              0.3333333333333333,
              "#9c179e"
             ],
             [
              0.4444444444444444,
              "#bd3786"
             ],
             [
              0.5555555555555556,
              "#d8576b"
             ],
             [
              0.6666666666666666,
              "#ed7953"
             ],
             [
              0.7777777777777778,
              "#fb9f3a"
             ],
             [
              0.8888888888888888,
              "#fdca26"
             ],
             [
              1,
              "#f0f921"
             ]
            ],
            "type": "surface"
           }
          ],
          "table": [
           {
            "cells": {
             "fill": {
              "color": "#EBF0F8"
             },
             "line": {
              "color": "white"
             }
            },
            "header": {
             "fill": {
              "color": "#C8D4E3"
             },
             "line": {
              "color": "white"
             }
            },
            "type": "table"
           }
          ]
         },
         "layout": {
          "annotationdefaults": {
           "arrowcolor": "#2a3f5f",
           "arrowhead": 0,
           "arrowwidth": 1
          },
          "autotypenumbers": "strict",
          "coloraxis": {
           "colorbar": {
            "outlinewidth": 0,
            "ticks": ""
           }
          },
          "colorscale": {
           "diverging": [
            [
             0,
             "#8e0152"
            ],
            [
             0.1,
             "#c51b7d"
            ],
            [
             0.2,
             "#de77ae"
            ],
            [
             0.3,
             "#f1b6da"
            ],
            [
             0.4,
             "#fde0ef"
            ],
            [
             0.5,
             "#f7f7f7"
            ],
            [
             0.6,
             "#e6f5d0"
            ],
            [
             0.7,
             "#b8e186"
            ],
            [
             0.8,
             "#7fbc41"
            ],
            [
             0.9,
             "#4d9221"
            ],
            [
             1,
             "#276419"
            ]
           ],
           "sequential": [
            [
             0,
             "#0d0887"
            ],
            [
             0.1111111111111111,
             "#46039f"
            ],
            [
             0.2222222222222222,
             "#7201a8"
            ],
            [
             0.3333333333333333,
             "#9c179e"
            ],
            [
             0.4444444444444444,
             "#bd3786"
            ],
            [
             0.5555555555555556,
             "#d8576b"
            ],
            [
             0.6666666666666666,
             "#ed7953"
            ],
            [
             0.7777777777777778,
             "#fb9f3a"
            ],
            [
             0.8888888888888888,
             "#fdca26"
            ],
            [
             1,
             "#f0f921"
            ]
           ],
           "sequentialminus": [
            [
             0,
             "#0d0887"
            ],
            [
             0.1111111111111111,
             "#46039f"
            ],
            [
             0.2222222222222222,
             "#7201a8"
            ],
            [
             0.3333333333333333,
             "#9c179e"
            ],
            [
             0.4444444444444444,
             "#bd3786"
            ],
            [
             0.5555555555555556,
             "#d8576b"
            ],
            [
             0.6666666666666666,
             "#ed7953"
            ],
            [
             0.7777777777777778,
             "#fb9f3a"
            ],
            [
             0.8888888888888888,
             "#fdca26"
            ],
            [
             1,
             "#f0f921"
            ]
           ]
          },
          "colorway": [
           "#636efa",
           "#EF553B",
           "#00cc96",
           "#ab63fa",
           "#FFA15A",
           "#19d3f3",
           "#FF6692",
           "#B6E880",
           "#FF97FF",
           "#FECB52"
          ],
          "font": {
           "color": "#2a3f5f"
          },
          "geo": {
           "bgcolor": "white",
           "lakecolor": "white",
           "landcolor": "#E5ECF6",
           "showlakes": true,
           "showland": true,
           "subunitcolor": "white"
          },
          "hoverlabel": {
           "align": "left"
          },
          "hovermode": "closest",
          "mapbox": {
           "style": "light"
          },
          "paper_bgcolor": "white",
          "plot_bgcolor": "#E5ECF6",
          "polar": {
           "angularaxis": {
            "gridcolor": "white",
            "linecolor": "white",
            "ticks": ""
           },
           "bgcolor": "#E5ECF6",
           "radialaxis": {
            "gridcolor": "white",
            "linecolor": "white",
            "ticks": ""
           }
          },
          "scene": {
           "xaxis": {
            "backgroundcolor": "#E5ECF6",
            "gridcolor": "white",
            "gridwidth": 2,
            "linecolor": "white",
            "showbackground": true,
            "ticks": "",
            "zerolinecolor": "white"
           },
           "yaxis": {
            "backgroundcolor": "#E5ECF6",
            "gridcolor": "white",
            "gridwidth": 2,
            "linecolor": "white",
            "showbackground": true,
            "ticks": "",
            "zerolinecolor": "white"
           },
           "zaxis": {
            "backgroundcolor": "#E5ECF6",
            "gridcolor": "white",
            "gridwidth": 2,
            "linecolor": "white",
            "showbackground": true,
            "ticks": "",
            "zerolinecolor": "white"
           }
          },
          "shapedefaults": {
           "line": {
            "color": "#2a3f5f"
           }
          },
          "ternary": {
           "aaxis": {
            "gridcolor": "white",
            "linecolor": "white",
            "ticks": ""
           },
           "baxis": {
            "gridcolor": "white",
            "linecolor": "white",
            "ticks": ""
           },
           "bgcolor": "#E5ECF6",
           "caxis": {
            "gridcolor": "white",
            "linecolor": "white",
            "ticks": ""
           }
          },
          "title": {
           "x": 0.05
          },
          "xaxis": {
           "automargin": true,
           "gridcolor": "white",
           "linecolor": "white",
           "ticks": "",
           "title": {
            "standoff": 15
           },
           "zerolinecolor": "white",
           "zerolinewidth": 2
          },
          "yaxis": {
           "automargin": true,
           "gridcolor": "white",
           "linecolor": "white",
           "ticks": "",
           "title": {
            "standoff": 15
           },
           "zerolinecolor": "white",
           "zerolinewidth": 2
          }
         }
        }
       }
      }
     },
     "metadata": {},
     "output_type": "display_data"
    }
   ],
   "source": [
    "# Selecting the day to display\n",
    "#day = '2012-01-01'\n",
    "#tmp = df#.xs(day)\n",
    "\n",
    "# Create the figure and feed it all the prepared columns\n",
    "fig = go.Figure(\n",
    "    go.Scattermapbox(\n",
    "        lat=tmp['lat'],\n",
    "        lon=tmp['lng'],\n",
    "        mode='markers',\n",
    "        marker=go.scattermapbox.Marker(\n",
    "            size=tmp['size']*10,\n",
    "            color='fuchsia',\n",
    "            showscale=True,\n",
    "            colorbar={'title':'Innovations', 'titleside':'top', 'thickness':4, 'tickprefix':' Inno Nr.: '}\n",
    "        )\n",
    "    )\n",
    ")\n",
    "# Specify layout information\n",
    "fig.update_layout(\n",
    "    mapbox=dict(\n",
    "        accesstoken=mapbox_token,\n",
    "        center=go.layout.mapbox.Center(lat=7, lon=-33),\n",
    "        zoom=1,\n",
    "        style=\"open-street-map\"\n",
    "    ),\n",
    "\n",
    ")\n",
    "\n",
    "# Display the figure\n",
    "fig.show()"
   ]
  },
  {
   "cell_type": "code",
   "execution_count": 177,
   "metadata": {},
   "outputs": [
    {
     "data": {
      "text/html": [
       "<div>\n",
       "<style scoped>\n",
       "    .dataframe tbody tr th:only-of-type {\n",
       "        vertical-align: middle;\n",
       "    }\n",
       "\n",
       "    .dataframe tbody tr th {\n",
       "        vertical-align: top;\n",
       "    }\n",
       "\n",
       "    .dataframe thead th {\n",
       "        text-align: right;\n",
       "    }\n",
       "</style>\n",
       "<table border=\"1\" class=\"dataframe\">\n",
       "  <thead>\n",
       "    <tr style=\"text-align: right;\">\n",
       "      <th></th>\n",
       "      <th></th>\n",
       "      <th>inno_01</th>\n",
       "      <th>lat</th>\n",
       "      <th>lng</th>\n",
       "      <th>size</th>\n",
       "      <th>color</th>\n",
       "    </tr>\n",
       "    <tr>\n",
       "      <th>date</th>\n",
       "      <th>country_y</th>\n",
       "      <th></th>\n",
       "      <th></th>\n",
       "      <th></th>\n",
       "      <th></th>\n",
       "      <th></th>\n",
       "    </tr>\n",
       "  </thead>\n",
       "  <tbody>\n",
       "    <tr>\n",
       "      <th>2013-04-01</th>\n",
       "      <th>Guatemala</th>\n",
       "      <td>1</td>\n",
       "      <td>15.687101</td>\n",
       "      <td>-90.122655</td>\n",
       "      <td>1</td>\n",
       "      <td>fuchsia</td>\n",
       "    </tr>\n",
       "    <tr>\n",
       "      <th>2013-04-03</th>\n",
       "      <th>México</th>\n",
       "      <td>1</td>\n",
       "      <td>23.658512</td>\n",
       "      <td>-102.007710</td>\n",
       "      <td>1</td>\n",
       "      <td>fuchsia</td>\n",
       "    </tr>\n",
       "    <tr>\n",
       "      <th>2013-04-04</th>\n",
       "      <th>España</th>\n",
       "      <td>1</td>\n",
       "      <td>39.491522</td>\n",
       "      <td>-0.473903</td>\n",
       "      <td>1</td>\n",
       "      <td>fuchsia</td>\n",
       "    </tr>\n",
       "    <tr>\n",
       "      <th>2013-04-05</th>\n",
       "      <th>Venezuela</th>\n",
       "      <td>1</td>\n",
       "      <td>10.237514</td>\n",
       "      <td>-67.589022</td>\n",
       "      <td>1</td>\n",
       "      <td>fuchsia</td>\n",
       "    </tr>\n",
       "    <tr>\n",
       "      <th>2013-05-03</th>\n",
       "      <th>France</th>\n",
       "      <td>1</td>\n",
       "      <td>44.763984</td>\n",
       "      <td>4.915850</td>\n",
       "      <td>1</td>\n",
       "      <td>fuchsia</td>\n",
       "    </tr>\n",
       "    <tr>\n",
       "      <th>...</th>\n",
       "      <th>...</th>\n",
       "      <td>...</td>\n",
       "      <td>...</td>\n",
       "      <td>...</td>\n",
       "      <td>...</td>\n",
       "      <td>...</td>\n",
       "    </tr>\n",
       "    <tr>\n",
       "      <th>2019-07-02</th>\n",
       "      <th>Colombia</th>\n",
       "      <td>1</td>\n",
       "      <td>3.451792</td>\n",
       "      <td>-76.532494</td>\n",
       "      <td>1</td>\n",
       "      <td>fuchsia</td>\n",
       "    </tr>\n",
       "    <tr>\n",
       "      <th>2019-07-05</th>\n",
       "      <th>Argentina</th>\n",
       "      <td>1</td>\n",
       "      <td>-33.123759</td>\n",
       "      <td>-64.348978</td>\n",
       "      <td>1</td>\n",
       "      <td>fuchsia</td>\n",
       "    </tr>\n",
       "    <tr>\n",
       "      <th>2019-08-03</th>\n",
       "      <th>Colombia</th>\n",
       "      <td>1</td>\n",
       "      <td>3.451792</td>\n",
       "      <td>-76.532494</td>\n",
       "      <td>1</td>\n",
       "      <td>fuchsia</td>\n",
       "    </tr>\n",
       "    <tr>\n",
       "      <th>2019-09-06</th>\n",
       "      <th>España</th>\n",
       "      <td>1</td>\n",
       "      <td>39.491522</td>\n",
       "      <td>-0.473903</td>\n",
       "      <td>1</td>\n",
       "      <td>fuchsia</td>\n",
       "    </tr>\n",
       "    <tr>\n",
       "      <th>2019-10-08</th>\n",
       "      <th>Venezuela</th>\n",
       "      <td>1</td>\n",
       "      <td>10.237514</td>\n",
       "      <td>-67.589022</td>\n",
       "      <td>1</td>\n",
       "      <td>fuchsia</td>\n",
       "    </tr>\n",
       "  </tbody>\n",
       "</table>\n",
       "<p>268 rows × 5 columns</p>\n",
       "</div>"
      ],
      "text/plain": [
       "                      inno_01        lat         lng  size    color\n",
       "date       country_y                                               \n",
       "2013-04-01 Guatemala        1  15.687101  -90.122655     1  fuchsia\n",
       "2013-04-03 México           1  23.658512 -102.007710     1  fuchsia\n",
       "2013-04-04 España           1  39.491522   -0.473903     1  fuchsia\n",
       "2013-04-05 Venezuela        1  10.237514  -67.589022     1  fuchsia\n",
       "2013-05-03 France           1  44.763984    4.915850     1  fuchsia\n",
       "...                       ...        ...         ...   ...      ...\n",
       "2019-07-02 Colombia         1   3.451792  -76.532494     1  fuchsia\n",
       "2019-07-05 Argentina        1 -33.123759  -64.348978     1  fuchsia\n",
       "2019-08-03 Colombia         1   3.451792  -76.532494     1  fuchsia\n",
       "2019-09-06 España           1  39.491522   -0.473903     1  fuchsia\n",
       "2019-10-08 Venezuela        1  10.237514  -67.589022     1  fuchsia\n",
       "\n",
       "[268 rows x 5 columns]"
      ]
     },
     "execution_count": 177,
     "metadata": {},
     "output_type": "execute_result"
    }
   ],
   "source": [
    "df\n"
   ]
  },
  {
   "cell_type": "code",
   "execution_count": 178,
   "metadata": {},
   "outputs": [],
   "source": [
    "days = df.index.levels[0].tolist()"
   ]
  },
  {
   "cell_type": "code",
   "execution_count": 179,
   "metadata": {},
   "outputs": [],
   "source": [
    "frames = [{   \n",
    "    'name':'frame_{}'.format(day),\n",
    "    'data':[{\n",
    "        'type':'scattermapbox',\n",
    "        'lat':df.xs(day)['lat'],\n",
    "        'lon':df.xs(day)['lng'],\n",
    "        'marker':go.scattermapbox.Marker(\n",
    "            size=df.xs(day)['size'],\n",
    "            color=df.xs(day)['color'],\n",
    "            showscale=True,\n",
    "            colorbar={'title':'Innovations', 'titleside':'top', 'thickness':4, 'tickprefix':' Inno Nr.: '},\n",
    "        )#,\n",
    "        #'customdata':np.stack((df.xs(day)['confirmed_display'], df.xs(day)['recovered_display'],  df.xs(day)['deaths_display'], pd.Series(df.xs(day).index)), axis=-1),\n",
    "        #'hovertemplate': \"<extra></extra><em>%{customdata[3]}  </em><br>🚨  %{customdata[0]}<br>🏡  %{customdata[1]}<br>⚰️  %{customdata[2]}\",\n",
    "    }],           \n",
    "} for day in days]  "
   ]
  },
  {
   "cell_type": "code",
   "execution_count": 180,
   "metadata": {},
   "outputs": [],
   "source": [
    "sliders = [{\n",
    "    'transition':{'duration': 0},\n",
    "    'x':0.08, \n",
    "    'len':0.88,\n",
    "    'currentvalue':{'font':{'size':15}, 'prefix':'📅 ', 'visible':True, 'xanchor':'center'},  \n",
    "    'steps':[{'label':str(day),\n",
    "            'method':'animate',\n",
    "            'args':[\n",
    "                ['frame_{}'.format(day)],\n",
    "                {'mode':'immediate', 'frame':{'duration':100, 'redraw': True}, 'transition':{'duration':50}}\n",
    "              ],\n",
    "        } for day in days]\n",
    "}]\n",
    "\n"
   ]
  },
  {
   "cell_type": "code",
   "execution_count": 181,
   "metadata": {},
   "outputs": [],
   "source": [
    "play_button = [{\n",
    "    'type':'buttons',\n",
    "    'showactive':True,\n",
    "    'x':0.045, 'y':-0.08,\n",
    "    'buttons':[{ \n",
    "        'label':'🎬', # Play\n",
    "        'method':'animate',\n",
    "        'args':[\n",
    "            None,\n",
    "            {\n",
    "                'frame':{'duration':100, 'redraw':True},\n",
    "                'transition':{'duration':50},\n",
    "                'fromcurrent':True,\n",
    "                'mode':'immediate',\n",
    "            }\n",
    "        ]\n",
    "    }]\n",
    "}]"
   ]
  },
  {
   "cell_type": "code",
   "execution_count": 182,
   "metadata": {},
   "outputs": [
    {
     "data": {
      "application/vnd.plotly.v1+json": {
       "config": {
        "plotlyServerURL": "https://plot.ly"
       },
       "data": [
        {
         "lat": [
          15.687100699999998
         ],
         "lon": [
          -90.12265453178016
         ],
         "marker": {
          "color": [
           "fuchsia"
          ],
          "colorbar": {
           "thickness": 4,
           "tickprefix": " Inno Nr.: ",
           "title": {
            "side": "top",
            "text": "Innovations"
           }
          },
          "showscale": true,
          "size": [
           1
          ]
         },
         "type": "scattermapbox"
        }
       ],
       "frames": [
        {
         "data": [
          {
           "lat": [
            15.687100699999998
           ],
           "lon": [
            -90.12265453178016
           ],
           "marker": {
            "color": [
             "fuchsia"
            ],
            "colorbar": {
             "thickness": 4,
             "tickprefix": " Inno Nr.: ",
             "title": {
              "side": "top",
              "text": "Innovations"
             }
            },
            "showscale": true,
            "size": [
             1
            ]
           },
           "type": "scattermapbox"
          }
         ],
         "name": "frame_2013-04-01"
        },
        {
         "data": [
          {
           "lat": [
            23.6585116
           ],
           "lon": [
            -102.0077097
           ],
           "marker": {
            "color": [
             "fuchsia"
            ],
            "colorbar": {
             "thickness": 4,
             "tickprefix": " Inno Nr.: ",
             "title": {
              "side": "top",
              "text": "Innovations"
             }
            },
            "showscale": true,
            "size": [
             1
            ]
           },
           "type": "scattermapbox"
          }
         ],
         "name": "frame_2013-04-03"
        },
        {
         "data": [
          {
           "lat": [
            39.49152155
           ],
           "lon": [
            -0.4739026334391784
           ],
           "marker": {
            "color": [
             "fuchsia"
            ],
            "colorbar": {
             "thickness": 4,
             "tickprefix": " Inno Nr.: ",
             "title": {
              "side": "top",
              "text": "Innovations"
             }
            },
            "showscale": true,
            "size": [
             1
            ]
           },
           "type": "scattermapbox"
          }
         ],
         "name": "frame_2013-04-04"
        },
        {
         "data": [
          {
           "lat": [
            10.2375144
           ],
           "lon": [
            -67.5890216
           ],
           "marker": {
            "color": [
             "fuchsia"
            ],
            "colorbar": {
             "thickness": 4,
             "tickprefix": " Inno Nr.: ",
             "title": {
              "side": "top",
              "text": "Innovations"
             }
            },
            "showscale": true,
            "size": [
             1
            ]
           },
           "type": "scattermapbox"
          }
         ],
         "name": "frame_2013-04-05"
        },
        {
         "data": [
          {
           "lat": [
            44.7639843
           ],
           "lon": [
            4.9158503
           ],
           "marker": {
            "color": [
             "fuchsia"
            ],
            "colorbar": {
             "thickness": 4,
             "tickprefix": " Inno Nr.: ",
             "title": {
              "side": "top",
              "text": "Innovations"
             }
            },
            "showscale": true,
            "size": [
             1
            ]
           },
           "type": "scattermapbox"
          }
         ],
         "name": "frame_2013-05-03"
        },
        {
         "data": [
          {
           "lat": [
            23.6585116
           ],
           "lon": [
            -102.0077097
           ],
           "marker": {
            "color": [
             "fuchsia"
            ],
            "colorbar": {
             "thickness": 4,
             "tickprefix": " Inno Nr.: ",
             "title": {
              "side": "top",
              "text": "Innovations"
             }
            },
            "showscale": true,
            "size": [
             1
            ]
           },
           "type": "scattermapbox"
          }
         ],
         "name": "frame_2013-05-08"
        },
        {
         "data": [
          {
           "lat": [
            43.8130735
           ],
           "lon": [
            125.3171216
           ],
           "marker": {
            "color": [
             "fuchsia"
            ],
            "colorbar": {
             "thickness": 4,
             "tickprefix": " Inno Nr.: ",
             "title": {
              "side": "top",
              "text": "Innovations"
             }
            },
            "showscale": true,
            "size": [
             1
            ]
           },
           "type": "scattermapbox"
          }
         ],
         "name": "frame_2013-06-03"
        },
        {
         "data": [
          {
           "lat": [
            -33.1237585,
            39.49152155
           ],
           "lon": [
            -64.3489782,
            -0.4739026334391784
           ],
           "marker": {
            "color": [
             "fuchsia",
             "fuchsia"
            ],
            "colorbar": {
             "thickness": 4,
             "tickprefix": " Inno Nr.: ",
             "title": {
              "side": "top",
              "text": "Innovations"
             }
            },
            "showscale": true,
            "size": [
             1,
             1
            ]
           },
           "type": "scattermapbox"
          }
         ],
         "name": "frame_2013-06-05"
        },
        {
         "data": [
          {
           "lat": [
            -33.1237585
           ],
           "lon": [
            -64.3489782
           ],
           "marker": {
            "color": [
             "fuchsia"
            ],
            "colorbar": {
             "thickness": 4,
             "tickprefix": " Inno Nr.: ",
             "title": {
              "side": "top",
              "text": "Innovations"
             }
            },
            "showscale": true,
            "size": [
             1
            ]
           },
           "type": "scattermapbox"
          }
         ],
         "name": "frame_2013-06-06"
        },
        {
         "data": [
          {
           "lat": [
            3.4517923,
            -2.1900703
           ],
           "lon": [
            -76.5324943,
            -79.8868702
           ],
           "marker": {
            "color": [
             "fuchsia",
             "fuchsia"
            ],
            "colorbar": {
             "thickness": 4,
             "tickprefix": " Inno Nr.: ",
             "title": {
              "side": "top",
              "text": "Innovations"
             }
            },
            "showscale": true,
            "size": [
             1,
             1
            ]
           },
           "type": "scattermapbox"
          }
         ],
         "name": "frame_2013-07-02"
        },
        {
         "data": [
          {
           "lat": [
            -33.1237585
           ],
           "lon": [
            -64.3489782
           ],
           "marker": {
            "color": [
             "fuchsia"
            ],
            "colorbar": {
             "thickness": 4,
             "tickprefix": " Inno Nr.: ",
             "title": {
              "side": "top",
              "text": "Innovations"
             }
            },
            "showscale": true,
            "size": [
             1
            ]
           },
           "type": "scattermapbox"
          }
         ],
         "name": "frame_2013-07-03"
        },
        {
         "data": [
          {
           "lat": [
            -27.3376114
           ],
           "lon": [
            -55.8669492
           ],
           "marker": {
            "color": [
             "fuchsia"
            ],
            "colorbar": {
             "thickness": 4,
             "tickprefix": " Inno Nr.: ",
             "title": {
              "side": "top",
              "text": "Innovations"
             }
            },
            "showscale": true,
            "size": [
             1
            ]
           },
           "type": "scattermapbox"
          }
         ],
         "name": "frame_2013-07-04"
        },
        {
         "data": [
          {
           "lat": [
            3.4517923,
            39.0757461
           ],
           "lon": [
            -76.5324943,
            -84.5521238
           ],
           "marker": {
            "color": [
             "fuchsia",
             "fuchsia"
            ],
            "colorbar": {
             "thickness": 4,
             "tickprefix": " Inno Nr.: ",
             "title": {
              "side": "top",
              "text": "Innovations"
             }
            },
            "showscale": true,
            "size": [
             1,
             1
            ]
           },
           "type": "scattermapbox"
          }
         ],
         "name": "frame_2013-07-05"
        },
        {
         "data": [
          {
           "lat": [
            -33.1237585
           ],
           "lon": [
            -64.3489782
           ],
           "marker": {
            "color": [
             "fuchsia"
            ],
            "colorbar": {
             "thickness": 4,
             "tickprefix": " Inno Nr.: ",
             "title": {
              "side": "top",
              "text": "Innovations"
             }
            },
            "showscale": true,
            "size": [
             1
            ]
           },
           "type": "scattermapbox"
          }
         ],
         "name": "frame_2013-07-06"
        },
        {
         "data": [
          {
           "lat": [
            -33.1237585,
            23.6585116
           ],
           "lon": [
            -64.3489782,
            -102.0077097
           ],
           "marker": {
            "color": [
             "fuchsia",
             "fuchsia"
            ],
            "colorbar": {
             "thickness": 4,
             "tickprefix": " Inno Nr.: ",
             "title": {
              "side": "top",
              "text": "Innovations"
             }
            },
            "showscale": true,
            "size": [
             1,
             1
            ]
           },
           "type": "scattermapbox"
          }
         ],
         "name": "frame_2013-07-07"
        },
        {
         "data": [
          {
           "lat": [
            -33.1237585
           ],
           "lon": [
            -64.3489782
           ],
           "marker": {
            "color": [
             "fuchsia"
            ],
            "colorbar": {
             "thickness": 4,
             "tickprefix": " Inno Nr.: ",
             "title": {
              "side": "top",
              "text": "Innovations"
             }
            },
            "showscale": true,
            "size": [
             1
            ]
           },
           "type": "scattermapbox"
          }
         ],
         "name": "frame_2013-07-08"
        },
        {
         "data": [
          {
           "lat": [
            15.2572432
           ],
           "lon": [
            -86.0755145
           ],
           "marker": {
            "color": [
             "fuchsia"
            ],
            "colorbar": {
             "thickness": 4,
             "tickprefix": " Inno Nr.: ",
             "title": {
              "side": "top",
              "text": "Innovations"
             }
            },
            "showscale": true,
            "size": [
             1
            ]
           },
           "type": "scattermapbox"
          }
         ],
         "name": "frame_2013-08-01"
        },
        {
         "data": [
          {
           "lat": [
            -33.1237585,
            23.6585116
           ],
           "lon": [
            -64.3489782,
            -102.0077097
           ],
           "marker": {
            "color": [
             "fuchsia",
             "fuchsia"
            ],
            "colorbar": {
             "thickness": 4,
             "tickprefix": " Inno Nr.: ",
             "title": {
              "side": "top",
              "text": "Innovations"
             }
            },
            "showscale": true,
            "size": [
             1,
             1
            ]
           },
           "type": "scattermapbox"
          }
         ],
         "name": "frame_2013-08-02"
        },
        {
         "data": [
          {
           "lat": [
            15.687100699999998,
            23.6585116,
            39.0757461
           ],
           "lon": [
            -90.12265453178016,
            -102.0077097,
            -84.5521238
           ],
           "marker": {
            "color": [
             "fuchsia",
             "fuchsia",
             "fuchsia"
            ],
            "colorbar": {
             "thickness": 4,
             "tickprefix": " Inno Nr.: ",
             "title": {
              "side": "top",
              "text": "Innovations"
             }
            },
            "showscale": true,
            "size": [
             1,
             1,
             1
            ]
           },
           "type": "scattermapbox"
          }
         ],
         "name": "frame_2013-08-03"
        },
        {
         "data": [
          {
           "lat": [
            3.4517923,
            39.49152155
           ],
           "lon": [
            -76.5324943,
            -0.4739026334391784
           ],
           "marker": {
            "color": [
             "fuchsia",
             "fuchsia"
            ],
            "colorbar": {
             "thickness": 4,
             "tickprefix": " Inno Nr.: ",
             "title": {
              "side": "top",
              "text": "Innovations"
             }
            },
            "showscale": true,
            "size": [
             1,
             1
            ]
           },
           "type": "scattermapbox"
          }
         ],
         "name": "frame_2013-08-04"
        },
        {
         "data": [
          {
           "lat": [
            10.2375144
           ],
           "lon": [
            -67.5890216
           ],
           "marker": {
            "color": [
             "fuchsia"
            ],
            "colorbar": {
             "thickness": 4,
             "tickprefix": " Inno Nr.: ",
             "title": {
              "side": "top",
              "text": "Innovations"
             }
            },
            "showscale": true,
            "size": [
             1
            ]
           },
           "type": "scattermapbox"
          }
         ],
         "name": "frame_2013-08-05"
        },
        {
         "data": [
          {
           "lat": [
            3.4517923
           ],
           "lon": [
            -76.5324943
           ],
           "marker": {
            "color": [
             "fuchsia"
            ],
            "colorbar": {
             "thickness": 4,
             "tickprefix": " Inno Nr.: ",
             "title": {
              "side": "top",
              "text": "Innovations"
             }
            },
            "showscale": true,
            "size": [
             1
            ]
           },
           "type": "scattermapbox"
          }
         ],
         "name": "frame_2013-09-02"
        },
        {
         "data": [
          {
           "lat": [
            10.2375144
           ],
           "lon": [
            -67.5890216
           ],
           "marker": {
            "color": [
             "fuchsia"
            ],
            "colorbar": {
             "thickness": 4,
             "tickprefix": " Inno Nr.: ",
             "title": {
              "side": "top",
              "text": "Innovations"
             }
            },
            "showscale": true,
            "size": [
             1
            ]
           },
           "type": "scattermapbox"
          }
         ],
         "name": "frame_2013-09-06"
        },
        {
         "data": [
          {
           "lat": [
            15.687100699999998,
            23.6585116,
            39.0757461
           ],
           "lon": [
            -90.12265453178016,
            -102.0077097,
            -84.5521238
           ],
           "marker": {
            "color": [
             "fuchsia",
             "fuchsia",
             "fuchsia"
            ],
            "colorbar": {
             "thickness": 4,
             "tickprefix": " Inno Nr.: ",
             "title": {
              "side": "top",
              "text": "Innovations"
             }
            },
            "showscale": true,
            "size": [
             1,
             1,
             1
            ]
           },
           "type": "scattermapbox"
          }
         ],
         "name": "frame_2013-10-02"
        },
        {
         "data": [
          {
           "lat": [
            -33.1237585
           ],
           "lon": [
            -64.3489782
           ],
           "marker": {
            "color": [
             "fuchsia"
            ],
            "colorbar": {
             "thickness": 4,
             "tickprefix": " Inno Nr.: ",
             "title": {
              "side": "top",
              "text": "Innovations"
             }
            },
            "showscale": true,
            "size": [
             1
            ]
           },
           "type": "scattermapbox"
          }
         ],
         "name": "frame_2013-10-03"
        },
        {
         "data": [
          {
           "lat": [
            49.97958235,
            39.0757461
           ],
           "lon": [
            6.699620709879576,
            -84.5521238
           ],
           "marker": {
            "color": [
             "fuchsia",
             "fuchsia"
            ],
            "colorbar": {
             "thickness": 4,
             "tickprefix": " Inno Nr.: ",
             "title": {
              "side": "top",
              "text": "Innovations"
             }
            },
            "showscale": true,
            "size": [
             1,
             1
            ]
           },
           "type": "scattermapbox"
          }
         ],
         "name": "frame_2013-10-04"
        },
        {
         "data": [
          {
           "lat": [
            3.4517923,
            23.6585116,
            10.4975281,
            10.2375144
           ],
           "lon": [
            -76.5324943,
            -102.0077097,
            124.03134,
            -67.5890216
           ],
           "marker": {
            "color": [
             "fuchsia",
             "fuchsia",
             "fuchsia",
             "fuchsia"
            ],
            "colorbar": {
             "thickness": 4,
             "tickprefix": " Inno Nr.: ",
             "title": {
              "side": "top",
              "text": "Innovations"
             }
            },
            "showscale": true,
            "size": [
             1,
             1,
             1,
             1
            ]
           },
           "type": "scattermapbox"
          }
         ],
         "name": "frame_2013-10-07"
        },
        {
         "data": [
          {
           "lat": [
            -33.1237585
           ],
           "lon": [
            -64.3489782
           ],
           "marker": {
            "color": [
             "fuchsia"
            ],
            "colorbar": {
             "thickness": 4,
             "tickprefix": " Inno Nr.: ",
             "title": {
              "side": "top",
              "text": "Innovations"
             }
            },
            "showscale": true,
            "size": [
             1
            ]
           },
           "type": "scattermapbox"
          }
         ],
         "name": "frame_2013-10-08"
        },
        {
         "data": [
          {
           "lat": [
            -29.1869198
           ],
           "lon": [
            -51.1673121
           ],
           "marker": {
            "color": [
             "fuchsia"
            ],
            "colorbar": {
             "thickness": 4,
             "tickprefix": " Inno Nr.: ",
             "title": {
              "side": "top",
              "text": "Innovations"
             }
            },
            "showscale": true,
            "size": [
             1
            ]
           },
           "type": "scattermapbox"
          }
         ],
         "name": "frame_2013-11-02"
        },
        {
         "data": [
          {
           "lat": [
            23.6585116
           ],
           "lon": [
            -102.0077097
           ],
           "marker": {
            "color": [
             "fuchsia"
            ],
            "colorbar": {
             "thickness": 4,
             "tickprefix": " Inno Nr.: ",
             "title": {
              "side": "top",
              "text": "Innovations"
             }
            },
            "showscale": true,
            "size": [
             1
            ]
           },
           "type": "scattermapbox"
          }
         ],
         "name": "frame_2013-11-03"
        },
        {
         "data": [
          {
           "lat": [
            -33.1237585
           ],
           "lon": [
            -64.3489782
           ],
           "marker": {
            "color": [
             "fuchsia"
            ],
            "colorbar": {
             "thickness": 4,
             "tickprefix": " Inno Nr.: ",
             "title": {
              "side": "top",
              "text": "Innovations"
             }
            },
            "showscale": true,
            "size": [
             1
            ]
           },
           "type": "scattermapbox"
          }
         ],
         "name": "frame_2013-11-05"
        },
        {
         "data": [
          {
           "lat": [
            23.6585116
           ],
           "lon": [
            -102.0077097
           ],
           "marker": {
            "color": [
             "fuchsia"
            ],
            "colorbar": {
             "thickness": 4,
             "tickprefix": " Inno Nr.: ",
             "title": {
              "side": "top",
              "text": "Innovations"
             }
            },
            "showscale": true,
            "size": [
             1
            ]
           },
           "type": "scattermapbox"
          }
         ],
         "name": "frame_2013-11-06"
        },
        {
         "data": [
          {
           "lat": [
            -33.1237585,
            39.49152155,
            -27.3376114,
            18.4801972
           ],
           "lon": [
            -64.3489782,
            -0.4739026334391784,
            -55.8669492,
            -69.942111
           ],
           "marker": {
            "color": [
             "fuchsia",
             "fuchsia",
             "fuchsia",
             "fuchsia"
            ],
            "colorbar": {
             "thickness": 4,
             "tickprefix": " Inno Nr.: ",
             "title": {
              "side": "top",
              "text": "Innovations"
             }
            },
            "showscale": true,
            "size": [
             1,
             1,
             1,
             1
            ]
           },
           "type": "scattermapbox"
          }
         ],
         "name": "frame_2013-11-07"
        },
        {
         "data": [
          {
           "lat": [
            -33.1237585
           ],
           "lon": [
            -64.3489782
           ],
           "marker": {
            "color": [
             "fuchsia"
            ],
            "colorbar": {
             "thickness": 4,
             "tickprefix": " Inno Nr.: ",
             "title": {
              "side": "top",
              "text": "Innovations"
             }
            },
            "showscale": true,
            "size": [
             1
            ]
           },
           "type": "scattermapbox"
          }
         ],
         "name": "frame_2013-12-03"
        },
        {
         "data": [
          {
           "lat": [
            39.49152155,
            23.6585116
           ],
           "lon": [
            -0.4739026334391784,
            -102.0077097
           ],
           "marker": {
            "color": [
             "fuchsia",
             "fuchsia"
            ],
            "colorbar": {
             "thickness": 4,
             "tickprefix": " Inno Nr.: ",
             "title": {
              "side": "top",
              "text": "Innovations"
             }
            },
            "showscale": true,
            "size": [
             1,
             1
            ]
           },
           "type": "scattermapbox"
          }
         ],
         "name": "frame_2013-12-04"
        },
        {
         "data": [
          {
           "lat": [
            23.6585116
           ],
           "lon": [
            -102.0077097
           ],
           "marker": {
            "color": [
             "fuchsia"
            ],
            "colorbar": {
             "thickness": 4,
             "tickprefix": " Inno Nr.: ",
             "title": {
              "side": "top",
              "text": "Innovations"
             }
            },
            "showscale": true,
            "size": [
             1
            ]
           },
           "type": "scattermapbox"
          }
         ],
         "name": "frame_2013-12-06"
        },
        {
         "data": [
          {
           "lat": [
            15.687100699999998
           ],
           "lon": [
            -90.12265453178016
           ],
           "marker": {
            "color": [
             "fuchsia"
            ],
            "colorbar": {
             "thickness": 4,
             "tickprefix": " Inno Nr.: ",
             "title": {
              "side": "top",
              "text": "Innovations"
             }
            },
            "showscale": true,
            "size": [
             1
            ]
           },
           "type": "scattermapbox"
          }
         ],
         "name": "frame_2013-12-26"
        },
        {
         "data": [
          {
           "lat": [
            3.4517923
           ],
           "lon": [
            -76.5324943
           ],
           "marker": {
            "color": [
             "fuchsia"
            ],
            "colorbar": {
             "thickness": 4,
             "tickprefix": " Inno Nr.: ",
             "title": {
              "side": "top",
              "text": "Innovations"
             }
            },
            "showscale": true,
            "size": [
             1
            ]
           },
           "type": "scattermapbox"
          }
         ],
         "name": "frame_2014-02-06"
        },
        {
         "data": [
          {
           "lat": [
            23.6585116
           ],
           "lon": [
            -102.0077097
           ],
           "marker": {
            "color": [
             "fuchsia"
            ],
            "colorbar": {
             "thickness": 4,
             "tickprefix": " Inno Nr.: ",
             "title": {
              "side": "top",
              "text": "Innovations"
             }
            },
            "showscale": true,
            "size": [
             1
            ]
           },
           "type": "scattermapbox"
          }
         ],
         "name": "frame_2014-02-09"
        },
        {
         "data": [
          {
           "lat": [
            23.6585116
           ],
           "lon": [
            -102.0077097
           ],
           "marker": {
            "color": [
             "fuchsia"
            ],
            "colorbar": {
             "thickness": 4,
             "tickprefix": " Inno Nr.: ",
             "title": {
              "side": "top",
              "text": "Innovations"
             }
            },
            "showscale": true,
            "size": [
             1
            ]
           },
           "type": "scattermapbox"
          }
         ],
         "name": "frame_2014-02-11"
        },
        {
         "data": [
          {
           "lat": [
            39.49152155
           ],
           "lon": [
            -0.4739026334391784
           ],
           "marker": {
            "color": [
             "fuchsia"
            ],
            "colorbar": {
             "thickness": 4,
             "tickprefix": " Inno Nr.: ",
             "title": {
              "side": "top",
              "text": "Innovations"
             }
            },
            "showscale": true,
            "size": [
             1
            ]
           },
           "type": "scattermapbox"
          }
         ],
         "name": "frame_2014-03-01"
        },
        {
         "data": [
          {
           "lat": [
            13.510956
           ],
           "lon": [
            -86.3423061
           ],
           "marker": {
            "color": [
             "fuchsia"
            ],
            "colorbar": {
             "thickness": 4,
             "tickprefix": " Inno Nr.: ",
             "title": {
              "side": "top",
              "text": "Innovations"
             }
            },
            "showscale": true,
            "size": [
             1
            ]
           },
           "type": "scattermapbox"
          }
         ],
         "name": "frame_2014-03-03"
        },
        {
         "data": [
          {
           "lat": [
            15.687100699999998
           ],
           "lon": [
            -90.12265453178016
           ],
           "marker": {
            "color": [
             "fuchsia"
            ],
            "colorbar": {
             "thickness": 4,
             "tickprefix": " Inno Nr.: ",
             "title": {
              "side": "top",
              "text": "Innovations"
             }
            },
            "showscale": true,
            "size": [
             1
            ]
           },
           "type": "scattermapbox"
          }
         ],
         "name": "frame_2014-03-05"
        },
        {
         "data": [
          {
           "lat": [
            15.687100699999998
           ],
           "lon": [
            -90.12265453178016
           ],
           "marker": {
            "color": [
             "fuchsia"
            ],
            "colorbar": {
             "thickness": 4,
             "tickprefix": " Inno Nr.: ",
             "title": {
              "side": "top",
              "text": "Innovations"
             }
            },
            "showscale": true,
            "size": [
             1
            ]
           },
           "type": "scattermapbox"
          }
         ],
         "name": "frame_2014-03-06"
        },
        {
         "data": [
          {
           "lat": [
            46.0050102
           ],
           "lon": [
            8.9520281
           ],
           "marker": {
            "color": [
             "fuchsia"
            ],
            "colorbar": {
             "thickness": 4,
             "tickprefix": " Inno Nr.: ",
             "title": {
              "side": "top",
              "text": "Innovations"
             }
            },
            "showscale": true,
            "size": [
             1
            ]
           },
           "type": "scattermapbox"
          }
         ],
         "name": "frame_2014-03-07"
        },
        {
         "data": [
          {
           "lat": [
            39.49152155
           ],
           "lon": [
            -0.4739026334391784
           ],
           "marker": {
            "color": [
             "fuchsia"
            ],
            "colorbar": {
             "thickness": 4,
             "tickprefix": " Inno Nr.: ",
             "title": {
              "side": "top",
              "text": "Innovations"
             }
            },
            "showscale": true,
            "size": [
             1
            ]
           },
           "type": "scattermapbox"
          }
         ],
         "name": "frame_2014-04-03"
        },
        {
         "data": [
          {
           "lat": [
            -33.1237585,
            23.6585116
           ],
           "lon": [
            -64.3489782,
            -102.0077097
           ],
           "marker": {
            "color": [
             "fuchsia",
             "fuchsia"
            ],
            "colorbar": {
             "thickness": 4,
             "tickprefix": " Inno Nr.: ",
             "title": {
              "side": "top",
              "text": "Innovations"
             }
            },
            "showscale": true,
            "size": [
             1,
             1
            ]
           },
           "type": "scattermapbox"
          }
         ],
         "name": "frame_2014-04-04"
        },
        {
         "data": [
          {
           "lat": [
            13.6989939
           ],
           "lon": [
            -89.1914249
           ],
           "marker": {
            "color": [
             "fuchsia"
            ],
            "colorbar": {
             "thickness": 4,
             "tickprefix": " Inno Nr.: ",
             "title": {
              "side": "top",
              "text": "Innovations"
             }
            },
            "showscale": true,
            "size": [
             1
            ]
           },
           "type": "scattermapbox"
          }
         ],
         "name": "frame_2014-04-06"
        },
        {
         "data": [
          {
           "lat": [
            3.4517923,
            23.6585116
           ],
           "lon": [
            -76.5324943,
            -102.0077097
           ],
           "marker": {
            "color": [
             "fuchsia",
             "fuchsia"
            ],
            "colorbar": {
             "thickness": 4,
             "tickprefix": " Inno Nr.: ",
             "title": {
              "side": "top",
              "text": "Innovations"
             }
            },
            "showscale": true,
            "size": [
             1,
             1
            ]
           },
           "type": "scattermapbox"
          }
         ],
         "name": "frame_2014-04-07"
        },
        {
         "data": [
          {
           "lat": [
            3.4517923
           ],
           "lon": [
            -76.5324943
           ],
           "marker": {
            "color": [
             "fuchsia"
            ],
            "colorbar": {
             "thickness": 4,
             "tickprefix": " Inno Nr.: ",
             "title": {
              "side": "top",
              "text": "Innovations"
             }
            },
            "showscale": true,
            "size": [
             1
            ]
           },
           "type": "scattermapbox"
          }
         ],
         "name": "frame_2014-05-02"
        },
        {
         "data": [
          {
           "lat": [
            23.6585116
           ],
           "lon": [
            -102.0077097
           ],
           "marker": {
            "color": [
             "fuchsia"
            ],
            "colorbar": {
             "thickness": 4,
             "tickprefix": " Inno Nr.: ",
             "title": {
              "side": "top",
              "text": "Innovations"
             }
            },
            "showscale": true,
            "size": [
             1
            ]
           },
           "type": "scattermapbox"
          }
         ],
         "name": "frame_2014-05-05"
        },
        {
         "data": [
          {
           "lat": [
            3.4517923,
            -2.1900703,
            39.49152155,
            23.6585116
           ],
           "lon": [
            -76.5324943,
            -79.8868702,
            -0.4739026334391784,
            -102.0077097
           ],
           "marker": {
            "color": [
             "fuchsia",
             "fuchsia",
             "fuchsia",
             "fuchsia"
            ],
            "colorbar": {
             "thickness": 4,
             "tickprefix": " Inno Nr.: ",
             "title": {
              "side": "top",
              "text": "Innovations"
             }
            },
            "showscale": true,
            "size": [
             1,
             1,
             1,
             1
            ]
           },
           "type": "scattermapbox"
          }
         ],
         "name": "frame_2014-05-06"
        },
        {
         "data": [
          {
           "lat": [
            3.4517923
           ],
           "lon": [
            -76.5324943
           ],
           "marker": {
            "color": [
             "fuchsia"
            ],
            "colorbar": {
             "thickness": 4,
             "tickprefix": " Inno Nr.: ",
             "title": {
              "side": "top",
              "text": "Innovations"
             }
            },
            "showscale": true,
            "size": [
             1
            ]
           },
           "type": "scattermapbox"
          }
         ],
         "name": "frame_2014-05-07"
        },
        {
         "data": [
          {
           "lat": [
            -33.1237585,
            -34.2900689
           ],
           "lon": [
            -64.3489782,
            -55.9574463
           ],
           "marker": {
            "color": [
             "fuchsia",
             "fuchsia"
            ],
            "colorbar": {
             "thickness": 4,
             "tickprefix": " Inno Nr.: ",
             "title": {
              "side": "top",
              "text": "Innovations"
             }
            },
            "showscale": true,
            "size": [
             1,
             1
            ]
           },
           "type": "scattermapbox"
          }
         ],
         "name": "frame_2014-06-01"
        },
        {
         "data": [
          {
           "lat": [
            -33.1237585
           ],
           "lon": [
            -64.3489782
           ],
           "marker": {
            "color": [
             "fuchsia"
            ],
            "colorbar": {
             "thickness": 4,
             "tickprefix": " Inno Nr.: ",
             "title": {
              "side": "top",
              "text": "Innovations"
             }
            },
            "showscale": true,
            "size": [
             1
            ]
           },
           "type": "scattermapbox"
          }
         ],
         "name": "frame_2014-06-02"
        },
        {
         "data": [
          {
           "lat": [
            39.0757461
           ],
           "lon": [
            -84.5521238
           ],
           "marker": {
            "color": [
             "fuchsia"
            ],
            "colorbar": {
             "thickness": 4,
             "tickprefix": " Inno Nr.: ",
             "title": {
              "side": "top",
              "text": "Innovations"
             }
            },
            "showscale": true,
            "size": [
             1
            ]
           },
           "type": "scattermapbox"
          }
         ],
         "name": "frame_2014-06-03"
        },
        {
         "data": [
          {
           "lat": [
            25.3661983
           ],
           "lon": [
            85.521326
           ],
           "marker": {
            "color": [
             "fuchsia"
            ],
            "colorbar": {
             "thickness": 4,
             "tickprefix": " Inno Nr.: ",
             "title": {
              "side": "top",
              "text": "Innovations"
             }
            },
            "showscale": true,
            "size": [
             1
            ]
           },
           "type": "scattermapbox"
          }
         ],
         "name": "frame_2014-07-02"
        },
        {
         "data": [
          {
           "lat": [
            -33.1237585,
            23.6585116
           ],
           "lon": [
            -64.3489782,
            -102.0077097
           ],
           "marker": {
            "color": [
             "fuchsia",
             "fuchsia"
            ],
            "colorbar": {
             "thickness": 4,
             "tickprefix": " Inno Nr.: ",
             "title": {
              "side": "top",
              "text": "Innovations"
             }
            },
            "showscale": true,
            "size": [
             1,
             1
            ]
           },
           "type": "scattermapbox"
          }
         ],
         "name": "frame_2014-07-04"
        },
        {
         "data": [
          {
           "lat": [
            -33.1237585
           ],
           "lon": [
            -64.3489782
           ],
           "marker": {
            "color": [
             "fuchsia"
            ],
            "colorbar": {
             "thickness": 4,
             "tickprefix": " Inno Nr.: ",
             "title": {
              "side": "top",
              "text": "Innovations"
             }
            },
            "showscale": true,
            "size": [
             1
            ]
           },
           "type": "scattermapbox"
          }
         ],
         "name": "frame_2014-07-08"
        },
        {
         "data": [
          {
           "lat": [
            3.4517923,
            23.6585116,
            39.0757461
           ],
           "lon": [
            -76.5324943,
            -102.0077097,
            -84.5521238
           ],
           "marker": {
            "color": [
             "fuchsia",
             "fuchsia",
             "fuchsia"
            ],
            "colorbar": {
             "thickness": 4,
             "tickprefix": " Inno Nr.: ",
             "title": {
              "side": "top",
              "text": "Innovations"
             }
            },
            "showscale": true,
            "size": [
             1,
             1,
             1
            ]
           },
           "type": "scattermapbox"
          }
         ],
         "name": "frame_2014-08-03"
        },
        {
         "data": [
          {
           "lat": [
            -17.3795801
           ],
           "lon": [
            -66.16432856183624
           ],
           "marker": {
            "color": [
             "fuchsia"
            ],
            "colorbar": {
             "thickness": 4,
             "tickprefix": " Inno Nr.: ",
             "title": {
              "side": "top",
              "text": "Innovations"
             }
            },
            "showscale": true,
            "size": [
             1
            ]
           },
           "type": "scattermapbox"
          }
         ],
         "name": "frame_2014-08-04"
        },
        {
         "data": [
          {
           "lat": [
            3.4517923,
            23.6585116
           ],
           "lon": [
            -76.5324943,
            -102.0077097
           ],
           "marker": {
            "color": [
             "fuchsia",
             "fuchsia"
            ],
            "colorbar": {
             "thickness": 4,
             "tickprefix": " Inno Nr.: ",
             "title": {
              "side": "top",
              "text": "Innovations"
             }
            },
            "showscale": true,
            "size": [
             1,
             1
            ]
           },
           "type": "scattermapbox"
          }
         ],
         "name": "frame_2014-08-06"
        },
        {
         "data": [
          {
           "lat": [
            23.6585116
           ],
           "lon": [
            -102.0077097
           ],
           "marker": {
            "color": [
             "fuchsia"
            ],
            "colorbar": {
             "thickness": 4,
             "tickprefix": " Inno Nr.: ",
             "title": {
              "side": "top",
              "text": "Innovations"
             }
            },
            "showscale": true,
            "size": [
             1
            ]
           },
           "type": "scattermapbox"
          }
         ],
         "name": "frame_2014-09-02"
        },
        {
         "data": [
          {
           "lat": [
            -33.1237585
           ],
           "lon": [
            -64.3489782
           ],
           "marker": {
            "color": [
             "fuchsia"
            ],
            "colorbar": {
             "thickness": 4,
             "tickprefix": " Inno Nr.: ",
             "title": {
              "side": "top",
              "text": "Innovations"
             }
            },
            "showscale": true,
            "size": [
             1
            ]
           },
           "type": "scattermapbox"
          }
         ],
         "name": "frame_2014-09-03"
        },
        {
         "data": [
          {
           "lat": [
            23.6585116
           ],
           "lon": [
            -102.0077097
           ],
           "marker": {
            "color": [
             "fuchsia"
            ],
            "colorbar": {
             "thickness": 4,
             "tickprefix": " Inno Nr.: ",
             "title": {
              "side": "top",
              "text": "Innovations"
             }
            },
            "showscale": true,
            "size": [
             1
            ]
           },
           "type": "scattermapbox"
          }
         ],
         "name": "frame_2014-09-04"
        },
        {
         "data": [
          {
           "lat": [
            -33.1237585
           ],
           "lon": [
            -64.3489782
           ],
           "marker": {
            "color": [
             "fuchsia"
            ],
            "colorbar": {
             "thickness": 4,
             "tickprefix": " Inno Nr.: ",
             "title": {
              "side": "top",
              "text": "Innovations"
             }
            },
            "showscale": true,
            "size": [
             1
            ]
           },
           "type": "scattermapbox"
          }
         ],
         "name": "frame_2014-09-05"
        },
        {
         "data": [
          {
           "lat": [
            10.2375144
           ],
           "lon": [
            -67.5890216
           ],
           "marker": {
            "color": [
             "fuchsia"
            ],
            "colorbar": {
             "thickness": 4,
             "tickprefix": " Inno Nr.: ",
             "title": {
              "side": "top",
              "text": "Innovations"
             }
            },
            "showscale": true,
            "size": [
             1
            ]
           },
           "type": "scattermapbox"
          }
         ],
         "name": "frame_2014-10-01"
        },
        {
         "data": [
          {
           "lat": [
            15.2572432
           ],
           "lon": [
            -86.0755145
           ],
           "marker": {
            "color": [
             "fuchsia"
            ],
            "colorbar": {
             "thickness": 4,
             "tickprefix": " Inno Nr.: ",
             "title": {
              "side": "top",
              "text": "Innovations"
             }
            },
            "showscale": true,
            "size": [
             1
            ]
           },
           "type": "scattermapbox"
          }
         ],
         "name": "frame_2014-10-03"
        },
        {
         "data": [
          {
           "lat": [
            39.49152155
           ],
           "lon": [
            -0.4739026334391784
           ],
           "marker": {
            "color": [
             "fuchsia"
            ],
            "colorbar": {
             "thickness": 4,
             "tickprefix": " Inno Nr.: ",
             "title": {
              "side": "top",
              "text": "Innovations"
             }
            },
            "showscale": true,
            "size": [
             1
            ]
           },
           "type": "scattermapbox"
          }
         ],
         "name": "frame_2014-10-05"
        },
        {
         "data": [
          {
           "lat": [
            39.49152155
           ],
           "lon": [
            -0.4739026334391784
           ],
           "marker": {
            "color": [
             "fuchsia"
            ],
            "colorbar": {
             "thickness": 4,
             "tickprefix": " Inno Nr.: ",
             "title": {
              "side": "top",
              "text": "Innovations"
             }
            },
            "showscale": true,
            "size": [
             1
            ]
           },
           "type": "scattermapbox"
          }
         ],
         "name": "frame_2014-10-06"
        },
        {
         "data": [
          {
           "lat": [
            23.6585116
           ],
           "lon": [
            -102.0077097
           ],
           "marker": {
            "color": [
             "fuchsia"
            ],
            "colorbar": {
             "thickness": 4,
             "tickprefix": " Inno Nr.: ",
             "title": {
              "side": "top",
              "text": "Innovations"
             }
            },
            "showscale": true,
            "size": [
             1
            ]
           },
           "type": "scattermapbox"
          }
         ],
         "name": "frame_2014-10-07"
        },
        {
         "data": [
          {
           "lat": [
            39.49152155
           ],
           "lon": [
            -0.4739026334391784
           ],
           "marker": {
            "color": [
             "fuchsia"
            ],
            "colorbar": {
             "thickness": 4,
             "tickprefix": " Inno Nr.: ",
             "title": {
              "side": "top",
              "text": "Innovations"
             }
            },
            "showscale": true,
            "size": [
             1
            ]
           },
           "type": "scattermapbox"
          }
         ],
         "name": "frame_2014-10-08"
        },
        {
         "data": [
          {
           "lat": [
            39.49152155
           ],
           "lon": [
            -0.4739026334391784
           ],
           "marker": {
            "color": [
             "fuchsia"
            ],
            "colorbar": {
             "thickness": 4,
             "tickprefix": " Inno Nr.: ",
             "title": {
              "side": "top",
              "text": "Innovations"
             }
            },
            "showscale": true,
            "size": [
             1
            ]
           },
           "type": "scattermapbox"
          }
         ],
         "name": "frame_2014-11-01"
        },
        {
         "data": [
          {
           "lat": [
            -33.1237585
           ],
           "lon": [
            -64.3489782
           ],
           "marker": {
            "color": [
             "fuchsia"
            ],
            "colorbar": {
             "thickness": 4,
             "tickprefix": " Inno Nr.: ",
             "title": {
              "side": "top",
              "text": "Innovations"
             }
            },
            "showscale": true,
            "size": [
             1
            ]
           },
           "type": "scattermapbox"
          }
         ],
         "name": "frame_2014-11-03"
        },
        {
         "data": [
          {
           "lat": [
            3.4517923
           ],
           "lon": [
            -76.5324943
           ],
           "marker": {
            "color": [
             "fuchsia"
            ],
            "colorbar": {
             "thickness": 4,
             "tickprefix": " Inno Nr.: ",
             "title": {
              "side": "top",
              "text": "Innovations"
             }
            },
            "showscale": true,
            "size": [
             1
            ]
           },
           "type": "scattermapbox"
          }
         ],
         "name": "frame_2014-12-02"
        },
        {
         "data": [
          {
           "lat": [
            39.49152155,
            23.6585116,
            18.4801972,
            10.2375144
           ],
           "lon": [
            -0.4739026334391784,
            -102.0077097,
            -69.942111,
            -67.5890216
           ],
           "marker": {
            "color": [
             "fuchsia",
             "fuchsia",
             "fuchsia",
             "fuchsia"
            ],
            "colorbar": {
             "thickness": 4,
             "tickprefix": " Inno Nr.: ",
             "title": {
              "side": "top",
              "text": "Innovations"
             }
            },
            "showscale": true,
            "size": [
             1,
             1,
             1,
             1
            ]
           },
           "type": "scattermapbox"
          }
         ],
         "name": "frame_2014-12-03"
        },
        {
         "data": [
          {
           "lat": [
            -33.1237585,
            39.49152155,
            23.6585116,
            10.2375144
           ],
           "lon": [
            -64.3489782,
            -0.4739026334391784,
            -102.0077097,
            -67.5890216
           ],
           "marker": {
            "color": [
             "fuchsia",
             "fuchsia",
             "fuchsia",
             "fuchsia"
            ],
            "colorbar": {
             "thickness": 4,
             "tickprefix": " Inno Nr.: ",
             "title": {
              "side": "top",
              "text": "Innovations"
             }
            },
            "showscale": true,
            "size": [
             1,
             1,
             1,
             1
            ]
           },
           "type": "scattermapbox"
          }
         ],
         "name": "frame_2014-12-05"
        },
        {
         "data": [
          {
           "lat": [
            -33.1237585,
            3.4517923,
            10.2375144
           ],
           "lon": [
            -64.3489782,
            -76.5324943,
            -67.5890216
           ],
           "marker": {
            "color": [
             "fuchsia",
             "fuchsia",
             "fuchsia"
            ],
            "colorbar": {
             "thickness": 4,
             "tickprefix": " Inno Nr.: ",
             "title": {
              "side": "top",
              "text": "Innovations"
             }
            },
            "showscale": true,
            "size": [
             1,
             1,
             1
            ]
           },
           "type": "scattermapbox"
          }
         ],
         "name": "frame_2014-12-07"
        },
        {
         "data": [
          {
           "lat": [
            -33.1237585
           ],
           "lon": [
            -64.3489782
           ],
           "marker": {
            "color": [
             "fuchsia"
            ],
            "colorbar": {
             "thickness": 4,
             "tickprefix": " Inno Nr.: ",
             "title": {
              "side": "top",
              "text": "Innovations"
             }
            },
            "showscale": true,
            "size": [
             1
            ]
           },
           "type": "scattermapbox"
          }
         ],
         "name": "frame_2014-12-08"
        },
        {
         "data": [
          {
           "lat": [
            -33.1237585,
            39.49152155
           ],
           "lon": [
            -64.3489782,
            -0.4739026334391784
           ],
           "marker": {
            "color": [
             "fuchsia",
             "fuchsia"
            ],
            "colorbar": {
             "thickness": 4,
             "tickprefix": " Inno Nr.: ",
             "title": {
              "side": "top",
              "text": "Innovations"
             }
            },
            "showscale": true,
            "size": [
             1,
             1
            ]
           },
           "type": "scattermapbox"
          }
         ],
         "name": "frame_2014-12-26"
        },
        {
         "data": [
          {
           "lat": [
            39.49152155
           ],
           "lon": [
            -0.4739026334391784
           ],
           "marker": {
            "color": [
             "fuchsia"
            ],
            "colorbar": {
             "thickness": 4,
             "tickprefix": " Inno Nr.: ",
             "title": {
              "side": "top",
              "text": "Innovations"
             }
            },
            "showscale": true,
            "size": [
             1
            ]
           },
           "type": "scattermapbox"
          }
         ],
         "name": "frame_2014-12-27"
        },
        {
         "data": [
          {
           "lat": [
            -33.1237585,
            39.0757461
           ],
           "lon": [
            -64.3489782,
            -84.5521238
           ],
           "marker": {
            "color": [
             "fuchsia",
             "fuchsia"
            ],
            "colorbar": {
             "thickness": 4,
             "tickprefix": " Inno Nr.: ",
             "title": {
              "side": "top",
              "text": "Innovations"
             }
            },
            "showscale": true,
            "size": [
             1,
             1
            ]
           },
           "type": "scattermapbox"
          }
         ],
         "name": "frame_2014-12-30"
        },
        {
         "data": [
          {
           "lat": [
            -33.1237585
           ],
           "lon": [
            -64.3489782
           ],
           "marker": {
            "color": [
             "fuchsia"
            ],
            "colorbar": {
             "thickness": 4,
             "tickprefix": " Inno Nr.: ",
             "title": {
              "side": "top",
              "text": "Innovations"
             }
            },
            "showscale": true,
            "size": [
             1
            ]
           },
           "type": "scattermapbox"
          }
         ],
         "name": "frame_2014-12-31"
        },
        {
         "data": [
          {
           "lat": [
            3.4517923
           ],
           "lon": [
            -76.5324943
           ],
           "marker": {
            "color": [
             "fuchsia"
            ],
            "colorbar": {
             "thickness": 4,
             "tickprefix": " Inno Nr.: ",
             "title": {
              "side": "top",
              "text": "Innovations"
             }
            },
            "showscale": true,
            "size": [
             1
            ]
           },
           "type": "scattermapbox"
          }
         ],
         "name": "frame_2015-04-01"
        },
        {
         "data": [
          {
           "lat": [
            32.544713200000004
           ],
           "lon": [
            44.431814334435785
           ],
           "marker": {
            "color": [
             "fuchsia"
            ],
            "colorbar": {
             "thickness": 4,
             "tickprefix": " Inno Nr.: ",
             "title": {
              "side": "top",
              "text": "Innovations"
             }
            },
            "showscale": true,
            "size": [
             1
            ]
           },
           "type": "scattermapbox"
          }
         ],
         "name": "frame_2015-04-02"
        },
        {
         "data": [
          {
           "lat": [
            -33.1237585,
            -31.7613365,
            3.4517923,
            -27.3376114,
            -15.4710039,
            -34.2900689,
            10.2375144
           ],
           "lon": [
            -64.3489782,
            -71.3187697,
            -76.5324943,
            -55.8669492,
            -70.1226835,
            -55.9574463,
            -67.5890216
           ],
           "marker": {
            "color": [
             "fuchsia",
             "fuchsia",
             "fuchsia",
             "fuchsia",
             "fuchsia",
             "fuchsia",
             "fuchsia"
            ],
            "colorbar": {
             "thickness": 4,
             "tickprefix": " Inno Nr.: ",
             "title": {
              "side": "top",
              "text": "Innovations"
             }
            },
            "showscale": true,
            "size": [
             1,
             1,
             1,
             1,
             1,
             1,
             1
            ]
           },
           "type": "scattermapbox"
          }
         ],
         "name": "frame_2015-04-07"
        },
        {
         "data": [
          {
           "lat": [
            -33.1237585,
            3.4517923
           ],
           "lon": [
            -64.3489782,
            -76.5324943
           ],
           "marker": {
            "color": [
             "fuchsia",
             "fuchsia"
            ],
            "colorbar": {
             "thickness": 4,
             "tickprefix": " Inno Nr.: ",
             "title": {
              "side": "top",
              "text": "Innovations"
             }
            },
            "showscale": true,
            "size": [
             1,
             1
            ]
           },
           "type": "scattermapbox"
          }
         ],
         "name": "frame_2015-05-01"
        },
        {
         "data": [
          {
           "lat": [
            23.6585116
           ],
           "lon": [
            -102.0077097
           ],
           "marker": {
            "color": [
             "fuchsia"
            ],
            "colorbar": {
             "thickness": 4,
             "tickprefix": " Inno Nr.: ",
             "title": {
              "side": "top",
              "text": "Innovations"
             }
            },
            "showscale": true,
            "size": [
             1
            ]
           },
           "type": "scattermapbox"
          }
         ],
         "name": "frame_2015-05-02"
        },
        {
         "data": [
          {
           "lat": [
            39.0757461
           ],
           "lon": [
            -84.5521238
           ],
           "marker": {
            "color": [
             "fuchsia"
            ],
            "colorbar": {
             "thickness": 4,
             "tickprefix": " Inno Nr.: ",
             "title": {
              "side": "top",
              "text": "Innovations"
             }
            },
            "showscale": true,
            "size": [
             1
            ]
           },
           "type": "scattermapbox"
          }
         ],
         "name": "frame_2015-05-03"
        },
        {
         "data": [
          {
           "lat": [
            3.4517923,
            39.0757461
           ],
           "lon": [
            -76.5324943,
            -84.5521238
           ],
           "marker": {
            "color": [
             "fuchsia",
             "fuchsia"
            ],
            "colorbar": {
             "thickness": 4,
             "tickprefix": " Inno Nr.: ",
             "title": {
              "side": "top",
              "text": "Innovations"
             }
            },
            "showscale": true,
            "size": [
             1,
             1
            ]
           },
           "type": "scattermapbox"
          }
         ],
         "name": "frame_2015-05-06"
        },
        {
         "data": [
          {
           "lat": [
            25.3661983
           ],
           "lon": [
            85.521326
           ],
           "marker": {
            "color": [
             "fuchsia"
            ],
            "colorbar": {
             "thickness": 4,
             "tickprefix": " Inno Nr.: ",
             "title": {
              "side": "top",
              "text": "Innovations"
             }
            },
            "showscale": true,
            "size": [
             1
            ]
           },
           "type": "scattermapbox"
          }
         ],
         "name": "frame_2015-05-07"
        },
        {
         "data": [
          {
           "lat": [
            3.4517923
           ],
           "lon": [
            -76.5324943
           ],
           "marker": {
            "color": [
             "fuchsia"
            ],
            "colorbar": {
             "thickness": 4,
             "tickprefix": " Inno Nr.: ",
             "title": {
              "side": "top",
              "text": "Innovations"
             }
            },
            "showscale": true,
            "size": [
             1
            ]
           },
           "type": "scattermapbox"
          }
         ],
         "name": "frame_2015-06-07"
        },
        {
         "data": [
          {
           "lat": [
            -33.1237585,
            23.6585116
           ],
           "lon": [
            -64.3489782,
            -102.0077097
           ],
           "marker": {
            "color": [
             "fuchsia",
             "fuchsia"
            ],
            "colorbar": {
             "thickness": 4,
             "tickprefix": " Inno Nr.: ",
             "title": {
              "side": "top",
              "text": "Innovations"
             }
            },
            "showscale": true,
            "size": [
             1,
             1
            ]
           },
           "type": "scattermapbox"
          }
         ],
         "name": "frame_2015-07-05"
        },
        {
         "data": [
          {
           "lat": [
            15.687100699999998,
            23.6585116
           ],
           "lon": [
            -90.12265453178016,
            -102.0077097
           ],
           "marker": {
            "color": [
             "fuchsia",
             "fuchsia"
            ],
            "colorbar": {
             "thickness": 4,
             "tickprefix": " Inno Nr.: ",
             "title": {
              "side": "top",
              "text": "Innovations"
             }
            },
            "showscale": true,
            "size": [
             1,
             1
            ]
           },
           "type": "scattermapbox"
          }
         ],
         "name": "frame_2015-07-06"
        },
        {
         "data": [
          {
           "lat": [
            -33.1237585
           ],
           "lon": [
            -64.3489782
           ],
           "marker": {
            "color": [
             "fuchsia"
            ],
            "colorbar": {
             "thickness": 4,
             "tickprefix": " Inno Nr.: ",
             "title": {
              "side": "top",
              "text": "Innovations"
             }
            },
            "showscale": true,
            "size": [
             1
            ]
           },
           "type": "scattermapbox"
          }
         ],
         "name": "frame_2015-08-03"
        },
        {
         "data": [
          {
           "lat": [
            -33.1237585,
            23.6585116
           ],
           "lon": [
            -64.3489782,
            -102.0077097
           ],
           "marker": {
            "color": [
             "fuchsia",
             "fuchsia"
            ],
            "colorbar": {
             "thickness": 4,
             "tickprefix": " Inno Nr.: ",
             "title": {
              "side": "top",
              "text": "Innovations"
             }
            },
            "showscale": true,
            "size": [
             1,
             1
            ]
           },
           "type": "scattermapbox"
          }
         ],
         "name": "frame_2015-08-04"
        },
        {
         "data": [
          {
           "lat": [
            -33.1237585,
            -34.2900689
           ],
           "lon": [
            -64.3489782,
            -55.9574463
           ],
           "marker": {
            "color": [
             "fuchsia",
             "fuchsia"
            ],
            "colorbar": {
             "thickness": 4,
             "tickprefix": " Inno Nr.: ",
             "title": {
              "side": "top",
              "text": "Innovations"
             }
            },
            "showscale": true,
            "size": [
             1,
             1
            ]
           },
           "type": "scattermapbox"
          }
         ],
         "name": "frame_2015-08-05"
        },
        {
         "data": [
          {
           "lat": [
            -33.1237585
           ],
           "lon": [
            -64.3489782
           ],
           "marker": {
            "color": [
             "fuchsia"
            ],
            "colorbar": {
             "thickness": 4,
             "tickprefix": " Inno Nr.: ",
             "title": {
              "side": "top",
              "text": "Innovations"
             }
            },
            "showscale": true,
            "size": [
             1
            ]
           },
           "type": "scattermapbox"
          }
         ],
         "name": "frame_2015-08-06"
        },
        {
         "data": [
          {
           "lat": [
            51.778552
           ],
           "lon": [
            -4.8051643196745495
           ],
           "marker": {
            "color": [
             "fuchsia"
            ],
            "colorbar": {
             "thickness": 4,
             "tickprefix": " Inno Nr.: ",
             "title": {
              "side": "top",
              "text": "Innovations"
             }
            },
            "showscale": true,
            "size": [
             1
            ]
           },
           "type": "scattermapbox"
          }
         ],
         "name": "frame_2015-08-07"
        },
        {
         "data": [
          {
           "lat": [
            0.2913251
           ],
           "lon": [
            32.6300201
           ],
           "marker": {
            "color": [
             "fuchsia"
            ],
            "colorbar": {
             "thickness": 4,
             "tickprefix": " Inno Nr.: ",
             "title": {
              "side": "top",
              "text": "Innovations"
             }
            },
            "showscale": true,
            "size": [
             1
            ]
           },
           "type": "scattermapbox"
          }
         ],
         "name": "frame_2015-09-04"
        },
        {
         "data": [
          {
           "lat": [
            23.6585116
           ],
           "lon": [
            -102.0077097
           ],
           "marker": {
            "color": [
             "fuchsia"
            ],
            "colorbar": {
             "thickness": 4,
             "tickprefix": " Inno Nr.: ",
             "title": {
              "side": "top",
              "text": "Innovations"
             }
            },
            "showscale": true,
            "size": [
             1
            ]
           },
           "type": "scattermapbox"
          }
         ],
         "name": "frame_2015-09-07"
        },
        {
         "data": [
          {
           "lat": [
            -33.1237585
           ],
           "lon": [
            -64.3489782
           ],
           "marker": {
            "color": [
             "fuchsia"
            ],
            "colorbar": {
             "thickness": 4,
             "tickprefix": " Inno Nr.: ",
             "title": {
              "side": "top",
              "text": "Innovations"
             }
            },
            "showscale": true,
            "size": [
             1
            ]
           },
           "type": "scattermapbox"
          }
         ],
         "name": "frame_2015-09-08"
        },
        {
         "data": [
          {
           "lat": [
            51.778552
           ],
           "lon": [
            -4.8051643196745495
           ],
           "marker": {
            "color": [
             "fuchsia"
            ],
            "colorbar": {
             "thickness": 4,
             "tickprefix": " Inno Nr.: ",
             "title": {
              "side": "top",
              "text": "Innovations"
             }
            },
            "showscale": true,
            "size": [
             1
            ]
           },
           "type": "scattermapbox"
          }
         ],
         "name": "frame_2015-10-07"
        },
        {
         "data": [
          {
           "lat": [
            -2.1900703
           ],
           "lon": [
            -79.8868702
           ],
           "marker": {
            "color": [
             "fuchsia"
            ],
            "colorbar": {
             "thickness": 4,
             "tickprefix": " Inno Nr.: ",
             "title": {
              "side": "top",
              "text": "Innovations"
             }
            },
            "showscale": true,
            "size": [
             1
            ]
           },
           "type": "scattermapbox"
          }
         ],
         "name": "frame_2015-10-08"
        },
        {
         "data": [
          {
           "lat": [
            -33.1237585,
            39.49152155
           ],
           "lon": [
            -64.3489782,
            -0.4739026334391784
           ],
           "marker": {
            "color": [
             "fuchsia",
             "fuchsia"
            ],
            "colorbar": {
             "thickness": 4,
             "tickprefix": " Inno Nr.: ",
             "title": {
              "side": "top",
              "text": "Innovations"
             }
            },
            "showscale": true,
            "size": [
             1,
             1
            ]
           },
           "type": "scattermapbox"
          }
         ],
         "name": "frame_2015-11-02"
        },
        {
         "data": [
          {
           "lat": [
            15.687100699999998
           ],
           "lon": [
            -90.12265453178016
           ],
           "marker": {
            "color": [
             "fuchsia"
            ],
            "colorbar": {
             "thickness": 4,
             "tickprefix": " Inno Nr.: ",
             "title": {
              "side": "top",
              "text": "Innovations"
             }
            },
            "showscale": true,
            "size": [
             1
            ]
           },
           "type": "scattermapbox"
          }
         ],
         "name": "frame_2015-11-05"
        },
        {
         "data": [
          {
           "lat": [
            39.49152155
           ],
           "lon": [
            -0.4739026334391784
           ],
           "marker": {
            "color": [
             "fuchsia"
            ],
            "colorbar": {
             "thickness": 4,
             "tickprefix": " Inno Nr.: ",
             "title": {
              "side": "top",
              "text": "Innovations"
             }
            },
            "showscale": true,
            "size": [
             1
            ]
           },
           "type": "scattermapbox"
          }
         ],
         "name": "frame_2015-12-05"
        },
        {
         "data": [
          {
           "lat": [
            -33.1237585
           ],
           "lon": [
            -64.3489782
           ],
           "marker": {
            "color": [
             "fuchsia"
            ],
            "colorbar": {
             "thickness": 4,
             "tickprefix": " Inno Nr.: ",
             "title": {
              "side": "top",
              "text": "Innovations"
             }
            },
            "showscale": true,
            "size": [
             1
            ]
           },
           "type": "scattermapbox"
          }
         ],
         "name": "frame_2015-12-16"
        },
        {
         "data": [
          {
           "lat": [
            -33.1237585
           ],
           "lon": [
            -64.3489782
           ],
           "marker": {
            "color": [
             "fuchsia"
            ],
            "colorbar": {
             "thickness": 4,
             "tickprefix": " Inno Nr.: ",
             "title": {
              "side": "top",
              "text": "Innovations"
             }
            },
            "showscale": true,
            "size": [
             1
            ]
           },
           "type": "scattermapbox"
          }
         ],
         "name": "frame_2016-01-04"
        },
        {
         "data": [
          {
           "lat": [
            -33.1237585
           ],
           "lon": [
            -64.3489782
           ],
           "marker": {
            "color": [
             "fuchsia"
            ],
            "colorbar": {
             "thickness": 4,
             "tickprefix": " Inno Nr.: ",
             "title": {
              "side": "top",
              "text": "Innovations"
             }
            },
            "showscale": true,
            "size": [
             1
            ]
           },
           "type": "scattermapbox"
          }
         ],
         "name": "frame_2016-01-07"
        },
        {
         "data": [
          {
           "lat": [
            -33.1237585
           ],
           "lon": [
            -64.3489782
           ],
           "marker": {
            "color": [
             "fuchsia"
            ],
            "colorbar": {
             "thickness": 4,
             "tickprefix": " Inno Nr.: ",
             "title": {
              "side": "top",
              "text": "Innovations"
             }
            },
            "showscale": true,
            "size": [
             1
            ]
           },
           "type": "scattermapbox"
          }
         ],
         "name": "frame_2016-02-02"
        },
        {
         "data": [
          {
           "lat": [
            -33.1237585,
            43.8130735
           ],
           "lon": [
            -64.3489782,
            125.3171216
           ],
           "marker": {
            "color": [
             "fuchsia",
             "fuchsia"
            ],
            "colorbar": {
             "thickness": 4,
             "tickprefix": " Inno Nr.: ",
             "title": {
              "side": "top",
              "text": "Innovations"
             }
            },
            "showscale": true,
            "size": [
             1,
             1
            ]
           },
           "type": "scattermapbox"
          }
         ],
         "name": "frame_2016-02-03"
        },
        {
         "data": [
          {
           "lat": [
            23.6585116
           ],
           "lon": [
            -102.0077097
           ],
           "marker": {
            "color": [
             "fuchsia"
            ],
            "colorbar": {
             "thickness": 4,
             "tickprefix": " Inno Nr.: ",
             "title": {
              "side": "top",
              "text": "Innovations"
             }
            },
            "showscale": true,
            "size": [
             1
            ]
           },
           "type": "scattermapbox"
          }
         ],
         "name": "frame_2016-02-04"
        },
        {
         "data": [
          {
           "lat": [
            -33.1237585
           ],
           "lon": [
            -64.3489782
           ],
           "marker": {
            "color": [
             "fuchsia"
            ],
            "colorbar": {
             "thickness": 4,
             "tickprefix": " Inno Nr.: ",
             "title": {
              "side": "top",
              "text": "Innovations"
             }
            },
            "showscale": true,
            "size": [
             1
            ]
           },
           "type": "scattermapbox"
          }
         ],
         "name": "frame_2016-02-05"
        },
        {
         "data": [
          {
           "lat": [
            23.6585116
           ],
           "lon": [
            -102.0077097
           ],
           "marker": {
            "color": [
             "fuchsia"
            ],
            "colorbar": {
             "thickness": 4,
             "tickprefix": " Inno Nr.: ",
             "title": {
              "side": "top",
              "text": "Innovations"
             }
            },
            "showscale": true,
            "size": [
             1
            ]
           },
           "type": "scattermapbox"
          }
         ],
         "name": "frame_2016-02-06"
        },
        {
         "data": [
          {
           "lat": [
            39.49152155,
            23.6585116
           ],
           "lon": [
            -0.4739026334391784,
            -102.0077097
           ],
           "marker": {
            "color": [
             "fuchsia",
             "fuchsia"
            ],
            "colorbar": {
             "thickness": 4,
             "tickprefix": " Inno Nr.: ",
             "title": {
              "side": "top",
              "text": "Innovations"
             }
            },
            "showscale": true,
            "size": [
             1,
             1
            ]
           },
           "type": "scattermapbox"
          }
         ],
         "name": "frame_2016-03-01"
        },
        {
         "data": [
          {
           "lat": [
            39.0757461
           ],
           "lon": [
            -84.5521238
           ],
           "marker": {
            "color": [
             "fuchsia"
            ],
            "colorbar": {
             "thickness": 4,
             "tickprefix": " Inno Nr.: ",
             "title": {
              "side": "top",
              "text": "Innovations"
             }
            },
            "showscale": true,
            "size": [
             1
            ]
           },
           "type": "scattermapbox"
          }
         ],
         "name": "frame_2016-03-02"
        },
        {
         "data": [
          {
           "lat": [
            -33.1237585
           ],
           "lon": [
            -64.3489782
           ],
           "marker": {
            "color": [
             "fuchsia"
            ],
            "colorbar": {
             "thickness": 4,
             "tickprefix": " Inno Nr.: ",
             "title": {
              "side": "top",
              "text": "Innovations"
             }
            },
            "showscale": true,
            "size": [
             1
            ]
           },
           "type": "scattermapbox"
          }
         ],
         "name": "frame_2016-03-08"
        },
        {
         "data": [
          {
           "lat": [
            -33.1237585,
            3.4517923
           ],
           "lon": [
            -64.3489782,
            -76.5324943
           ],
           "marker": {
            "color": [
             "fuchsia",
             "fuchsia"
            ],
            "colorbar": {
             "thickness": 4,
             "tickprefix": " Inno Nr.: ",
             "title": {
              "side": "top",
              "text": "Innovations"
             }
            },
            "showscale": true,
            "size": [
             1,
             1
            ]
           },
           "type": "scattermapbox"
          }
         ],
         "name": "frame_2016-03-09"
        },
        {
         "data": [
          {
           "lat": [
            39.49152155
           ],
           "lon": [
            -0.4739026334391784
           ],
           "marker": {
            "color": [
             "fuchsia"
            ],
            "colorbar": {
             "thickness": 4,
             "tickprefix": " Inno Nr.: ",
             "title": {
              "side": "top",
              "text": "Innovations"
             }
            },
            "showscale": true,
            "size": [
             1
            ]
           },
           "type": "scattermapbox"
          }
         ],
         "name": "frame_2016-03-10"
        },
        {
         "data": [
          {
           "lat": [
            23.6585116
           ],
           "lon": [
            -102.0077097
           ],
           "marker": {
            "color": [
             "fuchsia"
            ],
            "colorbar": {
             "thickness": 4,
             "tickprefix": " Inno Nr.: ",
             "title": {
              "side": "top",
              "text": "Innovations"
             }
            },
            "showscale": true,
            "size": [
             1
            ]
           },
           "type": "scattermapbox"
          }
         ],
         "name": "frame_2016-04-03"
        },
        {
         "data": [
          {
           "lat": [
            -27.3376114
           ],
           "lon": [
            -55.8669492
           ],
           "marker": {
            "color": [
             "fuchsia"
            ],
            "colorbar": {
             "thickness": 4,
             "tickprefix": " Inno Nr.: ",
             "title": {
              "side": "top",
              "text": "Innovations"
             }
            },
            "showscale": true,
            "size": [
             1
            ]
           },
           "type": "scattermapbox"
          }
         ],
         "name": "frame_2016-04-04"
        },
        {
         "data": [
          {
           "lat": [
            18.4801972,
            10.2375144
           ],
           "lon": [
            -69.942111,
            -67.5890216
           ],
           "marker": {
            "color": [
             "fuchsia",
             "fuchsia"
            ],
            "colorbar": {
             "thickness": 4,
             "tickprefix": " Inno Nr.: ",
             "title": {
              "side": "top",
              "text": "Innovations"
             }
            },
            "showscale": true,
            "size": [
             1,
             1
            ]
           },
           "type": "scattermapbox"
          }
         ],
         "name": "frame_2016-04-08"
        },
        {
         "data": [
          {
           "lat": [
            39.49152155
           ],
           "lon": [
            -0.4739026334391784
           ],
           "marker": {
            "color": [
             "fuchsia"
            ],
            "colorbar": {
             "thickness": 4,
             "tickprefix": " Inno Nr.: ",
             "title": {
              "side": "top",
              "text": "Innovations"
             }
            },
            "showscale": true,
            "size": [
             1
            ]
           },
           "type": "scattermapbox"
          }
         ],
         "name": "frame_2016-05-02"
        },
        {
         "data": [
          {
           "lat": [
            -33.1237585
           ],
           "lon": [
            -64.3489782
           ],
           "marker": {
            "color": [
             "fuchsia"
            ],
            "colorbar": {
             "thickness": 4,
             "tickprefix": " Inno Nr.: ",
             "title": {
              "side": "top",
              "text": "Innovations"
             }
            },
            "showscale": true,
            "size": [
             1
            ]
           },
           "type": "scattermapbox"
          }
         ],
         "name": "frame_2016-05-04"
        },
        {
         "data": [
          {
           "lat": [
            23.6585116
           ],
           "lon": [
            -102.0077097
           ],
           "marker": {
            "color": [
             "fuchsia"
            ],
            "colorbar": {
             "thickness": 4,
             "tickprefix": " Inno Nr.: ",
             "title": {
              "side": "top",
              "text": "Innovations"
             }
            },
            "showscale": true,
            "size": [
             1
            ]
           },
           "type": "scattermapbox"
          }
         ],
         "name": "frame_2016-06-01"
        },
        {
         "data": [
          {
           "lat": [
            -17.3795801
           ],
           "lon": [
            -66.16432856183624
           ],
           "marker": {
            "color": [
             "fuchsia"
            ],
            "colorbar": {
             "thickness": 4,
             "tickprefix": " Inno Nr.: ",
             "title": {
              "side": "top",
              "text": "Innovations"
             }
            },
            "showscale": true,
            "size": [
             1
            ]
           },
           "type": "scattermapbox"
          }
         ],
         "name": "frame_2016-06-11"
        },
        {
         "data": [
          {
           "lat": [
            -2.1900703
           ],
           "lon": [
            -79.8868702
           ],
           "marker": {
            "color": [
             "fuchsia"
            ],
            "colorbar": {
             "thickness": 4,
             "tickprefix": " Inno Nr.: ",
             "title": {
              "side": "top",
              "text": "Innovations"
             }
            },
            "showscale": true,
            "size": [
             1
            ]
           },
           "type": "scattermapbox"
          }
         ],
         "name": "frame_2016-06-12"
        },
        {
         "data": [
          {
           "lat": [
            23.6585116
           ],
           "lon": [
            -102.0077097
           ],
           "marker": {
            "color": [
             "fuchsia"
            ],
            "colorbar": {
             "thickness": 4,
             "tickprefix": " Inno Nr.: ",
             "title": {
              "side": "top",
              "text": "Innovations"
             }
            },
            "showscale": true,
            "size": [
             1
            ]
           },
           "type": "scattermapbox"
          }
         ],
         "name": "frame_2016-06-13"
        },
        {
         "data": [
          {
           "lat": [
            39.49152155
           ],
           "lon": [
            -0.4739026334391784
           ],
           "marker": {
            "color": [
             "fuchsia"
            ],
            "colorbar": {
             "thickness": 4,
             "tickprefix": " Inno Nr.: ",
             "title": {
              "side": "top",
              "text": "Innovations"
             }
            },
            "showscale": true,
            "size": [
             1
            ]
           },
           "type": "scattermapbox"
          }
         ],
         "name": "frame_2016-07-02"
        },
        {
         "data": [
          {
           "lat": [
            3.4517923,
            39.0757461
           ],
           "lon": [
            -76.5324943,
            -84.5521238
           ],
           "marker": {
            "color": [
             "fuchsia",
             "fuchsia"
            ],
            "colorbar": {
             "thickness": 4,
             "tickprefix": " Inno Nr.: ",
             "title": {
              "side": "top",
              "text": "Innovations"
             }
            },
            "showscale": true,
            "size": [
             1,
             1
            ]
           },
           "type": "scattermapbox"
          }
         ],
         "name": "frame_2016-07-03"
        },
        {
         "data": [
          {
           "lat": [
            23.6585116
           ],
           "lon": [
            -102.0077097
           ],
           "marker": {
            "color": [
             "fuchsia"
            ],
            "colorbar": {
             "thickness": 4,
             "tickprefix": " Inno Nr.: ",
             "title": {
              "side": "top",
              "text": "Innovations"
             }
            },
            "showscale": true,
            "size": [
             1
            ]
           },
           "type": "scattermapbox"
          }
         ],
         "name": "frame_2016-07-04"
        },
        {
         "data": [
          {
           "lat": [
            3.4517923
           ],
           "lon": [
            -76.5324943
           ],
           "marker": {
            "color": [
             "fuchsia"
            ],
            "colorbar": {
             "thickness": 4,
             "tickprefix": " Inno Nr.: ",
             "title": {
              "side": "top",
              "text": "Innovations"
             }
            },
            "showscale": true,
            "size": [
             1
            ]
           },
           "type": "scattermapbox"
          }
         ],
         "name": "frame_2016-07-06"
        },
        {
         "data": [
          {
           "lat": [
            45.4838459,
            23.6585116
           ],
           "lon": [
            9.2147675,
            -102.0077097
           ],
           "marker": {
            "color": [
             "fuchsia",
             "fuchsia"
            ],
            "colorbar": {
             "thickness": 4,
             "tickprefix": " Inno Nr.: ",
             "title": {
              "side": "top",
              "text": "Innovations"
             }
            },
            "showscale": true,
            "size": [
             1,
             1
            ]
           },
           "type": "scattermapbox"
          }
         ],
         "name": "frame_2016-07-07"
        },
        {
         "data": [
          {
           "lat": [
            -33.1237585
           ],
           "lon": [
            -64.3489782
           ],
           "marker": {
            "color": [
             "fuchsia"
            ],
            "colorbar": {
             "thickness": 4,
             "tickprefix": " Inno Nr.: ",
             "title": {
              "side": "top",
              "text": "Innovations"
             }
            },
            "showscale": true,
            "size": [
             1
            ]
           },
           "type": "scattermapbox"
          }
         ],
         "name": "frame_2016-08-02"
        },
        {
         "data": [
          {
           "lat": [
            23.6585116
           ],
           "lon": [
            -102.0077097
           ],
           "marker": {
            "color": [
             "fuchsia"
            ],
            "colorbar": {
             "thickness": 4,
             "tickprefix": " Inno Nr.: ",
             "title": {
              "side": "top",
              "text": "Innovations"
             }
            },
            "showscale": true,
            "size": [
             1
            ]
           },
           "type": "scattermapbox"
          }
         ],
         "name": "frame_2016-08-04"
        },
        {
         "data": [
          {
           "lat": [
            -33.1237585
           ],
           "lon": [
            -64.3489782
           ],
           "marker": {
            "color": [
             "fuchsia"
            ],
            "colorbar": {
             "thickness": 4,
             "tickprefix": " Inno Nr.: ",
             "title": {
              "side": "top",
              "text": "Innovations"
             }
            },
            "showscale": true,
            "size": [
             1
            ]
           },
           "type": "scattermapbox"
          }
         ],
         "name": "frame_2016-09-01"
        },
        {
         "data": [
          {
           "lat": [
            23.6585116
           ],
           "lon": [
            -102.0077097
           ],
           "marker": {
            "color": [
             "fuchsia"
            ],
            "colorbar": {
             "thickness": 4,
             "tickprefix": " Inno Nr.: ",
             "title": {
              "side": "top",
              "text": "Innovations"
             }
            },
            "showscale": true,
            "size": [
             1
            ]
           },
           "type": "scattermapbox"
          }
         ],
         "name": "frame_2016-09-03"
        },
        {
         "data": [
          {
           "lat": [
            -33.1237585,
            23.1157647,
            23.6585116
           ],
           "lon": [
            -64.3489782,
            -82.3767142,
            -102.0077097
           ],
           "marker": {
            "color": [
             "fuchsia",
             "fuchsia",
             "fuchsia"
            ],
            "colorbar": {
             "thickness": 4,
             "tickprefix": " Inno Nr.: ",
             "title": {
              "side": "top",
              "text": "Innovations"
             }
            },
            "showscale": true,
            "size": [
             1,
             1,
             1
            ]
           },
           "type": "scattermapbox"
          }
         ],
         "name": "frame_2016-09-06"
        },
        {
         "data": [
          {
           "lat": [
            -33.1237585,
            23.6585116
           ],
           "lon": [
            -64.3489782,
            -102.0077097
           ],
           "marker": {
            "color": [
             "fuchsia",
             "fuchsia"
            ],
            "colorbar": {
             "thickness": 4,
             "tickprefix": " Inno Nr.: ",
             "title": {
              "side": "top",
              "text": "Innovations"
             }
            },
            "showscale": true,
            "size": [
             1,
             1
            ]
           },
           "type": "scattermapbox"
          }
         ],
         "name": "frame_2016-09-07"
        },
        {
         "data": [
          {
           "lat": [
            39.49152155
           ],
           "lon": [
            -0.4739026334391784
           ],
           "marker": {
            "color": [
             "fuchsia"
            ],
            "colorbar": {
             "thickness": 4,
             "tickprefix": " Inno Nr.: ",
             "title": {
              "side": "top",
              "text": "Innovations"
             }
            },
            "showscale": true,
            "size": [
             1
            ]
           },
           "type": "scattermapbox"
          }
         ],
         "name": "frame_2016-09-08"
        },
        {
         "data": [
          {
           "lat": [
            39.49152155
           ],
           "lon": [
            -0.4739026334391784
           ],
           "marker": {
            "color": [
             "fuchsia"
            ],
            "colorbar": {
             "thickness": 4,
             "tickprefix": " Inno Nr.: ",
             "title": {
              "side": "top",
              "text": "Innovations"
             }
            },
            "showscale": true,
            "size": [
             1
            ]
           },
           "type": "scattermapbox"
          }
         ],
         "name": "frame_2016-10-01"
        },
        {
         "data": [
          {
           "lat": [
            23.6585116
           ],
           "lon": [
            -102.0077097
           ],
           "marker": {
            "color": [
             "fuchsia"
            ],
            "colorbar": {
             "thickness": 4,
             "tickprefix": " Inno Nr.: ",
             "title": {
              "side": "top",
              "text": "Innovations"
             }
            },
            "showscale": true,
            "size": [
             1
            ]
           },
           "type": "scattermapbox"
          }
         ],
         "name": "frame_2016-10-05"
        },
        {
         "data": [
          {
           "lat": [
            -33.1237585,
            3.4517923
           ],
           "lon": [
            -64.3489782,
            -76.5324943
           ],
           "marker": {
            "color": [
             "fuchsia",
             "fuchsia"
            ],
            "colorbar": {
             "thickness": 4,
             "tickprefix": " Inno Nr.: ",
             "title": {
              "side": "top",
              "text": "Innovations"
             }
            },
            "showscale": true,
            "size": [
             1,
             1
            ]
           },
           "type": "scattermapbox"
          }
         ],
         "name": "frame_2016-10-06"
        },
        {
         "data": [
          {
           "lat": [
            -33.1237585
           ],
           "lon": [
            -64.3489782
           ],
           "marker": {
            "color": [
             "fuchsia"
            ],
            "colorbar": {
             "thickness": 4,
             "tickprefix": " Inno Nr.: ",
             "title": {
              "side": "top",
              "text": "Innovations"
             }
            },
            "showscale": true,
            "size": [
             1
            ]
           },
           "type": "scattermapbox"
          }
         ],
         "name": "frame_2016-10-07"
        },
        {
         "data": [
          {
           "lat": [
            60.5000209
           ],
           "lon": [
            9.0999715
           ],
           "marker": {
            "color": [
             "fuchsia"
            ],
            "colorbar": {
             "thickness": 4,
             "tickprefix": " Inno Nr.: ",
             "title": {
              "side": "top",
              "text": "Innovations"
             }
            },
            "showscale": true,
            "size": [
             1
            ]
           },
           "type": "scattermapbox"
          }
         ],
         "name": "frame_2016-11-02"
        },
        {
         "data": [
          {
           "lat": [
            39.49152155
           ],
           "lon": [
            -0.4739026334391784
           ],
           "marker": {
            "color": [
             "fuchsia"
            ],
            "colorbar": {
             "thickness": 4,
             "tickprefix": " Inno Nr.: ",
             "title": {
              "side": "top",
              "text": "Innovations"
             }
            },
            "showscale": true,
            "size": [
             1
            ]
           },
           "type": "scattermapbox"
          }
         ],
         "name": "frame_2016-11-06"
        },
        {
         "data": [
          {
           "lat": [
            46.0050102
           ],
           "lon": [
            8.9520281
           ],
           "marker": {
            "color": [
             "fuchsia"
            ],
            "colorbar": {
             "thickness": 4,
             "tickprefix": " Inno Nr.: ",
             "title": {
              "side": "top",
              "text": "Innovations"
             }
            },
            "showscale": true,
            "size": [
             1
            ]
           },
           "type": "scattermapbox"
          }
         ],
         "name": "frame_2016-11-07"
        },
        {
         "data": [
          {
           "lat": [
            30.6463542
           ],
           "lon": [
            -7.4494739
           ],
           "marker": {
            "color": [
             "fuchsia"
            ],
            "colorbar": {
             "thickness": 4,
             "tickprefix": " Inno Nr.: ",
             "title": {
              "side": "top",
              "text": "Innovations"
             }
            },
            "showscale": true,
            "size": [
             1
            ]
           },
           "type": "scattermapbox"
          }
         ],
         "name": "frame_2016-12-02"
        },
        {
         "data": [
          {
           "lat": [
            -33.1237585
           ],
           "lon": [
            -64.3489782
           ],
           "marker": {
            "color": [
             "fuchsia"
            ],
            "colorbar": {
             "thickness": 4,
             "tickprefix": " Inno Nr.: ",
             "title": {
              "side": "top",
              "text": "Innovations"
             }
            },
            "showscale": true,
            "size": [
             1
            ]
           },
           "type": "scattermapbox"
          }
         ],
         "name": "frame_2017-01-01"
        },
        {
         "data": [
          {
           "lat": [
            39.49152155
           ],
           "lon": [
            -0.4739026334391784
           ],
           "marker": {
            "color": [
             "fuchsia"
            ],
            "colorbar": {
             "thickness": 4,
             "tickprefix": " Inno Nr.: ",
             "title": {
              "side": "top",
              "text": "Innovations"
             }
            },
            "showscale": true,
            "size": [
             1
            ]
           },
           "type": "scattermapbox"
          }
         ],
         "name": "frame_2017-02-01"
        },
        {
         "data": [
          {
           "lat": [
            51.778552
           ],
           "lon": [
            -4.8051643196745495
           ],
           "marker": {
            "color": [
             "fuchsia"
            ],
            "colorbar": {
             "thickness": 4,
             "tickprefix": " Inno Nr.: ",
             "title": {
              "side": "top",
              "text": "Innovations"
             }
            },
            "showscale": true,
            "size": [
             1
            ]
           },
           "type": "scattermapbox"
          }
         ],
         "name": "frame_2017-02-05"
        },
        {
         "data": [
          {
           "lat": [
            23.6585116
           ],
           "lon": [
            -102.0077097
           ],
           "marker": {
            "color": [
             "fuchsia"
            ],
            "colorbar": {
             "thickness": 4,
             "tickprefix": " Inno Nr.: ",
             "title": {
              "side": "top",
              "text": "Innovations"
             }
            },
            "showscale": true,
            "size": [
             1
            ]
           },
           "type": "scattermapbox"
          }
         ],
         "name": "frame_2017-02-06"
        },
        {
         "data": [
          {
           "lat": [
            23.6585116
           ],
           "lon": [
            -102.0077097
           ],
           "marker": {
            "color": [
             "fuchsia"
            ],
            "colorbar": {
             "thickness": 4,
             "tickprefix": " Inno Nr.: ",
             "title": {
              "side": "top",
              "text": "Innovations"
             }
            },
            "showscale": true,
            "size": [
             1
            ]
           },
           "type": "scattermapbox"
          }
         ],
         "name": "frame_2017-03-05"
        },
        {
         "data": [
          {
           "lat": [
            3.4517923
           ],
           "lon": [
            -76.5324943
           ],
           "marker": {
            "color": [
             "fuchsia"
            ],
            "colorbar": {
             "thickness": 4,
             "tickprefix": " Inno Nr.: ",
             "title": {
              "side": "top",
              "text": "Innovations"
             }
            },
            "showscale": true,
            "size": [
             1
            ]
           },
           "type": "scattermapbox"
          }
         ],
         "name": "frame_2017-03-07"
        },
        {
         "data": [
          {
           "lat": [
            -27.3376114
           ],
           "lon": [
            -55.8669492
           ],
           "marker": {
            "color": [
             "fuchsia"
            ],
            "colorbar": {
             "thickness": 4,
             "tickprefix": " Inno Nr.: ",
             "title": {
              "side": "top",
              "text": "Innovations"
             }
            },
            "showscale": true,
            "size": [
             1
            ]
           },
           "type": "scattermapbox"
          }
         ],
         "name": "frame_2017-04-08"
        },
        {
         "data": [
          {
           "lat": [
            -34.2900689
           ],
           "lon": [
            -55.9574463
           ],
           "marker": {
            "color": [
             "fuchsia"
            ],
            "colorbar": {
             "thickness": 4,
             "tickprefix": " Inno Nr.: ",
             "title": {
              "side": "top",
              "text": "Innovations"
             }
            },
            "showscale": true,
            "size": [
             1
            ]
           },
           "type": "scattermapbox"
          }
         ],
         "name": "frame_2017-05-01"
        },
        {
         "data": [
          {
           "lat": [
            39.49152155
           ],
           "lon": [
            -0.4739026334391784
           ],
           "marker": {
            "color": [
             "fuchsia"
            ],
            "colorbar": {
             "thickness": 4,
             "tickprefix": " Inno Nr.: ",
             "title": {
              "side": "top",
              "text": "Innovations"
             }
            },
            "showscale": true,
            "size": [
             1
            ]
           },
           "type": "scattermapbox"
          }
         ],
         "name": "frame_2017-06-07"
        },
        {
         "data": [
          {
           "lat": [
            39.49152155
           ],
           "lon": [
            -0.4739026334391784
           ],
           "marker": {
            "color": [
             "fuchsia"
            ],
            "colorbar": {
             "thickness": 4,
             "tickprefix": " Inno Nr.: ",
             "title": {
              "side": "top",
              "text": "Innovations"
             }
            },
            "showscale": true,
            "size": [
             1
            ]
           },
           "type": "scattermapbox"
          }
         ],
         "name": "frame_2017-07-01"
        },
        {
         "data": [
          {
           "lat": [
            3.4517923
           ],
           "lon": [
            -76.5324943
           ],
           "marker": {
            "color": [
             "fuchsia"
            ],
            "colorbar": {
             "thickness": 4,
             "tickprefix": " Inno Nr.: ",
             "title": {
              "side": "top",
              "text": "Innovations"
             }
            },
            "showscale": true,
            "size": [
             1
            ]
           },
           "type": "scattermapbox"
          }
         ],
         "name": "frame_2017-07-02"
        },
        {
         "data": [
          {
           "lat": [
            39.49152155
           ],
           "lon": [
            -0.4739026334391784
           ],
           "marker": {
            "color": [
             "fuchsia"
            ],
            "colorbar": {
             "thickness": 4,
             "tickprefix": " Inno Nr.: ",
             "title": {
              "side": "top",
              "text": "Innovations"
             }
            },
            "showscale": true,
            "size": [
             1
            ]
           },
           "type": "scattermapbox"
          }
         ],
         "name": "frame_2017-07-03"
        },
        {
         "data": [
          {
           "lat": [
            39.49152155,
            23.6585116
           ],
           "lon": [
            -0.4739026334391784,
            -102.0077097
           ],
           "marker": {
            "color": [
             "fuchsia",
             "fuchsia"
            ],
            "colorbar": {
             "thickness": 4,
             "tickprefix": " Inno Nr.: ",
             "title": {
              "side": "top",
              "text": "Innovations"
             }
            },
            "showscale": true,
            "size": [
             1,
             1
            ]
           },
           "type": "scattermapbox"
          }
         ],
         "name": "frame_2017-07-04"
        },
        {
         "data": [
          {
           "lat": [
            -33.1237585,
            23.6585116
           ],
           "lon": [
            -64.3489782,
            -102.0077097
           ],
           "marker": {
            "color": [
             "fuchsia",
             "fuchsia"
            ],
            "colorbar": {
             "thickness": 4,
             "tickprefix": " Inno Nr.: ",
             "title": {
              "side": "top",
              "text": "Innovations"
             }
            },
            "showscale": true,
            "size": [
             1,
             1
            ]
           },
           "type": "scattermapbox"
          }
         ],
         "name": "frame_2017-07-05"
        },
        {
         "data": [
          {
           "lat": [
            39.49152155
           ],
           "lon": [
            -0.4739026334391784
           ],
           "marker": {
            "color": [
             "fuchsia"
            ],
            "colorbar": {
             "thickness": 4,
             "tickprefix": " Inno Nr.: ",
             "title": {
              "side": "top",
              "text": "Innovations"
             }
            },
            "showscale": true,
            "size": [
             1
            ]
           },
           "type": "scattermapbox"
          }
         ],
         "name": "frame_2017-07-06"
        },
        {
         "data": [
          {
           "lat": [
            19.37218875,
            39.49152155,
            23.6585116
           ],
           "lon": [
            -72.33465445105234,
            -0.4739026334391784,
            -102.0077097
           ],
           "marker": {
            "color": [
             "fuchsia",
             "fuchsia",
             "fuchsia"
            ],
            "colorbar": {
             "thickness": 4,
             "tickprefix": " Inno Nr.: ",
             "title": {
              "side": "top",
              "text": "Innovations"
             }
            },
            "showscale": true,
            "size": [
             1,
             1,
             1
            ]
           },
           "type": "scattermapbox"
          }
         ],
         "name": "frame_2017-07-07"
        },
        {
         "data": [
          {
           "lat": [
            3.4517923
           ],
           "lon": [
            -76.5324943
           ],
           "marker": {
            "color": [
             "fuchsia"
            ],
            "colorbar": {
             "thickness": 4,
             "tickprefix": " Inno Nr.: ",
             "title": {
              "side": "top",
              "text": "Innovations"
             }
            },
            "showscale": true,
            "size": [
             1
            ]
           },
           "type": "scattermapbox"
          }
         ],
         "name": "frame_2017-08-09"
        },
        {
         "data": [
          {
           "lat": [
            -33.1237585
           ],
           "lon": [
            -64.3489782
           ],
           "marker": {
            "color": [
             "fuchsia"
            ],
            "colorbar": {
             "thickness": 4,
             "tickprefix": " Inno Nr.: ",
             "title": {
              "side": "top",
              "text": "Innovations"
             }
            },
            "showscale": true,
            "size": [
             1
            ]
           },
           "type": "scattermapbox"
          }
         ],
         "name": "frame_2017-09-04"
        },
        {
         "data": [
          {
           "lat": [
            23.6585116
           ],
           "lon": [
            -102.0077097
           ],
           "marker": {
            "color": [
             "fuchsia"
            ],
            "colorbar": {
             "thickness": 4,
             "tickprefix": " Inno Nr.: ",
             "title": {
              "side": "top",
              "text": "Innovations"
             }
            },
            "showscale": true,
            "size": [
             1
            ]
           },
           "type": "scattermapbox"
          }
         ],
         "name": "frame_2017-09-07"
        },
        {
         "data": [
          {
           "lat": [
            23.6585116
           ],
           "lon": [
            -102.0077097
           ],
           "marker": {
            "color": [
             "fuchsia"
            ],
            "colorbar": {
             "thickness": 4,
             "tickprefix": " Inno Nr.: ",
             "title": {
              "side": "top",
              "text": "Innovations"
             }
            },
            "showscale": true,
            "size": [
             1
            ]
           },
           "type": "scattermapbox"
          }
         ],
         "name": "frame_2017-10-02"
        },
        {
         "data": [
          {
           "lat": [
            39.49152155
           ],
           "lon": [
            -0.4739026334391784
           ],
           "marker": {
            "color": [
             "fuchsia"
            ],
            "colorbar": {
             "thickness": 4,
             "tickprefix": " Inno Nr.: ",
             "title": {
              "side": "top",
              "text": "Innovations"
             }
            },
            "showscale": true,
            "size": [
             1
            ]
           },
           "type": "scattermapbox"
          }
         ],
         "name": "frame_2017-10-04"
        },
        {
         "data": [
          {
           "lat": [
            -33.1237585
           ],
           "lon": [
            -64.3489782
           ],
           "marker": {
            "color": [
             "fuchsia"
            ],
            "colorbar": {
             "thickness": 4,
             "tickprefix": " Inno Nr.: ",
             "title": {
              "side": "top",
              "text": "Innovations"
             }
            },
            "showscale": true,
            "size": [
             1
            ]
           },
           "type": "scattermapbox"
          }
         ],
         "name": "frame_2017-10-07"
        },
        {
         "data": [
          {
           "lat": [
            3.4517923,
            15.687100699999998,
            23.6585116,
            10.2375144
           ],
           "lon": [
            -76.5324943,
            -90.12265453178016,
            -102.0077097,
            -67.5890216
           ],
           "marker": {
            "color": [
             "fuchsia",
             "fuchsia",
             "fuchsia",
             "fuchsia"
            ],
            "colorbar": {
             "thickness": 4,
             "tickprefix": " Inno Nr.: ",
             "title": {
              "side": "top",
              "text": "Innovations"
             }
            },
            "showscale": true,
            "size": [
             1,
             1,
             1,
             1
            ]
           },
           "type": "scattermapbox"
          }
         ],
         "name": "frame_2017-11-06"
        },
        {
         "data": [
          {
           "lat": [
            10.2375144
           ],
           "lon": [
            -67.5890216
           ],
           "marker": {
            "color": [
             "fuchsia"
            ],
            "colorbar": {
             "thickness": 4,
             "tickprefix": " Inno Nr.: ",
             "title": {
              "side": "top",
              "text": "Innovations"
             }
            },
            "showscale": true,
            "size": [
             1
            ]
           },
           "type": "scattermapbox"
          }
         ],
         "name": "frame_2017-12-02"
        },
        {
         "data": [
          {
           "lat": [
            44.7639843
           ],
           "lon": [
            4.9158503
           ],
           "marker": {
            "color": [
             "fuchsia"
            ],
            "colorbar": {
             "thickness": 4,
             "tickprefix": " Inno Nr.: ",
             "title": {
              "side": "top",
              "text": "Innovations"
             }
            },
            "showscale": true,
            "size": [
             1
            ]
           },
           "type": "scattermapbox"
          }
         ],
         "name": "frame_2018-01-04"
        },
        {
         "data": [
          {
           "lat": [
            23.6585116
           ],
           "lon": [
            -102.0077097
           ],
           "marker": {
            "color": [
             "fuchsia"
            ],
            "colorbar": {
             "thickness": 4,
             "tickprefix": " Inno Nr.: ",
             "title": {
              "side": "top",
              "text": "Innovations"
             }
            },
            "showscale": true,
            "size": [
             1
            ]
           },
           "type": "scattermapbox"
          }
         ],
         "name": "frame_2018-01-05"
        },
        {
         "data": [
          {
           "lat": [
            23.6585116
           ],
           "lon": [
            -102.0077097
           ],
           "marker": {
            "color": [
             "fuchsia"
            ],
            "colorbar": {
             "thickness": 4,
             "tickprefix": " Inno Nr.: ",
             "title": {
              "side": "top",
              "text": "Innovations"
             }
            },
            "showscale": true,
            "size": [
             1
            ]
           },
           "type": "scattermapbox"
          }
         ],
         "name": "frame_2018-01-08"
        },
        {
         "data": [
          {
           "lat": [
            51.778552
           ],
           "lon": [
            -4.8051643196745495
           ],
           "marker": {
            "color": [
             "fuchsia"
            ],
            "colorbar": {
             "thickness": 4,
             "tickprefix": " Inno Nr.: ",
             "title": {
              "side": "top",
              "text": "Innovations"
             }
            },
            "showscale": true,
            "size": [
             1
            ]
           },
           "type": "scattermapbox"
          }
         ],
         "name": "frame_2018-02-08"
        },
        {
         "data": [
          {
           "lat": [
            3.4517923
           ],
           "lon": [
            -76.5324943
           ],
           "marker": {
            "color": [
             "fuchsia"
            ],
            "colorbar": {
             "thickness": 4,
             "tickprefix": " Inno Nr.: ",
             "title": {
              "side": "top",
              "text": "Innovations"
             }
            },
            "showscale": true,
            "size": [
             1
            ]
           },
           "type": "scattermapbox"
          }
         ],
         "name": "frame_2018-03-03"
        },
        {
         "data": [
          {
           "lat": [
            3.4517923
           ],
           "lon": [
            -76.5324943
           ],
           "marker": {
            "color": [
             "fuchsia"
            ],
            "colorbar": {
             "thickness": 4,
             "tickprefix": " Inno Nr.: ",
             "title": {
              "side": "top",
              "text": "Innovations"
             }
            },
            "showscale": true,
            "size": [
             1
            ]
           },
           "type": "scattermapbox"
          }
         ],
         "name": "frame_2018-03-04"
        },
        {
         "data": [
          {
           "lat": [
            -2.1900703
           ],
           "lon": [
            -79.8868702
           ],
           "marker": {
            "color": [
             "fuchsia"
            ],
            "colorbar": {
             "thickness": 4,
             "tickprefix": " Inno Nr.: ",
             "title": {
              "side": "top",
              "text": "Innovations"
             }
            },
            "showscale": true,
            "size": [
             1
            ]
           },
           "type": "scattermapbox"
          }
         ],
         "name": "frame_2018-04-03"
        },
        {
         "data": [
          {
           "lat": [
            -33.1237585
           ],
           "lon": [
            -64.3489782
           ],
           "marker": {
            "color": [
             "fuchsia"
            ],
            "colorbar": {
             "thickness": 4,
             "tickprefix": " Inno Nr.: ",
             "title": {
              "side": "top",
              "text": "Innovations"
             }
            },
            "showscale": true,
            "size": [
             1
            ]
           },
           "type": "scattermapbox"
          }
         ],
         "name": "frame_2018-04-04"
        },
        {
         "data": [
          {
           "lat": [
            15.2572432
           ],
           "lon": [
            -86.0755145
           ],
           "marker": {
            "color": [
             "fuchsia"
            ],
            "colorbar": {
             "thickness": 4,
             "tickprefix": " Inno Nr.: ",
             "title": {
              "side": "top",
              "text": "Innovations"
             }
            },
            "showscale": true,
            "size": [
             1
            ]
           },
           "type": "scattermapbox"
          }
         ],
         "name": "frame_2018-05-02"
        },
        {
         "data": [
          {
           "lat": [
            39.49152155
           ],
           "lon": [
            -0.4739026334391784
           ],
           "marker": {
            "color": [
             "fuchsia"
            ],
            "colorbar": {
             "thickness": 4,
             "tickprefix": " Inno Nr.: ",
             "title": {
              "side": "top",
              "text": "Innovations"
             }
            },
            "showscale": true,
            "size": [
             1
            ]
           },
           "type": "scattermapbox"
          }
         ],
         "name": "frame_2018-05-03"
        },
        {
         "data": [
          {
           "lat": [
            23.6585116
           ],
           "lon": [
            -102.0077097
           ],
           "marker": {
            "color": [
             "fuchsia"
            ],
            "colorbar": {
             "thickness": 4,
             "tickprefix": " Inno Nr.: ",
             "title": {
              "side": "top",
              "text": "Innovations"
             }
            },
            "showscale": true,
            "size": [
             1
            ]
           },
           "type": "scattermapbox"
          }
         ],
         "name": "frame_2018-05-05"
        },
        {
         "data": [
          {
           "lat": [
            15.687100699999998
           ],
           "lon": [
            -90.12265453178016
           ],
           "marker": {
            "color": [
             "fuchsia"
            ],
            "colorbar": {
             "thickness": 4,
             "tickprefix": " Inno Nr.: ",
             "title": {
              "side": "top",
              "text": "Innovations"
             }
            },
            "showscale": true,
            "size": [
             1
            ]
           },
           "type": "scattermapbox"
          }
         ],
         "name": "frame_2018-05-08"
        },
        {
         "data": [
          {
           "lat": [
            -2.1900703
           ],
           "lon": [
            -79.8868702
           ],
           "marker": {
            "color": [
             "fuchsia"
            ],
            "colorbar": {
             "thickness": 4,
             "tickprefix": " Inno Nr.: ",
             "title": {
              "side": "top",
              "text": "Innovations"
             }
            },
            "showscale": true,
            "size": [
             1
            ]
           },
           "type": "scattermapbox"
          }
         ],
         "name": "frame_2018-06-08"
        },
        {
         "data": [
          {
           "lat": [
            -33.1237585
           ],
           "lon": [
            -64.3489782
           ],
           "marker": {
            "color": [
             "fuchsia"
            ],
            "colorbar": {
             "thickness": 4,
             "tickprefix": " Inno Nr.: ",
             "title": {
              "side": "top",
              "text": "Innovations"
             }
            },
            "showscale": true,
            "size": [
             1
            ]
           },
           "type": "scattermapbox"
          }
         ],
         "name": "frame_2018-06-10"
        },
        {
         "data": [
          {
           "lat": [
            -33.1237585
           ],
           "lon": [
            -64.3489782
           ],
           "marker": {
            "color": [
             "fuchsia"
            ],
            "colorbar": {
             "thickness": 4,
             "tickprefix": " Inno Nr.: ",
             "title": {
              "side": "top",
              "text": "Innovations"
             }
            },
            "showscale": true,
            "size": [
             1
            ]
           },
           "type": "scattermapbox"
          }
         ],
         "name": "frame_2018-06-11"
        },
        {
         "data": [
          {
           "lat": [
            58.5959044
           ],
           "lon": [
            23.21964608602439
           ],
           "marker": {
            "color": [
             "fuchsia"
            ],
            "colorbar": {
             "thickness": 4,
             "tickprefix": " Inno Nr.: ",
             "title": {
              "side": "top",
              "text": "Innovations"
             }
            },
            "showscale": true,
            "size": [
             1
            ]
           },
           "type": "scattermapbox"
          }
         ],
         "name": "frame_2018-07-13"
        },
        {
         "data": [
          {
           "lat": [
            13.6989939
           ],
           "lon": [
            -89.1914249
           ],
           "marker": {
            "color": [
             "fuchsia"
            ],
            "colorbar": {
             "thickness": 4,
             "tickprefix": " Inno Nr.: ",
             "title": {
              "side": "top",
              "text": "Innovations"
             }
            },
            "showscale": true,
            "size": [
             1
            ]
           },
           "type": "scattermapbox"
          }
         ],
         "name": "frame_2018-09-07"
        },
        {
         "data": [
          {
           "lat": [
            3.4517923,
            18.1850507,
            23.6585116
           ],
           "lon": [
            -76.5324943,
            -77.3947693,
            -102.0077097
           ],
           "marker": {
            "color": [
             "fuchsia",
             "fuchsia",
             "fuchsia"
            ],
            "colorbar": {
             "thickness": 4,
             "tickprefix": " Inno Nr.: ",
             "title": {
              "side": "top",
              "text": "Innovations"
             }
            },
            "showscale": true,
            "size": [
             1,
             1,
             1
            ]
           },
           "type": "scattermapbox"
          }
         ],
         "name": "frame_2018-10-07"
        },
        {
         "data": [
          {
           "lat": [
            23.6585116
           ],
           "lon": [
            -102.0077097
           ],
           "marker": {
            "color": [
             "fuchsia"
            ],
            "colorbar": {
             "thickness": 4,
             "tickprefix": " Inno Nr.: ",
             "title": {
              "side": "top",
              "text": "Innovations"
             }
            },
            "showscale": true,
            "size": [
             1
            ]
           },
           "type": "scattermapbox"
          }
         ],
         "name": "frame_2018-11-06"
        },
        {
         "data": [
          {
           "lat": [
            -33.1237585
           ],
           "lon": [
            -64.3489782
           ],
           "marker": {
            "color": [
             "fuchsia"
            ],
            "colorbar": {
             "thickness": 4,
             "tickprefix": " Inno Nr.: ",
             "title": {
              "side": "top",
              "text": "Innovations"
             }
            },
            "showscale": true,
            "size": [
             1
            ]
           },
           "type": "scattermapbox"
          }
         ],
         "name": "frame_2019-03-05"
        },
        {
         "data": [
          {
           "lat": [
            3.4517923
           ],
           "lon": [
            -76.5324943
           ],
           "marker": {
            "color": [
             "fuchsia"
            ],
            "colorbar": {
             "thickness": 4,
             "tickprefix": " Inno Nr.: ",
             "title": {
              "side": "top",
              "text": "Innovations"
             }
            },
            "showscale": true,
            "size": [
             1
            ]
           },
           "type": "scattermapbox"
          }
         ],
         "name": "frame_2019-07-02"
        },
        {
         "data": [
          {
           "lat": [
            -33.1237585
           ],
           "lon": [
            -64.3489782
           ],
           "marker": {
            "color": [
             "fuchsia"
            ],
            "colorbar": {
             "thickness": 4,
             "tickprefix": " Inno Nr.: ",
             "title": {
              "side": "top",
              "text": "Innovations"
             }
            },
            "showscale": true,
            "size": [
             1
            ]
           },
           "type": "scattermapbox"
          }
         ],
         "name": "frame_2019-07-05"
        },
        {
         "data": [
          {
           "lat": [
            3.4517923
           ],
           "lon": [
            -76.5324943
           ],
           "marker": {
            "color": [
             "fuchsia"
            ],
            "colorbar": {
             "thickness": 4,
             "tickprefix": " Inno Nr.: ",
             "title": {
              "side": "top",
              "text": "Innovations"
             }
            },
            "showscale": true,
            "size": [
             1
            ]
           },
           "type": "scattermapbox"
          }
         ],
         "name": "frame_2019-08-03"
        },
        {
         "data": [
          {
           "lat": [
            39.49152155
           ],
           "lon": [
            -0.4739026334391784
           ],
           "marker": {
            "color": [
             "fuchsia"
            ],
            "colorbar": {
             "thickness": 4,
             "tickprefix": " Inno Nr.: ",
             "title": {
              "side": "top",
              "text": "Innovations"
             }
            },
            "showscale": true,
            "size": [
             1
            ]
           },
           "type": "scattermapbox"
          }
         ],
         "name": "frame_2019-09-06"
        },
        {
         "data": [
          {
           "lat": [
            10.2375144
           ],
           "lon": [
            -67.5890216
           ],
           "marker": {
            "color": [
             "fuchsia"
            ],
            "colorbar": {
             "thickness": 4,
             "tickprefix": " Inno Nr.: ",
             "title": {
              "side": "top",
              "text": "Innovations"
             }
            },
            "showscale": true,
            "size": [
             1
            ]
           },
           "type": "scattermapbox"
          }
         ],
         "name": "frame_2019-10-08"
        }
       ],
       "layout": {
        "mapbox": {
         "accesstoken": "sk.eyJ1IjoibGludXNyZyIsImEiOiJjbDNoNG0xbzAxODh6M2xwcnY5YjBjdzBzIn0.5y7lSclNZuEcjPIDDOwhVg",
         "center": {
          "lat": 7,
          "lon": -33
         },
         "style": "open-street-map",
         "zoom": 1.7
        },
        "sliders": [
         {
          "currentvalue": {
           "font": {
            "size": 15
           },
           "prefix": "📅 ",
           "visible": true,
           "xanchor": "center"
          },
          "len": 0.88,
          "steps": [
           {
            "args": [
             [
              "frame_2013-04-01"
             ],
             {
              "frame": {
               "duration": 100,
               "redraw": true
              },
              "mode": "immediate",
              "transition": {
               "duration": 50
              }
             }
            ],
            "label": "2013-04-01",
            "method": "animate"
           },
           {
            "args": [
             [
              "frame_2013-04-03"
             ],
             {
              "frame": {
               "duration": 100,
               "redraw": true
              },
              "mode": "immediate",
              "transition": {
               "duration": 50
              }
             }
            ],
            "label": "2013-04-03",
            "method": "animate"
           },
           {
            "args": [
             [
              "frame_2013-04-04"
             ],
             {
              "frame": {
               "duration": 100,
               "redraw": true
              },
              "mode": "immediate",
              "transition": {
               "duration": 50
              }
             }
            ],
            "label": "2013-04-04",
            "method": "animate"
           },
           {
            "args": [
             [
              "frame_2013-04-05"
             ],
             {
              "frame": {
               "duration": 100,
               "redraw": true
              },
              "mode": "immediate",
              "transition": {
               "duration": 50
              }
             }
            ],
            "label": "2013-04-05",
            "method": "animate"
           },
           {
            "args": [
             [
              "frame_2013-05-03"
             ],
             {
              "frame": {
               "duration": 100,
               "redraw": true
              },
              "mode": "immediate",
              "transition": {
               "duration": 50
              }
             }
            ],
            "label": "2013-05-03",
            "method": "animate"
           },
           {
            "args": [
             [
              "frame_2013-05-08"
             ],
             {
              "frame": {
               "duration": 100,
               "redraw": true
              },
              "mode": "immediate",
              "transition": {
               "duration": 50
              }
             }
            ],
            "label": "2013-05-08",
            "method": "animate"
           },
           {
            "args": [
             [
              "frame_2013-06-03"
             ],
             {
              "frame": {
               "duration": 100,
               "redraw": true
              },
              "mode": "immediate",
              "transition": {
               "duration": 50
              }
             }
            ],
            "label": "2013-06-03",
            "method": "animate"
           },
           {
            "args": [
             [
              "frame_2013-06-05"
             ],
             {
              "frame": {
               "duration": 100,
               "redraw": true
              },
              "mode": "immediate",
              "transition": {
               "duration": 50
              }
             }
            ],
            "label": "2013-06-05",
            "method": "animate"
           },
           {
            "args": [
             [
              "frame_2013-06-06"
             ],
             {
              "frame": {
               "duration": 100,
               "redraw": true
              },
              "mode": "immediate",
              "transition": {
               "duration": 50
              }
             }
            ],
            "label": "2013-06-06",
            "method": "animate"
           },
           {
            "args": [
             [
              "frame_2013-07-02"
             ],
             {
              "frame": {
               "duration": 100,
               "redraw": true
              },
              "mode": "immediate",
              "transition": {
               "duration": 50
              }
             }
            ],
            "label": "2013-07-02",
            "method": "animate"
           },
           {
            "args": [
             [
              "frame_2013-07-03"
             ],
             {
              "frame": {
               "duration": 100,
               "redraw": true
              },
              "mode": "immediate",
              "transition": {
               "duration": 50
              }
             }
            ],
            "label": "2013-07-03",
            "method": "animate"
           },
           {
            "args": [
             [
              "frame_2013-07-04"
             ],
             {
              "frame": {
               "duration": 100,
               "redraw": true
              },
              "mode": "immediate",
              "transition": {
               "duration": 50
              }
             }
            ],
            "label": "2013-07-04",
            "method": "animate"
           },
           {
            "args": [
             [
              "frame_2013-07-05"
             ],
             {
              "frame": {
               "duration": 100,
               "redraw": true
              },
              "mode": "immediate",
              "transition": {
               "duration": 50
              }
             }
            ],
            "label": "2013-07-05",
            "method": "animate"
           },
           {
            "args": [
             [
              "frame_2013-07-06"
             ],
             {
              "frame": {
               "duration": 100,
               "redraw": true
              },
              "mode": "immediate",
              "transition": {
               "duration": 50
              }
             }
            ],
            "label": "2013-07-06",
            "method": "animate"
           },
           {
            "args": [
             [
              "frame_2013-07-07"
             ],
             {
              "frame": {
               "duration": 100,
               "redraw": true
              },
              "mode": "immediate",
              "transition": {
               "duration": 50
              }
             }
            ],
            "label": "2013-07-07",
            "method": "animate"
           },
           {
            "args": [
             [
              "frame_2013-07-08"
             ],
             {
              "frame": {
               "duration": 100,
               "redraw": true
              },
              "mode": "immediate",
              "transition": {
               "duration": 50
              }
             }
            ],
            "label": "2013-07-08",
            "method": "animate"
           },
           {
            "args": [
             [
              "frame_2013-08-01"
             ],
             {
              "frame": {
               "duration": 100,
               "redraw": true
              },
              "mode": "immediate",
              "transition": {
               "duration": 50
              }
             }
            ],
            "label": "2013-08-01",
            "method": "animate"
           },
           {
            "args": [
             [
              "frame_2013-08-02"
             ],
             {
              "frame": {
               "duration": 100,
               "redraw": true
              },
              "mode": "immediate",
              "transition": {
               "duration": 50
              }
             }
            ],
            "label": "2013-08-02",
            "method": "animate"
           },
           {
            "args": [
             [
              "frame_2013-08-03"
             ],
             {
              "frame": {
               "duration": 100,
               "redraw": true
              },
              "mode": "immediate",
              "transition": {
               "duration": 50
              }
             }
            ],
            "label": "2013-08-03",
            "method": "animate"
           },
           {
            "args": [
             [
              "frame_2013-08-04"
             ],
             {
              "frame": {
               "duration": 100,
               "redraw": true
              },
              "mode": "immediate",
              "transition": {
               "duration": 50
              }
             }
            ],
            "label": "2013-08-04",
            "method": "animate"
           },
           {
            "args": [
             [
              "frame_2013-08-05"
             ],
             {
              "frame": {
               "duration": 100,
               "redraw": true
              },
              "mode": "immediate",
              "transition": {
               "duration": 50
              }
             }
            ],
            "label": "2013-08-05",
            "method": "animate"
           },
           {
            "args": [
             [
              "frame_2013-09-02"
             ],
             {
              "frame": {
               "duration": 100,
               "redraw": true
              },
              "mode": "immediate",
              "transition": {
               "duration": 50
              }
             }
            ],
            "label": "2013-09-02",
            "method": "animate"
           },
           {
            "args": [
             [
              "frame_2013-09-06"
             ],
             {
              "frame": {
               "duration": 100,
               "redraw": true
              },
              "mode": "immediate",
              "transition": {
               "duration": 50
              }
             }
            ],
            "label": "2013-09-06",
            "method": "animate"
           },
           {
            "args": [
             [
              "frame_2013-10-02"
             ],
             {
              "frame": {
               "duration": 100,
               "redraw": true
              },
              "mode": "immediate",
              "transition": {
               "duration": 50
              }
             }
            ],
            "label": "2013-10-02",
            "method": "animate"
           },
           {
            "args": [
             [
              "frame_2013-10-03"
             ],
             {
              "frame": {
               "duration": 100,
               "redraw": true
              },
              "mode": "immediate",
              "transition": {
               "duration": 50
              }
             }
            ],
            "label": "2013-10-03",
            "method": "animate"
           },
           {
            "args": [
             [
              "frame_2013-10-04"
             ],
             {
              "frame": {
               "duration": 100,
               "redraw": true
              },
              "mode": "immediate",
              "transition": {
               "duration": 50
              }
             }
            ],
            "label": "2013-10-04",
            "method": "animate"
           },
           {
            "args": [
             [
              "frame_2013-10-07"
             ],
             {
              "frame": {
               "duration": 100,
               "redraw": true
              },
              "mode": "immediate",
              "transition": {
               "duration": 50
              }
             }
            ],
            "label": "2013-10-07",
            "method": "animate"
           },
           {
            "args": [
             [
              "frame_2013-10-08"
             ],
             {
              "frame": {
               "duration": 100,
               "redraw": true
              },
              "mode": "immediate",
              "transition": {
               "duration": 50
              }
             }
            ],
            "label": "2013-10-08",
            "method": "animate"
           },
           {
            "args": [
             [
              "frame_2013-11-02"
             ],
             {
              "frame": {
               "duration": 100,
               "redraw": true
              },
              "mode": "immediate",
              "transition": {
               "duration": 50
              }
             }
            ],
            "label": "2013-11-02",
            "method": "animate"
           },
           {
            "args": [
             [
              "frame_2013-11-03"
             ],
             {
              "frame": {
               "duration": 100,
               "redraw": true
              },
              "mode": "immediate",
              "transition": {
               "duration": 50
              }
             }
            ],
            "label": "2013-11-03",
            "method": "animate"
           },
           {
            "args": [
             [
              "frame_2013-11-05"
             ],
             {
              "frame": {
               "duration": 100,
               "redraw": true
              },
              "mode": "immediate",
              "transition": {
               "duration": 50
              }
             }
            ],
            "label": "2013-11-05",
            "method": "animate"
           },
           {
            "args": [
             [
              "frame_2013-11-06"
             ],
             {
              "frame": {
               "duration": 100,
               "redraw": true
              },
              "mode": "immediate",
              "transition": {
               "duration": 50
              }
             }
            ],
            "label": "2013-11-06",
            "method": "animate"
           },
           {
            "args": [
             [
              "frame_2013-11-07"
             ],
             {
              "frame": {
               "duration": 100,
               "redraw": true
              },
              "mode": "immediate",
              "transition": {
               "duration": 50
              }
             }
            ],
            "label": "2013-11-07",
            "method": "animate"
           },
           {
            "args": [
             [
              "frame_2013-12-03"
             ],
             {
              "frame": {
               "duration": 100,
               "redraw": true
              },
              "mode": "immediate",
              "transition": {
               "duration": 50
              }
             }
            ],
            "label": "2013-12-03",
            "method": "animate"
           },
           {
            "args": [
             [
              "frame_2013-12-04"
             ],
             {
              "frame": {
               "duration": 100,
               "redraw": true
              },
              "mode": "immediate",
              "transition": {
               "duration": 50
              }
             }
            ],
            "label": "2013-12-04",
            "method": "animate"
           },
           {
            "args": [
             [
              "frame_2013-12-06"
             ],
             {
              "frame": {
               "duration": 100,
               "redraw": true
              },
              "mode": "immediate",
              "transition": {
               "duration": 50
              }
             }
            ],
            "label": "2013-12-06",
            "method": "animate"
           },
           {
            "args": [
             [
              "frame_2013-12-26"
             ],
             {
              "frame": {
               "duration": 100,
               "redraw": true
              },
              "mode": "immediate",
              "transition": {
               "duration": 50
              }
             }
            ],
            "label": "2013-12-26",
            "method": "animate"
           },
           {
            "args": [
             [
              "frame_2014-02-06"
             ],
             {
              "frame": {
               "duration": 100,
               "redraw": true
              },
              "mode": "immediate",
              "transition": {
               "duration": 50
              }
             }
            ],
            "label": "2014-02-06",
            "method": "animate"
           },
           {
            "args": [
             [
              "frame_2014-02-09"
             ],
             {
              "frame": {
               "duration": 100,
               "redraw": true
              },
              "mode": "immediate",
              "transition": {
               "duration": 50
              }
             }
            ],
            "label": "2014-02-09",
            "method": "animate"
           },
           {
            "args": [
             [
              "frame_2014-02-11"
             ],
             {
              "frame": {
               "duration": 100,
               "redraw": true
              },
              "mode": "immediate",
              "transition": {
               "duration": 50
              }
             }
            ],
            "label": "2014-02-11",
            "method": "animate"
           },
           {
            "args": [
             [
              "frame_2014-03-01"
             ],
             {
              "frame": {
               "duration": 100,
               "redraw": true
              },
              "mode": "immediate",
              "transition": {
               "duration": 50
              }
             }
            ],
            "label": "2014-03-01",
            "method": "animate"
           },
           {
            "args": [
             [
              "frame_2014-03-03"
             ],
             {
              "frame": {
               "duration": 100,
               "redraw": true
              },
              "mode": "immediate",
              "transition": {
               "duration": 50
              }
             }
            ],
            "label": "2014-03-03",
            "method": "animate"
           },
           {
            "args": [
             [
              "frame_2014-03-05"
             ],
             {
              "frame": {
               "duration": 100,
               "redraw": true
              },
              "mode": "immediate",
              "transition": {
               "duration": 50
              }
             }
            ],
            "label": "2014-03-05",
            "method": "animate"
           },
           {
            "args": [
             [
              "frame_2014-03-06"
             ],
             {
              "frame": {
               "duration": 100,
               "redraw": true
              },
              "mode": "immediate",
              "transition": {
               "duration": 50
              }
             }
            ],
            "label": "2014-03-06",
            "method": "animate"
           },
           {
            "args": [
             [
              "frame_2014-03-07"
             ],
             {
              "frame": {
               "duration": 100,
               "redraw": true
              },
              "mode": "immediate",
              "transition": {
               "duration": 50
              }
             }
            ],
            "label": "2014-03-07",
            "method": "animate"
           },
           {
            "args": [
             [
              "frame_2014-04-03"
             ],
             {
              "frame": {
               "duration": 100,
               "redraw": true
              },
              "mode": "immediate",
              "transition": {
               "duration": 50
              }
             }
            ],
            "label": "2014-04-03",
            "method": "animate"
           },
           {
            "args": [
             [
              "frame_2014-04-04"
             ],
             {
              "frame": {
               "duration": 100,
               "redraw": true
              },
              "mode": "immediate",
              "transition": {
               "duration": 50
              }
             }
            ],
            "label": "2014-04-04",
            "method": "animate"
           },
           {
            "args": [
             [
              "frame_2014-04-06"
             ],
             {
              "frame": {
               "duration": 100,
               "redraw": true
              },
              "mode": "immediate",
              "transition": {
               "duration": 50
              }
             }
            ],
            "label": "2014-04-06",
            "method": "animate"
           },
           {
            "args": [
             [
              "frame_2014-04-07"
             ],
             {
              "frame": {
               "duration": 100,
               "redraw": true
              },
              "mode": "immediate",
              "transition": {
               "duration": 50
              }
             }
            ],
            "label": "2014-04-07",
            "method": "animate"
           },
           {
            "args": [
             [
              "frame_2014-05-02"
             ],
             {
              "frame": {
               "duration": 100,
               "redraw": true
              },
              "mode": "immediate",
              "transition": {
               "duration": 50
              }
             }
            ],
            "label": "2014-05-02",
            "method": "animate"
           },
           {
            "args": [
             [
              "frame_2014-05-05"
             ],
             {
              "frame": {
               "duration": 100,
               "redraw": true
              },
              "mode": "immediate",
              "transition": {
               "duration": 50
              }
             }
            ],
            "label": "2014-05-05",
            "method": "animate"
           },
           {
            "args": [
             [
              "frame_2014-05-06"
             ],
             {
              "frame": {
               "duration": 100,
               "redraw": true
              },
              "mode": "immediate",
              "transition": {
               "duration": 50
              }
             }
            ],
            "label": "2014-05-06",
            "method": "animate"
           },
           {
            "args": [
             [
              "frame_2014-05-07"
             ],
             {
              "frame": {
               "duration": 100,
               "redraw": true
              },
              "mode": "immediate",
              "transition": {
               "duration": 50
              }
             }
            ],
            "label": "2014-05-07",
            "method": "animate"
           },
           {
            "args": [
             [
              "frame_2014-06-01"
             ],
             {
              "frame": {
               "duration": 100,
               "redraw": true
              },
              "mode": "immediate",
              "transition": {
               "duration": 50
              }
             }
            ],
            "label": "2014-06-01",
            "method": "animate"
           },
           {
            "args": [
             [
              "frame_2014-06-02"
             ],
             {
              "frame": {
               "duration": 100,
               "redraw": true
              },
              "mode": "immediate",
              "transition": {
               "duration": 50
              }
             }
            ],
            "label": "2014-06-02",
            "method": "animate"
           },
           {
            "args": [
             [
              "frame_2014-06-03"
             ],
             {
              "frame": {
               "duration": 100,
               "redraw": true
              },
              "mode": "immediate",
              "transition": {
               "duration": 50
              }
             }
            ],
            "label": "2014-06-03",
            "method": "animate"
           },
           {
            "args": [
             [
              "frame_2014-07-02"
             ],
             {
              "frame": {
               "duration": 100,
               "redraw": true
              },
              "mode": "immediate",
              "transition": {
               "duration": 50
              }
             }
            ],
            "label": "2014-07-02",
            "method": "animate"
           },
           {
            "args": [
             [
              "frame_2014-07-04"
             ],
             {
              "frame": {
               "duration": 100,
               "redraw": true
              },
              "mode": "immediate",
              "transition": {
               "duration": 50
              }
             }
            ],
            "label": "2014-07-04",
            "method": "animate"
           },
           {
            "args": [
             [
              "frame_2014-07-08"
             ],
             {
              "frame": {
               "duration": 100,
               "redraw": true
              },
              "mode": "immediate",
              "transition": {
               "duration": 50
              }
             }
            ],
            "label": "2014-07-08",
            "method": "animate"
           },
           {
            "args": [
             [
              "frame_2014-08-03"
             ],
             {
              "frame": {
               "duration": 100,
               "redraw": true
              },
              "mode": "immediate",
              "transition": {
               "duration": 50
              }
             }
            ],
            "label": "2014-08-03",
            "method": "animate"
           },
           {
            "args": [
             [
              "frame_2014-08-04"
             ],
             {
              "frame": {
               "duration": 100,
               "redraw": true
              },
              "mode": "immediate",
              "transition": {
               "duration": 50
              }
             }
            ],
            "label": "2014-08-04",
            "method": "animate"
           },
           {
            "args": [
             [
              "frame_2014-08-06"
             ],
             {
              "frame": {
               "duration": 100,
               "redraw": true
              },
              "mode": "immediate",
              "transition": {
               "duration": 50
              }
             }
            ],
            "label": "2014-08-06",
            "method": "animate"
           },
           {
            "args": [
             [
              "frame_2014-09-02"
             ],
             {
              "frame": {
               "duration": 100,
               "redraw": true
              },
              "mode": "immediate",
              "transition": {
               "duration": 50
              }
             }
            ],
            "label": "2014-09-02",
            "method": "animate"
           },
           {
            "args": [
             [
              "frame_2014-09-03"
             ],
             {
              "frame": {
               "duration": 100,
               "redraw": true
              },
              "mode": "immediate",
              "transition": {
               "duration": 50
              }
             }
            ],
            "label": "2014-09-03",
            "method": "animate"
           },
           {
            "args": [
             [
              "frame_2014-09-04"
             ],
             {
              "frame": {
               "duration": 100,
               "redraw": true
              },
              "mode": "immediate",
              "transition": {
               "duration": 50
              }
             }
            ],
            "label": "2014-09-04",
            "method": "animate"
           },
           {
            "args": [
             [
              "frame_2014-09-05"
             ],
             {
              "frame": {
               "duration": 100,
               "redraw": true
              },
              "mode": "immediate",
              "transition": {
               "duration": 50
              }
             }
            ],
            "label": "2014-09-05",
            "method": "animate"
           },
           {
            "args": [
             [
              "frame_2014-10-01"
             ],
             {
              "frame": {
               "duration": 100,
               "redraw": true
              },
              "mode": "immediate",
              "transition": {
               "duration": 50
              }
             }
            ],
            "label": "2014-10-01",
            "method": "animate"
           },
           {
            "args": [
             [
              "frame_2014-10-03"
             ],
             {
              "frame": {
               "duration": 100,
               "redraw": true
              },
              "mode": "immediate",
              "transition": {
               "duration": 50
              }
             }
            ],
            "label": "2014-10-03",
            "method": "animate"
           },
           {
            "args": [
             [
              "frame_2014-10-05"
             ],
             {
              "frame": {
               "duration": 100,
               "redraw": true
              },
              "mode": "immediate",
              "transition": {
               "duration": 50
              }
             }
            ],
            "label": "2014-10-05",
            "method": "animate"
           },
           {
            "args": [
             [
              "frame_2014-10-06"
             ],
             {
              "frame": {
               "duration": 100,
               "redraw": true
              },
              "mode": "immediate",
              "transition": {
               "duration": 50
              }
             }
            ],
            "label": "2014-10-06",
            "method": "animate"
           },
           {
            "args": [
             [
              "frame_2014-10-07"
             ],
             {
              "frame": {
               "duration": 100,
               "redraw": true
              },
              "mode": "immediate",
              "transition": {
               "duration": 50
              }
             }
            ],
            "label": "2014-10-07",
            "method": "animate"
           },
           {
            "args": [
             [
              "frame_2014-10-08"
             ],
             {
              "frame": {
               "duration": 100,
               "redraw": true
              },
              "mode": "immediate",
              "transition": {
               "duration": 50
              }
             }
            ],
            "label": "2014-10-08",
            "method": "animate"
           },
           {
            "args": [
             [
              "frame_2014-11-01"
             ],
             {
              "frame": {
               "duration": 100,
               "redraw": true
              },
              "mode": "immediate",
              "transition": {
               "duration": 50
              }
             }
            ],
            "label": "2014-11-01",
            "method": "animate"
           },
           {
            "args": [
             [
              "frame_2014-11-03"
             ],
             {
              "frame": {
               "duration": 100,
               "redraw": true
              },
              "mode": "immediate",
              "transition": {
               "duration": 50
              }
             }
            ],
            "label": "2014-11-03",
            "method": "animate"
           },
           {
            "args": [
             [
              "frame_2014-12-02"
             ],
             {
              "frame": {
               "duration": 100,
               "redraw": true
              },
              "mode": "immediate",
              "transition": {
               "duration": 50
              }
             }
            ],
            "label": "2014-12-02",
            "method": "animate"
           },
           {
            "args": [
             [
              "frame_2014-12-03"
             ],
             {
              "frame": {
               "duration": 100,
               "redraw": true
              },
              "mode": "immediate",
              "transition": {
               "duration": 50
              }
             }
            ],
            "label": "2014-12-03",
            "method": "animate"
           },
           {
            "args": [
             [
              "frame_2014-12-05"
             ],
             {
              "frame": {
               "duration": 100,
               "redraw": true
              },
              "mode": "immediate",
              "transition": {
               "duration": 50
              }
             }
            ],
            "label": "2014-12-05",
            "method": "animate"
           },
           {
            "args": [
             [
              "frame_2014-12-07"
             ],
             {
              "frame": {
               "duration": 100,
               "redraw": true
              },
              "mode": "immediate",
              "transition": {
               "duration": 50
              }
             }
            ],
            "label": "2014-12-07",
            "method": "animate"
           },
           {
            "args": [
             [
              "frame_2014-12-08"
             ],
             {
              "frame": {
               "duration": 100,
               "redraw": true
              },
              "mode": "immediate",
              "transition": {
               "duration": 50
              }
             }
            ],
            "label": "2014-12-08",
            "method": "animate"
           },
           {
            "args": [
             [
              "frame_2014-12-26"
             ],
             {
              "frame": {
               "duration": 100,
               "redraw": true
              },
              "mode": "immediate",
              "transition": {
               "duration": 50
              }
             }
            ],
            "label": "2014-12-26",
            "method": "animate"
           },
           {
            "args": [
             [
              "frame_2014-12-27"
             ],
             {
              "frame": {
               "duration": 100,
               "redraw": true
              },
              "mode": "immediate",
              "transition": {
               "duration": 50
              }
             }
            ],
            "label": "2014-12-27",
            "method": "animate"
           },
           {
            "args": [
             [
              "frame_2014-12-30"
             ],
             {
              "frame": {
               "duration": 100,
               "redraw": true
              },
              "mode": "immediate",
              "transition": {
               "duration": 50
              }
             }
            ],
            "label": "2014-12-30",
            "method": "animate"
           },
           {
            "args": [
             [
              "frame_2014-12-31"
             ],
             {
              "frame": {
               "duration": 100,
               "redraw": true
              },
              "mode": "immediate",
              "transition": {
               "duration": 50
              }
             }
            ],
            "label": "2014-12-31",
            "method": "animate"
           },
           {
            "args": [
             [
              "frame_2015-04-01"
             ],
             {
              "frame": {
               "duration": 100,
               "redraw": true
              },
              "mode": "immediate",
              "transition": {
               "duration": 50
              }
             }
            ],
            "label": "2015-04-01",
            "method": "animate"
           },
           {
            "args": [
             [
              "frame_2015-04-02"
             ],
             {
              "frame": {
               "duration": 100,
               "redraw": true
              },
              "mode": "immediate",
              "transition": {
               "duration": 50
              }
             }
            ],
            "label": "2015-04-02",
            "method": "animate"
           },
           {
            "args": [
             [
              "frame_2015-04-07"
             ],
             {
              "frame": {
               "duration": 100,
               "redraw": true
              },
              "mode": "immediate",
              "transition": {
               "duration": 50
              }
             }
            ],
            "label": "2015-04-07",
            "method": "animate"
           },
           {
            "args": [
             [
              "frame_2015-05-01"
             ],
             {
              "frame": {
               "duration": 100,
               "redraw": true
              },
              "mode": "immediate",
              "transition": {
               "duration": 50
              }
             }
            ],
            "label": "2015-05-01",
            "method": "animate"
           },
           {
            "args": [
             [
              "frame_2015-05-02"
             ],
             {
              "frame": {
               "duration": 100,
               "redraw": true
              },
              "mode": "immediate",
              "transition": {
               "duration": 50
              }
             }
            ],
            "label": "2015-05-02",
            "method": "animate"
           },
           {
            "args": [
             [
              "frame_2015-05-03"
             ],
             {
              "frame": {
               "duration": 100,
               "redraw": true
              },
              "mode": "immediate",
              "transition": {
               "duration": 50
              }
             }
            ],
            "label": "2015-05-03",
            "method": "animate"
           },
           {
            "args": [
             [
              "frame_2015-05-06"
             ],
             {
              "frame": {
               "duration": 100,
               "redraw": true
              },
              "mode": "immediate",
              "transition": {
               "duration": 50
              }
             }
            ],
            "label": "2015-05-06",
            "method": "animate"
           },
           {
            "args": [
             [
              "frame_2015-05-07"
             ],
             {
              "frame": {
               "duration": 100,
               "redraw": true
              },
              "mode": "immediate",
              "transition": {
               "duration": 50
              }
             }
            ],
            "label": "2015-05-07",
            "method": "animate"
           },
           {
            "args": [
             [
              "frame_2015-06-07"
             ],
             {
              "frame": {
               "duration": 100,
               "redraw": true
              },
              "mode": "immediate",
              "transition": {
               "duration": 50
              }
             }
            ],
            "label": "2015-06-07",
            "method": "animate"
           },
           {
            "args": [
             [
              "frame_2015-07-05"
             ],
             {
              "frame": {
               "duration": 100,
               "redraw": true
              },
              "mode": "immediate",
              "transition": {
               "duration": 50
              }
             }
            ],
            "label": "2015-07-05",
            "method": "animate"
           },
           {
            "args": [
             [
              "frame_2015-07-06"
             ],
             {
              "frame": {
               "duration": 100,
               "redraw": true
              },
              "mode": "immediate",
              "transition": {
               "duration": 50
              }
             }
            ],
            "label": "2015-07-06",
            "method": "animate"
           },
           {
            "args": [
             [
              "frame_2015-08-03"
             ],
             {
              "frame": {
               "duration": 100,
               "redraw": true
              },
              "mode": "immediate",
              "transition": {
               "duration": 50
              }
             }
            ],
            "label": "2015-08-03",
            "method": "animate"
           },
           {
            "args": [
             [
              "frame_2015-08-04"
             ],
             {
              "frame": {
               "duration": 100,
               "redraw": true
              },
              "mode": "immediate",
              "transition": {
               "duration": 50
              }
             }
            ],
            "label": "2015-08-04",
            "method": "animate"
           },
           {
            "args": [
             [
              "frame_2015-08-05"
             ],
             {
              "frame": {
               "duration": 100,
               "redraw": true
              },
              "mode": "immediate",
              "transition": {
               "duration": 50
              }
             }
            ],
            "label": "2015-08-05",
            "method": "animate"
           },
           {
            "args": [
             [
              "frame_2015-08-06"
             ],
             {
              "frame": {
               "duration": 100,
               "redraw": true
              },
              "mode": "immediate",
              "transition": {
               "duration": 50
              }
             }
            ],
            "label": "2015-08-06",
            "method": "animate"
           },
           {
            "args": [
             [
              "frame_2015-08-07"
             ],
             {
              "frame": {
               "duration": 100,
               "redraw": true
              },
              "mode": "immediate",
              "transition": {
               "duration": 50
              }
             }
            ],
            "label": "2015-08-07",
            "method": "animate"
           },
           {
            "args": [
             [
              "frame_2015-09-04"
             ],
             {
              "frame": {
               "duration": 100,
               "redraw": true
              },
              "mode": "immediate",
              "transition": {
               "duration": 50
              }
             }
            ],
            "label": "2015-09-04",
            "method": "animate"
           },
           {
            "args": [
             [
              "frame_2015-09-07"
             ],
             {
              "frame": {
               "duration": 100,
               "redraw": true
              },
              "mode": "immediate",
              "transition": {
               "duration": 50
              }
             }
            ],
            "label": "2015-09-07",
            "method": "animate"
           },
           {
            "args": [
             [
              "frame_2015-09-08"
             ],
             {
              "frame": {
               "duration": 100,
               "redraw": true
              },
              "mode": "immediate",
              "transition": {
               "duration": 50
              }
             }
            ],
            "label": "2015-09-08",
            "method": "animate"
           },
           {
            "args": [
             [
              "frame_2015-10-07"
             ],
             {
              "frame": {
               "duration": 100,
               "redraw": true
              },
              "mode": "immediate",
              "transition": {
               "duration": 50
              }
             }
            ],
            "label": "2015-10-07",
            "method": "animate"
           },
           {
            "args": [
             [
              "frame_2015-10-08"
             ],
             {
              "frame": {
               "duration": 100,
               "redraw": true
              },
              "mode": "immediate",
              "transition": {
               "duration": 50
              }
             }
            ],
            "label": "2015-10-08",
            "method": "animate"
           },
           {
            "args": [
             [
              "frame_2015-11-02"
             ],
             {
              "frame": {
               "duration": 100,
               "redraw": true
              },
              "mode": "immediate",
              "transition": {
               "duration": 50
              }
             }
            ],
            "label": "2015-11-02",
            "method": "animate"
           },
           {
            "args": [
             [
              "frame_2015-11-05"
             ],
             {
              "frame": {
               "duration": 100,
               "redraw": true
              },
              "mode": "immediate",
              "transition": {
               "duration": 50
              }
             }
            ],
            "label": "2015-11-05",
            "method": "animate"
           },
           {
            "args": [
             [
              "frame_2015-12-05"
             ],
             {
              "frame": {
               "duration": 100,
               "redraw": true
              },
              "mode": "immediate",
              "transition": {
               "duration": 50
              }
             }
            ],
            "label": "2015-12-05",
            "method": "animate"
           },
           {
            "args": [
             [
              "frame_2015-12-16"
             ],
             {
              "frame": {
               "duration": 100,
               "redraw": true
              },
              "mode": "immediate",
              "transition": {
               "duration": 50
              }
             }
            ],
            "label": "2015-12-16",
            "method": "animate"
           },
           {
            "args": [
             [
              "frame_2016-01-04"
             ],
             {
              "frame": {
               "duration": 100,
               "redraw": true
              },
              "mode": "immediate",
              "transition": {
               "duration": 50
              }
             }
            ],
            "label": "2016-01-04",
            "method": "animate"
           },
           {
            "args": [
             [
              "frame_2016-01-07"
             ],
             {
              "frame": {
               "duration": 100,
               "redraw": true
              },
              "mode": "immediate",
              "transition": {
               "duration": 50
              }
             }
            ],
            "label": "2016-01-07",
            "method": "animate"
           },
           {
            "args": [
             [
              "frame_2016-02-02"
             ],
             {
              "frame": {
               "duration": 100,
               "redraw": true
              },
              "mode": "immediate",
              "transition": {
               "duration": 50
              }
             }
            ],
            "label": "2016-02-02",
            "method": "animate"
           },
           {
            "args": [
             [
              "frame_2016-02-03"
             ],
             {
              "frame": {
               "duration": 100,
               "redraw": true
              },
              "mode": "immediate",
              "transition": {
               "duration": 50
              }
             }
            ],
            "label": "2016-02-03",
            "method": "animate"
           },
           {
            "args": [
             [
              "frame_2016-02-04"
             ],
             {
              "frame": {
               "duration": 100,
               "redraw": true
              },
              "mode": "immediate",
              "transition": {
               "duration": 50
              }
             }
            ],
            "label": "2016-02-04",
            "method": "animate"
           },
           {
            "args": [
             [
              "frame_2016-02-05"
             ],
             {
              "frame": {
               "duration": 100,
               "redraw": true
              },
              "mode": "immediate",
              "transition": {
               "duration": 50
              }
             }
            ],
            "label": "2016-02-05",
            "method": "animate"
           },
           {
            "args": [
             [
              "frame_2016-02-06"
             ],
             {
              "frame": {
               "duration": 100,
               "redraw": true
              },
              "mode": "immediate",
              "transition": {
               "duration": 50
              }
             }
            ],
            "label": "2016-02-06",
            "method": "animate"
           },
           {
            "args": [
             [
              "frame_2016-03-01"
             ],
             {
              "frame": {
               "duration": 100,
               "redraw": true
              },
              "mode": "immediate",
              "transition": {
               "duration": 50
              }
             }
            ],
            "label": "2016-03-01",
            "method": "animate"
           },
           {
            "args": [
             [
              "frame_2016-03-02"
             ],
             {
              "frame": {
               "duration": 100,
               "redraw": true
              },
              "mode": "immediate",
              "transition": {
               "duration": 50
              }
             }
            ],
            "label": "2016-03-02",
            "method": "animate"
           },
           {
            "args": [
             [
              "frame_2016-03-08"
             ],
             {
              "frame": {
               "duration": 100,
               "redraw": true
              },
              "mode": "immediate",
              "transition": {
               "duration": 50
              }
             }
            ],
            "label": "2016-03-08",
            "method": "animate"
           },
           {
            "args": [
             [
              "frame_2016-03-09"
             ],
             {
              "frame": {
               "duration": 100,
               "redraw": true
              },
              "mode": "immediate",
              "transition": {
               "duration": 50
              }
             }
            ],
            "label": "2016-03-09",
            "method": "animate"
           },
           {
            "args": [
             [
              "frame_2016-03-10"
             ],
             {
              "frame": {
               "duration": 100,
               "redraw": true
              },
              "mode": "immediate",
              "transition": {
               "duration": 50
              }
             }
            ],
            "label": "2016-03-10",
            "method": "animate"
           },
           {
            "args": [
             [
              "frame_2016-04-03"
             ],
             {
              "frame": {
               "duration": 100,
               "redraw": true
              },
              "mode": "immediate",
              "transition": {
               "duration": 50
              }
             }
            ],
            "label": "2016-04-03",
            "method": "animate"
           },
           {
            "args": [
             [
              "frame_2016-04-04"
             ],
             {
              "frame": {
               "duration": 100,
               "redraw": true
              },
              "mode": "immediate",
              "transition": {
               "duration": 50
              }
             }
            ],
            "label": "2016-04-04",
            "method": "animate"
           },
           {
            "args": [
             [
              "frame_2016-04-08"
             ],
             {
              "frame": {
               "duration": 100,
               "redraw": true
              },
              "mode": "immediate",
              "transition": {
               "duration": 50
              }
             }
            ],
            "label": "2016-04-08",
            "method": "animate"
           },
           {
            "args": [
             [
              "frame_2016-05-02"
             ],
             {
              "frame": {
               "duration": 100,
               "redraw": true
              },
              "mode": "immediate",
              "transition": {
               "duration": 50
              }
             }
            ],
            "label": "2016-05-02",
            "method": "animate"
           },
           {
            "args": [
             [
              "frame_2016-05-04"
             ],
             {
              "frame": {
               "duration": 100,
               "redraw": true
              },
              "mode": "immediate",
              "transition": {
               "duration": 50
              }
             }
            ],
            "label": "2016-05-04",
            "method": "animate"
           },
           {
            "args": [
             [
              "frame_2016-06-01"
             ],
             {
              "frame": {
               "duration": 100,
               "redraw": true
              },
              "mode": "immediate",
              "transition": {
               "duration": 50
              }
             }
            ],
            "label": "2016-06-01",
            "method": "animate"
           },
           {
            "args": [
             [
              "frame_2016-06-11"
             ],
             {
              "frame": {
               "duration": 100,
               "redraw": true
              },
              "mode": "immediate",
              "transition": {
               "duration": 50
              }
             }
            ],
            "label": "2016-06-11",
            "method": "animate"
           },
           {
            "args": [
             [
              "frame_2016-06-12"
             ],
             {
              "frame": {
               "duration": 100,
               "redraw": true
              },
              "mode": "immediate",
              "transition": {
               "duration": 50
              }
             }
            ],
            "label": "2016-06-12",
            "method": "animate"
           },
           {
            "args": [
             [
              "frame_2016-06-13"
             ],
             {
              "frame": {
               "duration": 100,
               "redraw": true
              },
              "mode": "immediate",
              "transition": {
               "duration": 50
              }
             }
            ],
            "label": "2016-06-13",
            "method": "animate"
           },
           {
            "args": [
             [
              "frame_2016-07-02"
             ],
             {
              "frame": {
               "duration": 100,
               "redraw": true
              },
              "mode": "immediate",
              "transition": {
               "duration": 50
              }
             }
            ],
            "label": "2016-07-02",
            "method": "animate"
           },
           {
            "args": [
             [
              "frame_2016-07-03"
             ],
             {
              "frame": {
               "duration": 100,
               "redraw": true
              },
              "mode": "immediate",
              "transition": {
               "duration": 50
              }
             }
            ],
            "label": "2016-07-03",
            "method": "animate"
           },
           {
            "args": [
             [
              "frame_2016-07-04"
             ],
             {
              "frame": {
               "duration": 100,
               "redraw": true
              },
              "mode": "immediate",
              "transition": {
               "duration": 50
              }
             }
            ],
            "label": "2016-07-04",
            "method": "animate"
           },
           {
            "args": [
             [
              "frame_2016-07-06"
             ],
             {
              "frame": {
               "duration": 100,
               "redraw": true
              },
              "mode": "immediate",
              "transition": {
               "duration": 50
              }
             }
            ],
            "label": "2016-07-06",
            "method": "animate"
           },
           {
            "args": [
             [
              "frame_2016-07-07"
             ],
             {
              "frame": {
               "duration": 100,
               "redraw": true
              },
              "mode": "immediate",
              "transition": {
               "duration": 50
              }
             }
            ],
            "label": "2016-07-07",
            "method": "animate"
           },
           {
            "args": [
             [
              "frame_2016-08-02"
             ],
             {
              "frame": {
               "duration": 100,
               "redraw": true
              },
              "mode": "immediate",
              "transition": {
               "duration": 50
              }
             }
            ],
            "label": "2016-08-02",
            "method": "animate"
           },
           {
            "args": [
             [
              "frame_2016-08-04"
             ],
             {
              "frame": {
               "duration": 100,
               "redraw": true
              },
              "mode": "immediate",
              "transition": {
               "duration": 50
              }
             }
            ],
            "label": "2016-08-04",
            "method": "animate"
           },
           {
            "args": [
             [
              "frame_2016-09-01"
             ],
             {
              "frame": {
               "duration": 100,
               "redraw": true
              },
              "mode": "immediate",
              "transition": {
               "duration": 50
              }
             }
            ],
            "label": "2016-09-01",
            "method": "animate"
           },
           {
            "args": [
             [
              "frame_2016-09-03"
             ],
             {
              "frame": {
               "duration": 100,
               "redraw": true
              },
              "mode": "immediate",
              "transition": {
               "duration": 50
              }
             }
            ],
            "label": "2016-09-03",
            "method": "animate"
           },
           {
            "args": [
             [
              "frame_2016-09-06"
             ],
             {
              "frame": {
               "duration": 100,
               "redraw": true
              },
              "mode": "immediate",
              "transition": {
               "duration": 50
              }
             }
            ],
            "label": "2016-09-06",
            "method": "animate"
           },
           {
            "args": [
             [
              "frame_2016-09-07"
             ],
             {
              "frame": {
               "duration": 100,
               "redraw": true
              },
              "mode": "immediate",
              "transition": {
               "duration": 50
              }
             }
            ],
            "label": "2016-09-07",
            "method": "animate"
           },
           {
            "args": [
             [
              "frame_2016-09-08"
             ],
             {
              "frame": {
               "duration": 100,
               "redraw": true
              },
              "mode": "immediate",
              "transition": {
               "duration": 50
              }
             }
            ],
            "label": "2016-09-08",
            "method": "animate"
           },
           {
            "args": [
             [
              "frame_2016-10-01"
             ],
             {
              "frame": {
               "duration": 100,
               "redraw": true
              },
              "mode": "immediate",
              "transition": {
               "duration": 50
              }
             }
            ],
            "label": "2016-10-01",
            "method": "animate"
           },
           {
            "args": [
             [
              "frame_2016-10-05"
             ],
             {
              "frame": {
               "duration": 100,
               "redraw": true
              },
              "mode": "immediate",
              "transition": {
               "duration": 50
              }
             }
            ],
            "label": "2016-10-05",
            "method": "animate"
           },
           {
            "args": [
             [
              "frame_2016-10-06"
             ],
             {
              "frame": {
               "duration": 100,
               "redraw": true
              },
              "mode": "immediate",
              "transition": {
               "duration": 50
              }
             }
            ],
            "label": "2016-10-06",
            "method": "animate"
           },
           {
            "args": [
             [
              "frame_2016-10-07"
             ],
             {
              "frame": {
               "duration": 100,
               "redraw": true
              },
              "mode": "immediate",
              "transition": {
               "duration": 50
              }
             }
            ],
            "label": "2016-10-07",
            "method": "animate"
           },
           {
            "args": [
             [
              "frame_2016-11-02"
             ],
             {
              "frame": {
               "duration": 100,
               "redraw": true
              },
              "mode": "immediate",
              "transition": {
               "duration": 50
              }
             }
            ],
            "label": "2016-11-02",
            "method": "animate"
           },
           {
            "args": [
             [
              "frame_2016-11-06"
             ],
             {
              "frame": {
               "duration": 100,
               "redraw": true
              },
              "mode": "immediate",
              "transition": {
               "duration": 50
              }
             }
            ],
            "label": "2016-11-06",
            "method": "animate"
           },
           {
            "args": [
             [
              "frame_2016-11-07"
             ],
             {
              "frame": {
               "duration": 100,
               "redraw": true
              },
              "mode": "immediate",
              "transition": {
               "duration": 50
              }
             }
            ],
            "label": "2016-11-07",
            "method": "animate"
           },
           {
            "args": [
             [
              "frame_2016-12-02"
             ],
             {
              "frame": {
               "duration": 100,
               "redraw": true
              },
              "mode": "immediate",
              "transition": {
               "duration": 50
              }
             }
            ],
            "label": "2016-12-02",
            "method": "animate"
           },
           {
            "args": [
             [
              "frame_2017-01-01"
             ],
             {
              "frame": {
               "duration": 100,
               "redraw": true
              },
              "mode": "immediate",
              "transition": {
               "duration": 50
              }
             }
            ],
            "label": "2017-01-01",
            "method": "animate"
           },
           {
            "args": [
             [
              "frame_2017-02-01"
             ],
             {
              "frame": {
               "duration": 100,
               "redraw": true
              },
              "mode": "immediate",
              "transition": {
               "duration": 50
              }
             }
            ],
            "label": "2017-02-01",
            "method": "animate"
           },
           {
            "args": [
             [
              "frame_2017-02-05"
             ],
             {
              "frame": {
               "duration": 100,
               "redraw": true
              },
              "mode": "immediate",
              "transition": {
               "duration": 50
              }
             }
            ],
            "label": "2017-02-05",
            "method": "animate"
           },
           {
            "args": [
             [
              "frame_2017-02-06"
             ],
             {
              "frame": {
               "duration": 100,
               "redraw": true
              },
              "mode": "immediate",
              "transition": {
               "duration": 50
              }
             }
            ],
            "label": "2017-02-06",
            "method": "animate"
           },
           {
            "args": [
             [
              "frame_2017-03-05"
             ],
             {
              "frame": {
               "duration": 100,
               "redraw": true
              },
              "mode": "immediate",
              "transition": {
               "duration": 50
              }
             }
            ],
            "label": "2017-03-05",
            "method": "animate"
           },
           {
            "args": [
             [
              "frame_2017-03-07"
             ],
             {
              "frame": {
               "duration": 100,
               "redraw": true
              },
              "mode": "immediate",
              "transition": {
               "duration": 50
              }
             }
            ],
            "label": "2017-03-07",
            "method": "animate"
           },
           {
            "args": [
             [
              "frame_2017-04-08"
             ],
             {
              "frame": {
               "duration": 100,
               "redraw": true
              },
              "mode": "immediate",
              "transition": {
               "duration": 50
              }
             }
            ],
            "label": "2017-04-08",
            "method": "animate"
           },
           {
            "args": [
             [
              "frame_2017-05-01"
             ],
             {
              "frame": {
               "duration": 100,
               "redraw": true
              },
              "mode": "immediate",
              "transition": {
               "duration": 50
              }
             }
            ],
            "label": "2017-05-01",
            "method": "animate"
           },
           {
            "args": [
             [
              "frame_2017-06-07"
             ],
             {
              "frame": {
               "duration": 100,
               "redraw": true
              },
              "mode": "immediate",
              "transition": {
               "duration": 50
              }
             }
            ],
            "label": "2017-06-07",
            "method": "animate"
           },
           {
            "args": [
             [
              "frame_2017-07-01"
             ],
             {
              "frame": {
               "duration": 100,
               "redraw": true
              },
              "mode": "immediate",
              "transition": {
               "duration": 50
              }
             }
            ],
            "label": "2017-07-01",
            "method": "animate"
           },
           {
            "args": [
             [
              "frame_2017-07-02"
             ],
             {
              "frame": {
               "duration": 100,
               "redraw": true
              },
              "mode": "immediate",
              "transition": {
               "duration": 50
              }
             }
            ],
            "label": "2017-07-02",
            "method": "animate"
           },
           {
            "args": [
             [
              "frame_2017-07-03"
             ],
             {
              "frame": {
               "duration": 100,
               "redraw": true
              },
              "mode": "immediate",
              "transition": {
               "duration": 50
              }
             }
            ],
            "label": "2017-07-03",
            "method": "animate"
           },
           {
            "args": [
             [
              "frame_2017-07-04"
             ],
             {
              "frame": {
               "duration": 100,
               "redraw": true
              },
              "mode": "immediate",
              "transition": {
               "duration": 50
              }
             }
            ],
            "label": "2017-07-04",
            "method": "animate"
           },
           {
            "args": [
             [
              "frame_2017-07-05"
             ],
             {
              "frame": {
               "duration": 100,
               "redraw": true
              },
              "mode": "immediate",
              "transition": {
               "duration": 50
              }
             }
            ],
            "label": "2017-07-05",
            "method": "animate"
           },
           {
            "args": [
             [
              "frame_2017-07-06"
             ],
             {
              "frame": {
               "duration": 100,
               "redraw": true
              },
              "mode": "immediate",
              "transition": {
               "duration": 50
              }
             }
            ],
            "label": "2017-07-06",
            "method": "animate"
           },
           {
            "args": [
             [
              "frame_2017-07-07"
             ],
             {
              "frame": {
               "duration": 100,
               "redraw": true
              },
              "mode": "immediate",
              "transition": {
               "duration": 50
              }
             }
            ],
            "label": "2017-07-07",
            "method": "animate"
           },
           {
            "args": [
             [
              "frame_2017-08-09"
             ],
             {
              "frame": {
               "duration": 100,
               "redraw": true
              },
              "mode": "immediate",
              "transition": {
               "duration": 50
              }
             }
            ],
            "label": "2017-08-09",
            "method": "animate"
           },
           {
            "args": [
             [
              "frame_2017-09-04"
             ],
             {
              "frame": {
               "duration": 100,
               "redraw": true
              },
              "mode": "immediate",
              "transition": {
               "duration": 50
              }
             }
            ],
            "label": "2017-09-04",
            "method": "animate"
           },
           {
            "args": [
             [
              "frame_2017-09-07"
             ],
             {
              "frame": {
               "duration": 100,
               "redraw": true
              },
              "mode": "immediate",
              "transition": {
               "duration": 50
              }
             }
            ],
            "label": "2017-09-07",
            "method": "animate"
           },
           {
            "args": [
             [
              "frame_2017-10-02"
             ],
             {
              "frame": {
               "duration": 100,
               "redraw": true
              },
              "mode": "immediate",
              "transition": {
               "duration": 50
              }
             }
            ],
            "label": "2017-10-02",
            "method": "animate"
           },
           {
            "args": [
             [
              "frame_2017-10-04"
             ],
             {
              "frame": {
               "duration": 100,
               "redraw": true
              },
              "mode": "immediate",
              "transition": {
               "duration": 50
              }
             }
            ],
            "label": "2017-10-04",
            "method": "animate"
           },
           {
            "args": [
             [
              "frame_2017-10-07"
             ],
             {
              "frame": {
               "duration": 100,
               "redraw": true
              },
              "mode": "immediate",
              "transition": {
               "duration": 50
              }
             }
            ],
            "label": "2017-10-07",
            "method": "animate"
           },
           {
            "args": [
             [
              "frame_2017-11-06"
             ],
             {
              "frame": {
               "duration": 100,
               "redraw": true
              },
              "mode": "immediate",
              "transition": {
               "duration": 50
              }
             }
            ],
            "label": "2017-11-06",
            "method": "animate"
           },
           {
            "args": [
             [
              "frame_2017-12-02"
             ],
             {
              "frame": {
               "duration": 100,
               "redraw": true
              },
              "mode": "immediate",
              "transition": {
               "duration": 50
              }
             }
            ],
            "label": "2017-12-02",
            "method": "animate"
           },
           {
            "args": [
             [
              "frame_2018-01-04"
             ],
             {
              "frame": {
               "duration": 100,
               "redraw": true
              },
              "mode": "immediate",
              "transition": {
               "duration": 50
              }
             }
            ],
            "label": "2018-01-04",
            "method": "animate"
           },
           {
            "args": [
             [
              "frame_2018-01-05"
             ],
             {
              "frame": {
               "duration": 100,
               "redraw": true
              },
              "mode": "immediate",
              "transition": {
               "duration": 50
              }
             }
            ],
            "label": "2018-01-05",
            "method": "animate"
           },
           {
            "args": [
             [
              "frame_2018-01-08"
             ],
             {
              "frame": {
               "duration": 100,
               "redraw": true
              },
              "mode": "immediate",
              "transition": {
               "duration": 50
              }
             }
            ],
            "label": "2018-01-08",
            "method": "animate"
           },
           {
            "args": [
             [
              "frame_2018-02-08"
             ],
             {
              "frame": {
               "duration": 100,
               "redraw": true
              },
              "mode": "immediate",
              "transition": {
               "duration": 50
              }
             }
            ],
            "label": "2018-02-08",
            "method": "animate"
           },
           {
            "args": [
             [
              "frame_2018-03-03"
             ],
             {
              "frame": {
               "duration": 100,
               "redraw": true
              },
              "mode": "immediate",
              "transition": {
               "duration": 50
              }
             }
            ],
            "label": "2018-03-03",
            "method": "animate"
           },
           {
            "args": [
             [
              "frame_2018-03-04"
             ],
             {
              "frame": {
               "duration": 100,
               "redraw": true
              },
              "mode": "immediate",
              "transition": {
               "duration": 50
              }
             }
            ],
            "label": "2018-03-04",
            "method": "animate"
           },
           {
            "args": [
             [
              "frame_2018-04-03"
             ],
             {
              "frame": {
               "duration": 100,
               "redraw": true
              },
              "mode": "immediate",
              "transition": {
               "duration": 50
              }
             }
            ],
            "label": "2018-04-03",
            "method": "animate"
           },
           {
            "args": [
             [
              "frame_2018-04-04"
             ],
             {
              "frame": {
               "duration": 100,
               "redraw": true
              },
              "mode": "immediate",
              "transition": {
               "duration": 50
              }
             }
            ],
            "label": "2018-04-04",
            "method": "animate"
           },
           {
            "args": [
             [
              "frame_2018-05-02"
             ],
             {
              "frame": {
               "duration": 100,
               "redraw": true
              },
              "mode": "immediate",
              "transition": {
               "duration": 50
              }
             }
            ],
            "label": "2018-05-02",
            "method": "animate"
           },
           {
            "args": [
             [
              "frame_2018-05-03"
             ],
             {
              "frame": {
               "duration": 100,
               "redraw": true
              },
              "mode": "immediate",
              "transition": {
               "duration": 50
              }
             }
            ],
            "label": "2018-05-03",
            "method": "animate"
           },
           {
            "args": [
             [
              "frame_2018-05-05"
             ],
             {
              "frame": {
               "duration": 100,
               "redraw": true
              },
              "mode": "immediate",
              "transition": {
               "duration": 50
              }
             }
            ],
            "label": "2018-05-05",
            "method": "animate"
           },
           {
            "args": [
             [
              "frame_2018-05-08"
             ],
             {
              "frame": {
               "duration": 100,
               "redraw": true
              },
              "mode": "immediate",
              "transition": {
               "duration": 50
              }
             }
            ],
            "label": "2018-05-08",
            "method": "animate"
           },
           {
            "args": [
             [
              "frame_2018-06-08"
             ],
             {
              "frame": {
               "duration": 100,
               "redraw": true
              },
              "mode": "immediate",
              "transition": {
               "duration": 50
              }
             }
            ],
            "label": "2018-06-08",
            "method": "animate"
           },
           {
            "args": [
             [
              "frame_2018-06-10"
             ],
             {
              "frame": {
               "duration": 100,
               "redraw": true
              },
              "mode": "immediate",
              "transition": {
               "duration": 50
              }
             }
            ],
            "label": "2018-06-10",
            "method": "animate"
           },
           {
            "args": [
             [
              "frame_2018-06-11"
             ],
             {
              "frame": {
               "duration": 100,
               "redraw": true
              },
              "mode": "immediate",
              "transition": {
               "duration": 50
              }
             }
            ],
            "label": "2018-06-11",
            "method": "animate"
           },
           {
            "args": [
             [
              "frame_2018-07-13"
             ],
             {
              "frame": {
               "duration": 100,
               "redraw": true
              },
              "mode": "immediate",
              "transition": {
               "duration": 50
              }
             }
            ],
            "label": "2018-07-13",
            "method": "animate"
           },
           {
            "args": [
             [
              "frame_2018-09-07"
             ],
             {
              "frame": {
               "duration": 100,
               "redraw": true
              },
              "mode": "immediate",
              "transition": {
               "duration": 50
              }
             }
            ],
            "label": "2018-09-07",
            "method": "animate"
           },
           {
            "args": [
             [
              "frame_2018-10-07"
             ],
             {
              "frame": {
               "duration": 100,
               "redraw": true
              },
              "mode": "immediate",
              "transition": {
               "duration": 50
              }
             }
            ],
            "label": "2018-10-07",
            "method": "animate"
           },
           {
            "args": [
             [
              "frame_2018-11-06"
             ],
             {
              "frame": {
               "duration": 100,
               "redraw": true
              },
              "mode": "immediate",
              "transition": {
               "duration": 50
              }
             }
            ],
            "label": "2018-11-06",
            "method": "animate"
           },
           {
            "args": [
             [
              "frame_2019-03-05"
             ],
             {
              "frame": {
               "duration": 100,
               "redraw": true
              },
              "mode": "immediate",
              "transition": {
               "duration": 50
              }
             }
            ],
            "label": "2019-03-05",
            "method": "animate"
           },
           {
            "args": [
             [
              "frame_2019-07-02"
             ],
             {
              "frame": {
               "duration": 100,
               "redraw": true
              },
              "mode": "immediate",
              "transition": {
               "duration": 50
              }
             }
            ],
            "label": "2019-07-02",
            "method": "animate"
           },
           {
            "args": [
             [
              "frame_2019-07-05"
             ],
             {
              "frame": {
               "duration": 100,
               "redraw": true
              },
              "mode": "immediate",
              "transition": {
               "duration": 50
              }
             }
            ],
            "label": "2019-07-05",
            "method": "animate"
           },
           {
            "args": [
             [
              "frame_2019-08-03"
             ],
             {
              "frame": {
               "duration": 100,
               "redraw": true
              },
              "mode": "immediate",
              "transition": {
               "duration": 50
              }
             }
            ],
            "label": "2019-08-03",
            "method": "animate"
           },
           {
            "args": [
             [
              "frame_2019-09-06"
             ],
             {
              "frame": {
               "duration": 100,
               "redraw": true
              },
              "mode": "immediate",
              "transition": {
               "duration": 50
              }
             }
            ],
            "label": "2019-09-06",
            "method": "animate"
           },
           {
            "args": [
             [
              "frame_2019-10-08"
             ],
             {
              "frame": {
               "duration": 100,
               "redraw": true
              },
              "mode": "immediate",
              "transition": {
               "duration": 50
              }
             }
            ],
            "label": "2019-10-08",
            "method": "animate"
           }
          ],
          "transition": {
           "duration": 0
          },
          "x": 0.08
         }
        ],
        "template": {
         "data": {
          "bar": [
           {
            "error_x": {
             "color": "#2a3f5f"
            },
            "error_y": {
             "color": "#2a3f5f"
            },
            "marker": {
             "line": {
              "color": "#E5ECF6",
              "width": 0.5
             },
             "pattern": {
              "fillmode": "overlay",
              "size": 10,
              "solidity": 0.2
             }
            },
            "type": "bar"
           }
          ],
          "barpolar": [
           {
            "marker": {
             "line": {
              "color": "#E5ECF6",
              "width": 0.5
             },
             "pattern": {
              "fillmode": "overlay",
              "size": 10,
              "solidity": 0.2
             }
            },
            "type": "barpolar"
           }
          ],
          "carpet": [
           {
            "aaxis": {
             "endlinecolor": "#2a3f5f",
             "gridcolor": "white",
             "linecolor": "white",
             "minorgridcolor": "white",
             "startlinecolor": "#2a3f5f"
            },
            "baxis": {
             "endlinecolor": "#2a3f5f",
             "gridcolor": "white",
             "linecolor": "white",
             "minorgridcolor": "white",
             "startlinecolor": "#2a3f5f"
            },
            "type": "carpet"
           }
          ],
          "choropleth": [
           {
            "colorbar": {
             "outlinewidth": 0,
             "ticks": ""
            },
            "type": "choropleth"
           }
          ],
          "contour": [
           {
            "colorbar": {
             "outlinewidth": 0,
             "ticks": ""
            },
            "colorscale": [
             [
              0,
              "#0d0887"
             ],
             [
              0.1111111111111111,
              "#46039f"
             ],
             [
              0.2222222222222222,
              "#7201a8"
             ],
             [
              0.3333333333333333,
              "#9c179e"
             ],
             [
              0.4444444444444444,
              "#bd3786"
             ],
             [
              0.5555555555555556,
              "#d8576b"
             ],
             [
              0.6666666666666666,
              "#ed7953"
             ],
             [
              0.7777777777777778,
              "#fb9f3a"
             ],
             [
              0.8888888888888888,
              "#fdca26"
             ],
             [
              1,
              "#f0f921"
             ]
            ],
            "type": "contour"
           }
          ],
          "contourcarpet": [
           {
            "colorbar": {
             "outlinewidth": 0,
             "ticks": ""
            },
            "type": "contourcarpet"
           }
          ],
          "heatmap": [
           {
            "colorbar": {
             "outlinewidth": 0,
             "ticks": ""
            },
            "colorscale": [
             [
              0,
              "#0d0887"
             ],
             [
              0.1111111111111111,
              "#46039f"
             ],
             [
              0.2222222222222222,
              "#7201a8"
             ],
             [
              0.3333333333333333,
              "#9c179e"
             ],
             [
              0.4444444444444444,
              "#bd3786"
             ],
             [
              0.5555555555555556,
              "#d8576b"
             ],
             [
              0.6666666666666666,
              "#ed7953"
             ],
             [
              0.7777777777777778,
              "#fb9f3a"
             ],
             [
              0.8888888888888888,
              "#fdca26"
             ],
             [
              1,
              "#f0f921"
             ]
            ],
            "type": "heatmap"
           }
          ],
          "heatmapgl": [
           {
            "colorbar": {
             "outlinewidth": 0,
             "ticks": ""
            },
            "colorscale": [
             [
              0,
              "#0d0887"
             ],
             [
              0.1111111111111111,
              "#46039f"
             ],
             [
              0.2222222222222222,
              "#7201a8"
             ],
             [
              0.3333333333333333,
              "#9c179e"
             ],
             [
              0.4444444444444444,
              "#bd3786"
             ],
             [
              0.5555555555555556,
              "#d8576b"
             ],
             [
              0.6666666666666666,
              "#ed7953"
             ],
             [
              0.7777777777777778,
              "#fb9f3a"
             ],
             [
              0.8888888888888888,
              "#fdca26"
             ],
             [
              1,
              "#f0f921"
             ]
            ],
            "type": "heatmapgl"
           }
          ],
          "histogram": [
           {
            "marker": {
             "pattern": {
              "fillmode": "overlay",
              "size": 10,
              "solidity": 0.2
             }
            },
            "type": "histogram"
           }
          ],
          "histogram2d": [
           {
            "colorbar": {
             "outlinewidth": 0,
             "ticks": ""
            },
            "colorscale": [
             [
              0,
              "#0d0887"
             ],
             [
              0.1111111111111111,
              "#46039f"
             ],
             [
              0.2222222222222222,
              "#7201a8"
             ],
             [
              0.3333333333333333,
              "#9c179e"
             ],
             [
              0.4444444444444444,
              "#bd3786"
             ],
             [
              0.5555555555555556,
              "#d8576b"
             ],
             [
              0.6666666666666666,
              "#ed7953"
             ],
             [
              0.7777777777777778,
              "#fb9f3a"
             ],
             [
              0.8888888888888888,
              "#fdca26"
             ],
             [
              1,
              "#f0f921"
             ]
            ],
            "type": "histogram2d"
           }
          ],
          "histogram2dcontour": [
           {
            "colorbar": {
             "outlinewidth": 0,
             "ticks": ""
            },
            "colorscale": [
             [
              0,
              "#0d0887"
             ],
             [
              0.1111111111111111,
              "#46039f"
             ],
             [
              0.2222222222222222,
              "#7201a8"
             ],
             [
              0.3333333333333333,
              "#9c179e"
             ],
             [
              0.4444444444444444,
              "#bd3786"
             ],
             [
              0.5555555555555556,
              "#d8576b"
             ],
             [
              0.6666666666666666,
              "#ed7953"
             ],
             [
              0.7777777777777778,
              "#fb9f3a"
             ],
             [
              0.8888888888888888,
              "#fdca26"
             ],
             [
              1,
              "#f0f921"
             ]
            ],
            "type": "histogram2dcontour"
           }
          ],
          "mesh3d": [
           {
            "colorbar": {
             "outlinewidth": 0,
             "ticks": ""
            },
            "type": "mesh3d"
           }
          ],
          "parcoords": [
           {
            "line": {
             "colorbar": {
              "outlinewidth": 0,
              "ticks": ""
             }
            },
            "type": "parcoords"
           }
          ],
          "pie": [
           {
            "automargin": true,
            "type": "pie"
           }
          ],
          "scatter": [
           {
            "fillpattern": {
             "fillmode": "overlay",
             "size": 10,
             "solidity": 0.2
            },
            "type": "scatter"
           }
          ],
          "scatter3d": [
           {
            "line": {
             "colorbar": {
              "outlinewidth": 0,
              "ticks": ""
             }
            },
            "marker": {
             "colorbar": {
              "outlinewidth": 0,
              "ticks": ""
             }
            },
            "type": "scatter3d"
           }
          ],
          "scattercarpet": [
           {
            "marker": {
             "colorbar": {
              "outlinewidth": 0,
              "ticks": ""
             }
            },
            "type": "scattercarpet"
           }
          ],
          "scattergeo": [
           {
            "marker": {
             "colorbar": {
              "outlinewidth": 0,
              "ticks": ""
             }
            },
            "type": "scattergeo"
           }
          ],
          "scattergl": [
           {
            "marker": {
             "colorbar": {
              "outlinewidth": 0,
              "ticks": ""
             }
            },
            "type": "scattergl"
           }
          ],
          "scattermapbox": [
           {
            "marker": {
             "colorbar": {
              "outlinewidth": 0,
              "ticks": ""
             }
            },
            "type": "scattermapbox"
           }
          ],
          "scatterpolar": [
           {
            "marker": {
             "colorbar": {
              "outlinewidth": 0,
              "ticks": ""
             }
            },
            "type": "scatterpolar"
           }
          ],
          "scatterpolargl": [
           {
            "marker": {
             "colorbar": {
              "outlinewidth": 0,
              "ticks": ""
             }
            },
            "type": "scatterpolargl"
           }
          ],
          "scatterternary": [
           {
            "marker": {
             "colorbar": {
              "outlinewidth": 0,
              "ticks": ""
             }
            },
            "type": "scatterternary"
           }
          ],
          "surface": [
           {
            "colorbar": {
             "outlinewidth": 0,
             "ticks": ""
            },
            "colorscale": [
             [
              0,
              "#0d0887"
             ],
             [
              0.1111111111111111,
              "#46039f"
             ],
             [
              0.2222222222222222,
              "#7201a8"
             ],
             [
              0.3333333333333333,
              "#9c179e"
             ],
             [
              0.4444444444444444,
              "#bd3786"
             ],
             [
              0.5555555555555556,
              "#d8576b"
             ],
             [
              0.6666666666666666,
              "#ed7953"
             ],
             [
              0.7777777777777778,
              "#fb9f3a"
             ],
             [
              0.8888888888888888,
              "#fdca26"
             ],
             [
              1,
              "#f0f921"
             ]
            ],
            "type": "surface"
           }
          ],
          "table": [
           {
            "cells": {
             "fill": {
              "color": "#EBF0F8"
             },
             "line": {
              "color": "white"
             }
            },
            "header": {
             "fill": {
              "color": "#C8D4E3"
             },
             "line": {
              "color": "white"
             }
            },
            "type": "table"
           }
          ]
         },
         "layout": {
          "annotationdefaults": {
           "arrowcolor": "#2a3f5f",
           "arrowhead": 0,
           "arrowwidth": 1
          },
          "autotypenumbers": "strict",
          "coloraxis": {
           "colorbar": {
            "outlinewidth": 0,
            "ticks": ""
           }
          },
          "colorscale": {
           "diverging": [
            [
             0,
             "#8e0152"
            ],
            [
             0.1,
             "#c51b7d"
            ],
            [
             0.2,
             "#de77ae"
            ],
            [
             0.3,
             "#f1b6da"
            ],
            [
             0.4,
             "#fde0ef"
            ],
            [
             0.5,
             "#f7f7f7"
            ],
            [
             0.6,
             "#e6f5d0"
            ],
            [
             0.7,
             "#b8e186"
            ],
            [
             0.8,
             "#7fbc41"
            ],
            [
             0.9,
             "#4d9221"
            ],
            [
             1,
             "#276419"
            ]
           ],
           "sequential": [
            [
             0,
             "#0d0887"
            ],
            [
             0.1111111111111111,
             "#46039f"
            ],
            [
             0.2222222222222222,
             "#7201a8"
            ],
            [
             0.3333333333333333,
             "#9c179e"
            ],
            [
             0.4444444444444444,
             "#bd3786"
            ],
            [
             0.5555555555555556,
             "#d8576b"
            ],
            [
             0.6666666666666666,
             "#ed7953"
            ],
            [
             0.7777777777777778,
             "#fb9f3a"
            ],
            [
             0.8888888888888888,
             "#fdca26"
            ],
            [
             1,
             "#f0f921"
            ]
           ],
           "sequentialminus": [
            [
             0,
             "#0d0887"
            ],
            [
             0.1111111111111111,
             "#46039f"
            ],
            [
             0.2222222222222222,
             "#7201a8"
            ],
            [
             0.3333333333333333,
             "#9c179e"
            ],
            [
             0.4444444444444444,
             "#bd3786"
            ],
            [
             0.5555555555555556,
             "#d8576b"
            ],
            [
             0.6666666666666666,
             "#ed7953"
            ],
            [
             0.7777777777777778,
             "#fb9f3a"
            ],
            [
             0.8888888888888888,
             "#fdca26"
            ],
            [
             1,
             "#f0f921"
            ]
           ]
          },
          "colorway": [
           "#636efa",
           "#EF553B",
           "#00cc96",
           "#ab63fa",
           "#FFA15A",
           "#19d3f3",
           "#FF6692",
           "#B6E880",
           "#FF97FF",
           "#FECB52"
          ],
          "font": {
           "color": "#2a3f5f"
          },
          "geo": {
           "bgcolor": "white",
           "lakecolor": "white",
           "landcolor": "#E5ECF6",
           "showlakes": true,
           "showland": true,
           "subunitcolor": "white"
          },
          "hoverlabel": {
           "align": "left"
          },
          "hovermode": "closest",
          "mapbox": {
           "style": "light"
          },
          "paper_bgcolor": "white",
          "plot_bgcolor": "#E5ECF6",
          "polar": {
           "angularaxis": {
            "gridcolor": "white",
            "linecolor": "white",
            "ticks": ""
           },
           "bgcolor": "#E5ECF6",
           "radialaxis": {
            "gridcolor": "white",
            "linecolor": "white",
            "ticks": ""
           }
          },
          "scene": {
           "xaxis": {
            "backgroundcolor": "#E5ECF6",
            "gridcolor": "white",
            "gridwidth": 2,
            "linecolor": "white",
            "showbackground": true,
            "ticks": "",
            "zerolinecolor": "white"
           },
           "yaxis": {
            "backgroundcolor": "#E5ECF6",
            "gridcolor": "white",
            "gridwidth": 2,
            "linecolor": "white",
            "showbackground": true,
            "ticks": "",
            "zerolinecolor": "white"
           },
           "zaxis": {
            "backgroundcolor": "#E5ECF6",
            "gridcolor": "white",
            "gridwidth": 2,
            "linecolor": "white",
            "showbackground": true,
            "ticks": "",
            "zerolinecolor": "white"
           }
          },
          "shapedefaults": {
           "line": {
            "color": "#2a3f5f"
           }
          },
          "ternary": {
           "aaxis": {
            "gridcolor": "white",
            "linecolor": "white",
            "ticks": ""
           },
           "baxis": {
            "gridcolor": "white",
            "linecolor": "white",
            "ticks": ""
           },
           "bgcolor": "#E5ECF6",
           "caxis": {
            "gridcolor": "white",
            "linecolor": "white",
            "ticks": ""
           }
          },
          "title": {
           "x": 0.05
          },
          "xaxis": {
           "automargin": true,
           "gridcolor": "white",
           "linecolor": "white",
           "ticks": "",
           "title": {
            "standoff": 15
           },
           "zerolinecolor": "white",
           "zerolinewidth": 2
          },
          "yaxis": {
           "automargin": true,
           "gridcolor": "white",
           "linecolor": "white",
           "ticks": "",
           "title": {
            "standoff": 15
           },
           "zerolinecolor": "white",
           "zerolinewidth": 2
          }
         }
        },
        "updatemenus": [
         {
          "buttons": [
           {
            "args": [
             null,
             {
              "frame": {
               "duration": 100,
               "redraw": true
              },
              "fromcurrent": true,
              "mode": "immediate",
              "transition": {
               "duration": 50
              }
             }
            ],
            "label": "🎬",
            "method": "animate"
           }
          ],
          "showactive": true,
          "type": "buttons",
          "x": 0.045,
          "y": -0.08
         }
        ]
       }
      }
     },
     "metadata": {},
     "output_type": "display_data"
    }
   ],
   "source": [
    "# Defining the initial state\n",
    "data = frames[0]['data']\n",
    "\n",
    "# Adding all sliders and play button to the layout\n",
    "layout = go.Layout(\n",
    "    sliders=sliders,\n",
    "    updatemenus=play_button,\n",
    "    mapbox={\n",
    "        'accesstoken':mapbox_token,\n",
    "        'center':{'lat':7, 'lon':-33},\n",
    "        'zoom':1.7,\n",
    "        'style':\"open-street-map\",\n",
    "        \n",
    "    }\n",
    ")\n",
    "\n",
    "# Creating the figure\n",
    "fig = go.Figure(data=data, layout=layout, frames=frames)\n",
    "\n",
    "# Displaying the figure\n",
    "fig.show()"
   ]
  }
 ],
 "metadata": {
  "interpreter": {
   "hash": "c43e7ac167a3f0db6a6af587ff94d51fe9ebd0da9702efa903d10d8a0e462dd1"
  },
  "kernelspec": {
   "display_name": "Python 3.10.4 64-bit ('LILI-Env')",
   "language": "python",
   "name": "python3"
  },
  "language_info": {
   "codemirror_mode": {
    "name": "ipython",
    "version": 3
   },
   "file_extension": ".py",
   "mimetype": "text/x-python",
   "name": "python",
   "nbconvert_exporter": "python",
   "pygments_lexer": "ipython3",
   "version": "3.10.4"
  },
  "orig_nbformat": 4
 },
 "nbformat": 4,
 "nbformat_minor": 2
}
