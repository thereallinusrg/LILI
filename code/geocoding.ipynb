{
 "cells": [
  {
   "cell_type": "markdown",
   "metadata": {},
   "source": [
    "**Import Libraries**"
   ]
  },
  {
   "cell_type": "code",
   "execution_count": 1,
   "metadata": {},
   "outputs": [
    {
     "ename": "ModuleNotFoundError",
     "evalue": "No module named 'geopy'",
     "output_type": "error",
     "traceback": [
      "\u001b[0;31m---------------------------------------------------------------------------\u001b[0m",
      "\u001b[0;31mModuleNotFoundError\u001b[0m                       Traceback (most recent call last)",
      "\u001b[1;32m/home/linusrg/Code/LILI/code/geocoding.ipynb Cell 2'\u001b[0m in \u001b[0;36m<cell line: 4>\u001b[0;34m()\u001b[0m\n\u001b[1;32m      <a href='vscode-notebook-cell:/home/linusrg/Code/LILI/code/geocoding.ipynb#ch0000001?line=0'>1</a>\u001b[0m \u001b[39mimport\u001b[39;00m \u001b[39mpandas\u001b[39;00m \u001b[39mas\u001b[39;00m \u001b[39mpd\u001b[39;00m\n\u001b[0;32m----> <a href='vscode-notebook-cell:/home/linusrg/Code/LILI/code/geocoding.ipynb#ch0000001?line=3'>4</a>\u001b[0m \u001b[39mfrom\u001b[39;00m \u001b[39mgeopy\u001b[39;00m\u001b[39m.\u001b[39;00m\u001b[39mgeocoders\u001b[39;00m \u001b[39mimport\u001b[39;00m Nominatim\n",
      "\u001b[0;31mModuleNotFoundError\u001b[0m: No module named 'geopy'"
     ]
    }
   ],
   "source": [
    "import pandas as pd\n",
    "from geopy.geocoders import Nominatim\n",
    "\n",
    "import numpy as np\n",
    "import math"
   ]
  },
  {
   "cell_type": "markdown",
   "metadata": {},
   "source": [
    "**Read Dataset**"
   ]
  },
  {
   "cell_type": "code",
   "execution_count": null,
   "metadata": {},
   "outputs": [],
   "source": [
    "#innovations = pd.read_parquet(\"sample_for_geocoding.parquet\")\n",
    "innovations = pd.read_parquet(\"geocoding_all_0425.parquet\")"
   ]
  },
  {
   "cell_type": "markdown",
   "metadata": {},
   "source": [
    "**Preprocessing (minimise time used for geocoding)**"
   ]
  },
  {
   "cell_type": "code",
   "execution_count": null,
   "metadata": {},
   "outputs": [],
   "source": [
    "#drop all duplicates\n",
    "geocoded_innovations = innovations.drop_duplicates(subset = \"user_location\", keep =\"first\")\n",
    "#drop all rows with lat/lon\n",
    "geocoded_innovations = geocoded_innovations[geocoded_innovations[\"longitude\"].isna() & geocoded_innovations[\"latitude\"].isna()]\n",
    "#only \"user_location\" column\n",
<<<<<<< HEAD
    "geocoded_innovations = geocoded_innovations[[\"user_location\"]]\n",
    "#add empty \"geocoded\" column\n",
    "geocoded_innovations[\"geocoded\"] = np.nan"
=======
    "geocoded_innovations = geocoded_innovations[[\"user_location\"]]"
   ]
  },
  {
   "cell_type": "markdown",
   "metadata": {},
   "source": [
    "**Geocoding**"
   ]
  },
  {
   "cell_type": "code",
   "execution_count": null,
   "metadata": {},
   "outputs": [],
   "source": [
    "geolocator = Nominatim(user_agent=\"Eric\")\n",
    "\n",
    "geocoded_innovations[\"geocoded\"] = geocoded_innovations.user_location.apply(geolocator.geocode)"
   ]
  },
  {
   "cell_type": "code",
   "execution_count": null,
   "metadata": {},
   "outputs": [],
   "source": [
    "#Store lat and lon in separate columns \n",
    "geocoded_innovations['Lat'] = geocoded_innovations[\"geocoded\"].apply(lambda x: x.latitude if x else None)\n",
    "geocoded_innovations['Lon'] = geocoded_innovations[\"geocoded\"].apply(lambda x: x.longitude if x else None)"
   ]
  },
  {
   "cell_type": "markdown",
   "metadata": {},
   "source": [
    "**Afterprocessing**"
   ]
  },
  {
   "cell_type": "code",
   "execution_count": null,
   "metadata": {},
   "outputs": [],
   "source": [
    "#drop \"user_location\" column before joining two dataset (dropping column, which can be found in both datasets (apart from index))\n",
    "geocoded_innovations.drop(\"user_location\", axis=1, inplace = True)\n",
    "\n",
    "#joining two dataframes (left join full dataset and geocoded subset)\n",
    "result = innovations.join(geocoded_innovations)\n",
    "\n",
    "#Populate NaN values in columns \"geocoded\", \"Lat\" and \"Lon\" of same locations\n",
    "result[\"geocoded\"] = (result[\"geocoded\"].fillna(result.groupby(\"user_location\")[\"geocoded\"].transform(\"first\")))\n",
    "result[\"Lat\"] = (result[\"Lat\"].fillna(result.groupby(\"user_location\")[\"Lat\"].transform(\"first\")))\n",
    "result[\"Lon\"] = (result[\"Lon\"].fillna(result.groupby(\"user_location\")[\"Lon\"].transform(\"first\")))\n",
    "\n",
    "result\n",
    "\n"
>>>>>>> 60784cb847593b167883686a6d46a1c76ba420f7
   ]
  },
  {
   "cell_type": "code",
<<<<<<< HEAD
   "execution_count": 7,
   "metadata": {},
   "outputs": [
    {
     "data": {
      "text/html": [
       "<div>\n",
       "<style scoped>\n",
       "    .dataframe tbody tr th:only-of-type {\n",
       "        vertical-align: middle;\n",
       "    }\n",
       "\n",
       "    .dataframe tbody tr th {\n",
       "        vertical-align: top;\n",
       "    }\n",
       "\n",
       "    .dataframe thead th {\n",
       "        text-align: right;\n",
       "    }\n",
       "</style>\n",
       "<table border=\"1\" class=\"dataframe\">\n",
       "  <thead>\n",
       "    <tr style=\"text-align: right;\">\n",
       "      <th></th>\n",
       "      <th>user_location</th>\n",
       "      <th>geocoded</th>\n",
       "    </tr>\n",
       "    <tr>\n",
       "      <th>index</th>\n",
       "      <th></th>\n",
       "      <th></th>\n",
       "    </tr>\n",
       "  </thead>\n",
       "  <tbody>\n",
       "    <tr>\n",
       "      <th>6490</th>\n",
       "      <td>Paraguay</td>\n",
       "      <td>NaN</td>\n",
       "    </tr>\n",
       "    <tr>\n",
       "      <th>37741</th>\n",
       "      <td>Perú ツ</td>\n",
       "      <td>NaN</td>\n",
       "    </tr>\n",
       "    <tr>\n",
       "      <th>24976</th>\n",
       "      <td>bogota</td>\n",
       "      <td>NaN</td>\n",
       "    </tr>\n",
       "    <tr>\n",
       "      <th>130875</th>\n",
       "      <td>Ibagué</td>\n",
       "      <td>NaN</td>\n",
       "    </tr>\n",
       "    <tr>\n",
       "      <th>205594</th>\n",
       "      <td>Santo Domingo, Rep. Dom.</td>\n",
       "      <td>NaN</td>\n",
       "    </tr>\n",
       "    <tr>\n",
       "      <th>...</th>\n",
       "      <td>...</td>\n",
       "      <td>...</td>\n",
       "    </tr>\n",
       "    <tr>\n",
       "      <th>96750</th>\n",
       "      <td>Eldorado-Misiones</td>\n",
       "      <td>NaN</td>\n",
       "    </tr>\n",
       "    <tr>\n",
       "      <th>108980</th>\n",
       "      <td>ɴᴇᴏ ᴄɪᴛʏ🏙️</td>\n",
       "      <td>NaN</td>\n",
       "    </tr>\n",
       "    <tr>\n",
       "      <th>133246</th>\n",
       "      <td>Parque Patricios</td>\n",
       "      <td>NaN</td>\n",
       "    </tr>\n",
       "    <tr>\n",
       "      <th>145835</th>\n",
       "      <td>En la 🌙</td>\n",
       "      <td>NaN</td>\n",
       "    </tr>\n",
       "    <tr>\n",
       "      <th>147205</th>\n",
       "      <td>arg.</td>\n",
       "      <td>NaN</td>\n",
       "    </tr>\n",
       "  </tbody>\n",
       "</table>\n",
       "<p>11754 rows × 2 columns</p>\n",
       "</div>"
      ],
      "text/plain": [
       "                   user_location  geocoded\n",
       "index                                     \n",
       "6490                   Paraguay        NaN\n",
       "37741                     Perú ツ       NaN\n",
       "24976                    bogota        NaN\n",
       "130875                   Ibagué        NaN\n",
       "205594  Santo Domingo, Rep. Dom.       NaN\n",
       "...                          ...       ...\n",
       "96750          Eldorado-Misiones       NaN\n",
       "108980                ɴᴇᴏ ᴄɪᴛʏ🏙️       NaN\n",
       "133246         Parque Patricios        NaN\n",
       "145835                   En la 🌙       NaN\n",
       "147205                      arg.       NaN\n",
       "\n",
       "[11754 rows x 2 columns]"
      ]
     },
     "execution_count": 7,
     "metadata": {},
     "output_type": "execute_result"
    }
   ],
   "source": [
    "geocoded_innovations"
   ]
  },
  {
   "cell_type": "code",
   "execution_count": 13,
   "metadata": {},
   "outputs": [
    {
     "data": {
      "text/html": [
       "<div>\n",
       "<style scoped>\n",
       "    .dataframe tbody tr th:only-of-type {\n",
       "        vertical-align: middle;\n",
       "    }\n",
       "\n",
       "    .dataframe tbody tr th {\n",
       "        vertical-align: top;\n",
       "    }\n",
       "\n",
       "    .dataframe thead th {\n",
       "        text-align: right;\n",
       "    }\n",
       "</style>\n",
       "<table border=\"1\" class=\"dataframe\">\n",
       "  <thead>\n",
       "    <tr style=\"text-align: right;\">\n",
       "      <th></th>\n",
       "      <th>created_at</th>\n",
       "      <th>twitter_id</th>\n",
       "      <th>user_id</th>\n",
       "      <th>user_location</th>\n",
       "      <th>longitude</th>\n",
       "      <th>latitude</th>\n",
       "      <th>place_box_1_long</th>\n",
       "      <th>place_box_1_lat</th>\n",
       "      <th>place_box_2_long</th>\n",
       "      <th>place_box_2_lat</th>\n",
       "      <th>country</th>\n",
       "      <th>country_code</th>\n",
       "      <th>place_full_name</th>\n",
       "      <th>place_id</th>\n",
       "      <th>place_name</th>\n",
       "      <th>inno_nr</th>\n",
       "    </tr>\n",
       "    <tr>\n",
       "      <th>index</th>\n",
       "      <th></th>\n",
       "      <th></th>\n",
       "      <th></th>\n",
       "      <th></th>\n",
       "      <th></th>\n",
       "      <th></th>\n",
       "      <th></th>\n",
       "      <th></th>\n",
       "      <th></th>\n",
       "      <th></th>\n",
       "      <th></th>\n",
       "      <th></th>\n",
       "      <th></th>\n",
       "      <th></th>\n",
       "      <th></th>\n",
       "      <th></th>\n",
       "    </tr>\n",
       "  </thead>\n",
       "  <tbody>\n",
       "    <tr>\n",
       "      <th>6490</th>\n",
       "      <td>Sun Jan 01 08:10:59 +0000 2012</td>\n",
       "      <td>153387731521773569</td>\n",
       "      <td>191216844</td>\n",
       "      <td>Paraguay</td>\n",
       "      <td>NaN</td>\n",
       "      <td>NaN</td>\n",
       "      <td>None</td>\n",
       "      <td>None</td>\n",
       "      <td>None</td>\n",
       "      <td>None</td>\n",
       "      <td>None</td>\n",
       "      <td>None</td>\n",
       "      <td>None</td>\n",
       "      <td>None</td>\n",
       "      <td>None</td>\n",
       "      <td>inno_02</td>\n",
       "    </tr>\n",
       "    <tr>\n",
       "      <th>37741</th>\n",
       "      <td>Sun Jan 01 17:17:44 +0000 2012</td>\n",
       "      <td>153525325689655297</td>\n",
       "      <td>30079977</td>\n",
       "      <td>Perú ツ</td>\n",
       "      <td>NaN</td>\n",
       "      <td>NaN</td>\n",
       "      <td>None</td>\n",
       "      <td>None</td>\n",
       "      <td>None</td>\n",
       "      <td>None</td>\n",
       "      <td>None</td>\n",
       "      <td>None</td>\n",
       "      <td>None</td>\n",
       "      <td>None</td>\n",
       "      <td>None</td>\n",
       "      <td>inno_02</td>\n",
       "    </tr>\n",
       "    <tr>\n",
       "      <th>24976</th>\n",
       "      <td>Tue Jan 03 14:15:36 +0000 2012</td>\n",
       "      <td>154204266041585664</td>\n",
       "      <td>298356610</td>\n",
       "      <td>bogota</td>\n",
       "      <td>NaN</td>\n",
       "      <td>NaN</td>\n",
       "      <td>None</td>\n",
       "      <td>None</td>\n",
       "      <td>None</td>\n",
       "      <td>None</td>\n",
       "      <td>None</td>\n",
       "      <td>None</td>\n",
       "      <td>None</td>\n",
       "      <td>None</td>\n",
       "      <td>None</td>\n",
       "      <td>inno_02</td>\n",
       "    </tr>\n",
       "    <tr>\n",
       "      <th>130875</th>\n",
       "      <td>Sun Jan 08 02:41:19 +0000 2012</td>\n",
       "      <td>155841483243663360</td>\n",
       "      <td>285206171</td>\n",
       "      <td>Ibagué</td>\n",
       "      <td>NaN</td>\n",
       "      <td>NaN</td>\n",
       "      <td>None</td>\n",
       "      <td>None</td>\n",
       "      <td>None</td>\n",
       "      <td>None</td>\n",
       "      <td>None</td>\n",
       "      <td>None</td>\n",
       "      <td>None</td>\n",
       "      <td>None</td>\n",
       "      <td>None</td>\n",
       "      <td>inno_02</td>\n",
       "    </tr>\n",
       "    <tr>\n",
       "      <th>205594</th>\n",
       "      <td>Thu Feb 02 06:23:34 +0000 2012</td>\n",
       "      <td>164957110965243904</td>\n",
       "      <td>141093464</td>\n",
       "      <td>Santo Domingo, Rep. Dom.</td>\n",
       "      <td>NaN</td>\n",
       "      <td>NaN</td>\n",
       "      <td>None</td>\n",
       "      <td>None</td>\n",
       "      <td>None</td>\n",
       "      <td>None</td>\n",
       "      <td>None</td>\n",
       "      <td>None</td>\n",
       "      <td>None</td>\n",
       "      <td>None</td>\n",
       "      <td>None</td>\n",
       "      <td>inno_02</td>\n",
       "    </tr>\n",
       "    <tr>\n",
       "      <th>...</th>\n",
       "      <td>...</td>\n",
       "      <td>...</td>\n",
       "      <td>...</td>\n",
       "      <td>...</td>\n",
       "      <td>...</td>\n",
       "      <td>...</td>\n",
       "      <td>...</td>\n",
       "      <td>...</td>\n",
       "      <td>...</td>\n",
       "      <td>...</td>\n",
       "      <td>...</td>\n",
       "      <td>...</td>\n",
       "      <td>...</td>\n",
       "      <td>...</td>\n",
       "      <td>...</td>\n",
       "      <td>...</td>\n",
       "    </tr>\n",
       "    <tr>\n",
       "      <th>112773</th>\n",
       "      <td>Sun Dec 08 00:02:56 +0000 2019</td>\n",
       "      <td>1203464944223686656</td>\n",
       "      <td>1094717144800153601</td>\n",
       "      <td>España</td>\n",
       "      <td>NaN</td>\n",
       "      <td>NaN</td>\n",
       "      <td>None</td>\n",
       "      <td>None</td>\n",
       "      <td>None</td>\n",
       "      <td>None</td>\n",
       "      <td>None</td>\n",
       "      <td>None</td>\n",
       "      <td>None</td>\n",
       "      <td>None</td>\n",
       "      <td>None</td>\n",
       "      <td>inno_25</td>\n",
       "    </tr>\n",
       "    <tr>\n",
       "      <th>133246</th>\n",
       "      <td>Sun Dec 08 02:38:07 +0000 2019</td>\n",
       "      <td>1203503997421838338</td>\n",
       "      <td>1080159674</td>\n",
       "      <td>Parque Patricios</td>\n",
       "      <td>NaN</td>\n",
       "      <td>NaN</td>\n",
       "      <td>None</td>\n",
       "      <td>None</td>\n",
       "      <td>None</td>\n",
       "      <td>None</td>\n",
       "      <td>None</td>\n",
       "      <td>None</td>\n",
       "      <td>None</td>\n",
       "      <td>None</td>\n",
       "      <td>None</td>\n",
       "      <td>inno_23</td>\n",
       "    </tr>\n",
       "    <tr>\n",
       "      <th>135290</th>\n",
       "      <td>Sun Dec 08 02:55:07 +0000 2019</td>\n",
       "      <td>1203508275595153409</td>\n",
       "      <td>883475939929329664</td>\n",
       "      <td>Venezuela</td>\n",
       "      <td>NaN</td>\n",
       "      <td>NaN</td>\n",
       "      <td>None</td>\n",
       "      <td>None</td>\n",
       "      <td>None</td>\n",
       "      <td>None</td>\n",
       "      <td>None</td>\n",
       "      <td>None</td>\n",
       "      <td>None</td>\n",
       "      <td>None</td>\n",
       "      <td>None</td>\n",
       "      <td>inno_20</td>\n",
       "    </tr>\n",
       "    <tr>\n",
       "      <th>145835</th>\n",
       "      <td>Sun Dec 08 04:37:01 +0000 2019</td>\n",
       "      <td>1203533919590735872</td>\n",
       "      <td>471614045</td>\n",
       "      <td>En la 🌙</td>\n",
       "      <td>NaN</td>\n",
       "      <td>NaN</td>\n",
       "      <td>None</td>\n",
       "      <td>None</td>\n",
       "      <td>None</td>\n",
       "      <td>None</td>\n",
       "      <td>None</td>\n",
       "      <td>None</td>\n",
       "      <td>None</td>\n",
       "      <td>None</td>\n",
       "      <td>None</td>\n",
       "      <td>inno_21</td>\n",
       "    </tr>\n",
       "    <tr>\n",
       "      <th>147205</th>\n",
       "      <td>Sun Dec 08 04:56:49 +0000 2019</td>\n",
       "      <td>1203538902394404864</td>\n",
       "      <td>498093168</td>\n",
       "      <td>arg.</td>\n",
       "      <td>NaN</td>\n",
       "      <td>NaN</td>\n",
       "      <td>None</td>\n",
       "      <td>None</td>\n",
       "      <td>None</td>\n",
       "      <td>None</td>\n",
       "      <td>None</td>\n",
       "      <td>None</td>\n",
       "      <td>None</td>\n",
       "      <td>None</td>\n",
       "      <td>None</td>\n",
       "      <td>inno_25</td>\n",
       "    </tr>\n",
       "  </tbody>\n",
       "</table>\n",
       "<p>20765 rows × 16 columns</p>\n",
       "</div>"
      ],
      "text/plain": [
       "                            created_at           twitter_id  \\\n",
       "index                                                         \n",
       "6490    Sun Jan 01 08:10:59 +0000 2012   153387731521773569   \n",
       "37741   Sun Jan 01 17:17:44 +0000 2012   153525325689655297   \n",
       "24976   Tue Jan 03 14:15:36 +0000 2012   154204266041585664   \n",
       "130875  Sun Jan 08 02:41:19 +0000 2012   155841483243663360   \n",
       "205594  Thu Feb 02 06:23:34 +0000 2012   164957110965243904   \n",
       "...                                ...                  ...   \n",
       "112773  Sun Dec 08 00:02:56 +0000 2019  1203464944223686656   \n",
       "133246  Sun Dec 08 02:38:07 +0000 2019  1203503997421838338   \n",
       "135290  Sun Dec 08 02:55:07 +0000 2019  1203508275595153409   \n",
       "145835  Sun Dec 08 04:37:01 +0000 2019  1203533919590735872   \n",
       "147205  Sun Dec 08 04:56:49 +0000 2019  1203538902394404864   \n",
       "\n",
       "                    user_id             user_location  longitude  latitude  \\\n",
       "index                                                                        \n",
       "6490              191216844                 Paraguay         NaN       NaN   \n",
       "37741              30079977                    Perú ツ        NaN       NaN   \n",
       "24976             298356610                   bogota         NaN       NaN   \n",
       "130875            285206171                   Ibagué         NaN       NaN   \n",
       "205594            141093464  Santo Domingo, Rep. Dom.        NaN       NaN   \n",
       "...                     ...                       ...        ...       ...   \n",
       "112773  1094717144800153601                    España        NaN       NaN   \n",
       "133246           1080159674         Parque Patricios         NaN       NaN   \n",
       "135290   883475939929329664                 Venezuela        NaN       NaN   \n",
       "145835            471614045                   En la 🌙        NaN       NaN   \n",
       "147205            498093168                      arg.        NaN       NaN   \n",
       "\n",
       "       place_box_1_long place_box_1_lat place_box_2_long place_box_2_lat  \\\n",
       "index                                                                      \n",
       "6490               None            None             None            None   \n",
       "37741              None            None             None            None   \n",
       "24976              None            None             None            None   \n",
       "130875             None            None             None            None   \n",
       "205594             None            None             None            None   \n",
       "...                 ...             ...              ...             ...   \n",
       "112773             None            None             None            None   \n",
       "133246             None            None             None            None   \n",
       "135290             None            None             None            None   \n",
       "145835             None            None             None            None   \n",
       "147205             None            None             None            None   \n",
       "\n",
       "       country country_code place_full_name place_id place_name  inno_nr  \n",
       "index                                                                     \n",
       "6490      None         None            None     None       None  inno_02  \n",
       "37741     None         None            None     None       None  inno_02  \n",
       "24976     None         None            None     None       None  inno_02  \n",
       "130875    None         None            None     None       None  inno_02  \n",
       "205594    None         None            None     None       None  inno_02  \n",
       "...        ...          ...             ...      ...        ...      ...  \n",
       "112773    None         None            None     None       None  inno_25  \n",
       "133246    None         None            None     None       None  inno_23  \n",
       "135290    None         None            None     None       None  inno_20  \n",
       "145835    None         None            None     None       None  inno_21  \n",
       "147205    None         None            None     None       None  inno_25  \n",
       "\n",
       "[20765 rows x 16 columns]"
      ]
     },
     "execution_count": 13,
     "metadata": {},
     "output_type": "execute_result"
    }
   ],
=======
   "execution_count": null,
   "metadata": {},
   "outputs": [],
>>>>>>> 60784cb847593b167883686a6d46a1c76ba420f7
   "source": [
    "innovations"
   ]
  },
  {
   "cell_type": "markdown",
   "metadata": {},
   "source": [
    "**Geocoding**"
   ]
  },
  {
   "cell_type": "code",
   "execution_count": 9,
   "metadata": {},
   "outputs": [],
   "source": [
    "import geocoder"
   ]
  },
  {
   "cell_type": "code",
   "execution_count": 10,
   "metadata": {},
   "outputs": [
    {
     "name": "stderr",
     "output_type": "stream",
     "text": [
      "Status code Unknown from https://nominatim.openstreetmap.org/search: ERROR - HTTPSConnectionPool(host='nominatim.openstreetmap.org', port=443): Read timed out. (read timeout=5.0)\n",
      "Status code Unknown from https://nominatim.openstreetmap.org/search: ERROR - HTTPSConnectionPool(host='nominatim.openstreetmap.org', port=443): Read timed out. (read timeout=5.0)\n",
      "Status code Unknown from https://nominatim.openstreetmap.org/search: ERROR - HTTPSConnectionPool(host='nominatim.openstreetmap.org', port=443): Read timed out. (read timeout=5.0)\n",
      "Status code Unknown from https://nominatim.openstreetmap.org/search: ERROR - HTTPSConnectionPool(host='nominatim.openstreetmap.org', port=443): Read timed out. (read timeout=5.0)\n",
      "Status code Unknown from https://nominatim.openstreetmap.org/search: ERROR - HTTPSConnectionPool(host='nominatim.openstreetmap.org', port=443): Read timed out. (read timeout=5.0)\n",
      "Status code Unknown from https://nominatim.openstreetmap.org/search: ERROR - HTTPSConnectionPool(host='nominatim.openstreetmap.org', port=443): Read timed out. (read timeout=5.0)\n",
      "Status code Unknown from https://nominatim.openstreetmap.org/search: ERROR - HTTPSConnectionPool(host='nominatim.openstreetmap.org', port=443): Read timed out. (read timeout=5.0)\n",
      "Status code Unknown from https://nominatim.openstreetmap.org/search: ERROR - HTTPSConnectionPool(host='nominatim.openstreetmap.org', port=443): Read timed out. (read timeout=5.0)\n",
      "Status code Unknown from https://nominatim.openstreetmap.org/search: ERROR - HTTPSConnectionPool(host='nominatim.openstreetmap.org', port=443): Read timed out. (read timeout=5.0)\n",
      "Status code Unknown from https://nominatim.openstreetmap.org/search: ERROR - HTTPSConnectionPool(host='nominatim.openstreetmap.org', port=443): Read timed out. (read timeout=5.0)\n",
      "Status code Unknown from https://nominatim.openstreetmap.org/search: ERROR - HTTPSConnectionPool(host='nominatim.openstreetmap.org', port=443): Read timed out. (read timeout=5.0)\n",
      "Status code Unknown from https://nominatim.openstreetmap.org/search: ERROR - HTTPSConnectionPool(host='nominatim.openstreetmap.org', port=443): Read timed out. (read timeout=5.0)\n",
      "Status code Unknown from https://nominatim.openstreetmap.org/search: ERROR - HTTPSConnectionPool(host='nominatim.openstreetmap.org', port=443): Read timed out. (read timeout=5.0)\n",
      "Status code Unknown from https://nominatim.openstreetmap.org/search: ERROR - HTTPSConnectionPool(host='nominatim.openstreetmap.org', port=443): Read timed out. (read timeout=5.0)\n",
      "Status code Unknown from https://nominatim.openstreetmap.org/search: ERROR - HTTPSConnectionPool(host='nominatim.openstreetmap.org', port=443): Read timed out. (read timeout=5.0)\n",
      "Status code Unknown from https://nominatim.openstreetmap.org/search: ERROR - HTTPSConnectionPool(host='nominatim.openstreetmap.org', port=443): Read timed out. (read timeout=5.0)\n",
      "Status code Unknown from https://nominatim.openstreetmap.org/search: ERROR - HTTPSConnectionPool(host='nominatim.openstreetmap.org', port=443): Read timed out. (read timeout=5.0)\n",
      "Status code Unknown from https://nominatim.openstreetmap.org/search: ERROR - HTTPSConnectionPool(host='nominatim.openstreetmap.org', port=443): Read timed out. (read timeout=5.0)\n",
      "Status code Unknown from https://nominatim.openstreetmap.org/search: ERROR - HTTPSConnectionPool(host='nominatim.openstreetmap.org', port=443): Read timed out. (read timeout=5.0)\n",
      "Status code Unknown from https://nominatim.openstreetmap.org/search: ERROR - HTTPSConnectionPool(host='nominatim.openstreetmap.org', port=443): Read timed out. (read timeout=5.0)\n",
      "Status code Unknown from https://nominatim.openstreetmap.org/search: ERROR - HTTPSConnectionPool(host='nominatim.openstreetmap.org', port=443): Read timed out. (read timeout=5.0)\n",
      "Status code Unknown from https://nominatim.openstreetmap.org/search: ERROR - HTTPSConnectionPool(host='nominatim.openstreetmap.org', port=443): Read timed out. (read timeout=5.0)\n",
      "Status code Unknown from https://nominatim.openstreetmap.org/search: ERROR - HTTPSConnectionPool(host='nominatim.openstreetmap.org', port=443): Read timed out. (read timeout=5.0)\n",
      "Status code Unknown from https://nominatim.openstreetmap.org/search: ERROR - HTTPSConnectionPool(host='nominatim.openstreetmap.org', port=443): Read timed out. (read timeout=5.0)\n",
      "Status code Unknown from https://nominatim.openstreetmap.org/search: ERROR - HTTPSConnectionPool(host='nominatim.openstreetmap.org', port=443): Read timed out. (read timeout=5.0)\n",
      "Status code Unknown from https://nominatim.openstreetmap.org/search: ERROR - HTTPSConnectionPool(host='nominatim.openstreetmap.org', port=443): Read timed out. (read timeout=5.0)\n",
      "Status code Unknown from https://nominatim.openstreetmap.org/search: ERROR - HTTPSConnectionPool(host='nominatim.openstreetmap.org', port=443): Read timed out. (read timeout=5.0)\n",
      "Status code Unknown from https://nominatim.openstreetmap.org/search: ERROR - HTTPSConnectionPool(host='nominatim.openstreetmap.org', port=443): Read timed out. (read timeout=5.0)\n",
      "Status code Unknown from https://nominatim.openstreetmap.org/search: ERROR - HTTPSConnectionPool(host='nominatim.openstreetmap.org', port=443): Read timed out. (read timeout=5.0)\n",
      "Status code Unknown from https://nominatim.openstreetmap.org/search: ERROR - HTTPSConnectionPool(host='nominatim.openstreetmap.org', port=443): Read timed out. (read timeout=5.0)\n",
      "Status code Unknown from https://nominatim.openstreetmap.org/search: ERROR - HTTPSConnectionPool(host='nominatim.openstreetmap.org', port=443): Read timed out. (read timeout=5.0)\n"
     ]
    }
   ],
   "source": [
    "unique_user_locations = geocoded_innovations[\"user_location\"].tolist()\n",
    "dict = {}\n",
    "\n",
    "for location in unique_user_locations:\n",
    "    result = geocoder.osm(location).json\n",
    "    dict[location] = result\n",
    "\n",
    "\n",
    "\n"
   ]
  },
  {
   "cell_type": "code",
   "execution_count": 11,
   "metadata": {},
   "outputs": [],
   "source": [
    "#dict to df\n",
    "geocoded_df = pd.DataFrame(dict)\n",
    "geocoded_df = geocoded_df.transpose()"
   ]
  },
  {
   "cell_type": "code",
   "execution_count": 20,
   "metadata": {},
   "outputs": [],
   "source": [
    "#left join innovation df and geocoded df\n",
    "inno_geocoded = pd.merge(innovations, geocoded_df, left_on = \"user_location\", right_index= True, how=\"left\")"
   ]
  },
  {
   "cell_type": "code",
   "execution_count": 34,
   "metadata": {},
   "outputs": [],
   "source": [
    "#format created_at column\n",
    "inno_geocoded[\"created_at\"] = pd.to_datetime(inno_geocoded.created_at)\n",
    "inno_geocoded[\"time\"] = inno_geocoded[\"created_at\"].dt.strftime('%d/%m/%Y, %H:%M:%S')"
   ]
  },
  {
   "cell_type": "code",
   "execution_count": 27,
   "metadata": {},
   "outputs": [],
   "source": [
    "#Export df to csv\n",
    "geocoded_df.to_csv (\"inno_geocoded.csv\", index = False, header=True)"
   ]
  },
  {
   "cell_type": "code",
   "execution_count": 89,
   "metadata": {},
   "outputs": [],
   "source": [
    "#Store lat and lon in separate columns \n",
    "#geocoded_innovations['Lat'] = geocoded_innovations[\"geocoded\"].apply(lambda x: x.latitude if x else None)\n",
    "#geocoded_innovations['Lon'] = geocoded_innovations[\"geocoded\"].apply(lambda x: x.longitude if x else None)"
   ]
  },
  {
   "cell_type": "markdown",
   "metadata": {},
   "source": [
    "**Afterprocessing**"
   ]
  },
  {
   "cell_type": "code",
   "execution_count": 28,
   "metadata": {},
   "outputs": [],
   "source": [
    "#drop \"user_location\" column before joining two dataset (dropping column, which can be found in both datasets (apart from index))\n",
    "#geocoded_innovations.drop(\"user_location\", axis=1, inplace = True)\n",
    "\n",
    "#joining two dataframes (left join full dataset and geocoded subset)\n",
    "#esult = innovations.join(geocoded_innovations)\n",
    "\n",
    "#Populate NaN values in columns \"geocoded\", \"Lat\" and \"Lon\" of same locations\n",
    "#result[\"geocoded\"] = (result[\"geocoded\"].fillna(result.groupby(\"user_location\")[\"geocoded\"].transform(\"first\")))\n",
    "#result[\"Lat\"] = (result[\"Lat\"].fillna(result.groupby(\"user_location\")[\"Lat\"].transform(\"first\")))\n",
    "#result[\"Lon\"] = (result[\"Lon\"].fillna(result.groupby(\"user_location\")[\"Lon\"].transform(\"first\")))\n",
    "\n",
    "#result\n",
    "\n"
   ]
  },
  {
   "cell_type": "markdown",
   "metadata": {},
   "source": [
    "**Interactive Visualisation**"
   ]
  },
  {
   "cell_type": "code",
<<<<<<< HEAD
   "execution_count": 29,
=======
   "execution_count": null,
>>>>>>> 60784cb847593b167883686a6d46a1c76ba420f7
   "metadata": {},
   "outputs": [],
   "source": [
    "#import folium\n",
    "#from folium.plugins import HeatMapWithTime\n",
    "#from numpy import nan\n",
    "#import math"
   ]
  },
  {
   "cell_type": "code",
   "execution_count": null,
   "metadata": {},
   "outputs": [],
   "source": [
    "#Removing all row, where Lat column has NaN values\n",
    "#nonan = result[result[\"Lat\"].notna()]"
   ]
  },
  {
   "cell_type": "code",
<<<<<<< HEAD
   "execution_count": 31,
=======
   "execution_count": null,
>>>>>>> 60784cb847593b167883686a6d46a1c76ba420f7
   "metadata": {},
   "outputs": [],
   "source": [
    "#lat_lon_list = []\n",
    "#for i in nonan[\"created_at\"].unique():\n",
    "    #temp=[]\n",
    "    #for index, instance in nonan[nonan[\"created_at\"] == i].iterrows():\n",
    "        #temp.append([instance[\"Lat\"],instance[\"Lon\"]])\n",
    "    #lat_lon_list.append(temp)\n"
   ]
  },
  {
   "cell_type": "code",
<<<<<<< HEAD
   "execution_count": 33,
=======
   "execution_count": null,
>>>>>>> 60784cb847593b167883686a6d46a1c76ba420f7
   "metadata": {},
   "outputs": [],
   "source": [
    "#converting it to datetime format\n",
    "#nonan[\"created_at\"]= pd.to_datetime(nonan[\"created_at\"])#creating a time index\n",
    "#time_index = []\n",
    "#for i in nonan[\"created_at\"].unique():\n",
    "    #time_index.append(i)#formatting the index\n",
    "#date_strings = [d.strftime('%d/%m/%Y, %H:%M:%S') for d in time_index]"
   ]
  },
  {
   "cell_type": "code",
<<<<<<< HEAD
   "execution_count": 32,
=======
   "execution_count": null,
>>>>>>> 60784cb847593b167883686a6d46a1c76ba420f7
   "metadata": {},
   "outputs": [],
   "source": [
    "#m = folium.Map([47.32, 8.50], zoom_start=5, tiles = \"CartoDB dark_matter\", control_scale = True)\n",
    "\n",
    "#HeatMapWithTime(lat_lon_list,radius=5,auto_play=True,position='bottomright',name=\"cluster\",index=date_strings,max_opacity=1).add_to(m)\n",
    "\n",
    "#m"
   ]
  },
  {
   "cell_type": "code",
   "execution_count": null,
   "metadata": {},
   "outputs": [],
   "source": [
    "# Todo\n",
    "# Geocode all dataframe\n",
    "# add innovation selector to folium\n",
    "# find better visualisation in folium. not heatmap but point\n",
    "# Move coordinates for origninally geocoded tweets from columns \"Latitude\" and \"Longitude\" to \"Lat\" and \"Lon\""
   ]
  }
 ],
 "metadata": {
  "interpreter": {
   "hash": "963f678b1c8ca4844b9b37f76ea304114b13d5bc802bc196226e021fae05aad4"
  },
  "kernelspec": {
   "display_name": "Python 3.8.10 ('geo_env')",
   "language": "python",
   "name": "python3"
  },
  "language_info": {
   "codemirror_mode": {
    "name": "ipython",
    "version": 3
   },
   "file_extension": ".py",
   "mimetype": "text/x-python",
   "name": "python",
   "nbconvert_exporter": "python",
   "pygments_lexer": "ipython3",
   "version": "3.10.4"
  },
  "orig_nbformat": 4
 },
 "nbformat": 4,
 "nbformat_minor": 2
}
