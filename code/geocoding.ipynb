{
 "cells": [
  {
   "cell_type": "markdown",
   "metadata": {},
   "source": [
    "**Import Libraries**"
   ]
  },
  {
   "cell_type": "code",
   "execution_count": 1,
   "metadata": {},
   "outputs": [
    {
     "ename": "ModuleNotFoundError",
     "evalue": "No module named 'geopy'",
     "output_type": "error",
     "traceback": [
      "\u001b[0;31m---------------------------------------------------------------------------\u001b[0m",
      "\u001b[0;31mModuleNotFoundError\u001b[0m                       Traceback (most recent call last)",
      "\u001b[1;32m/home/linusrg/Code/LILI/code/geocoding.ipynb Cell 2'\u001b[0m in \u001b[0;36m<cell line: 4>\u001b[0;34m()\u001b[0m\n\u001b[1;32m      <a href='vscode-notebook-cell:/home/linusrg/Code/LILI/code/geocoding.ipynb#ch0000001?line=0'>1</a>\u001b[0m \u001b[39mimport\u001b[39;00m \u001b[39mpandas\u001b[39;00m \u001b[39mas\u001b[39;00m \u001b[39mpd\u001b[39;00m\n\u001b[0;32m----> <a href='vscode-notebook-cell:/home/linusrg/Code/LILI/code/geocoding.ipynb#ch0000001?line=3'>4</a>\u001b[0m \u001b[39mfrom\u001b[39;00m \u001b[39mgeopy\u001b[39;00m\u001b[39m.\u001b[39;00m\u001b[39mgeocoders\u001b[39;00m \u001b[39mimport\u001b[39;00m Nominatim\n",
      "\u001b[0;31mModuleNotFoundError\u001b[0m: No module named 'geopy'"
     ]
    }
   ],
   "source": [
    "import pandas as pd\n",
    "\n",
    "\n",
    "from geopy.geocoders import Nominatim\n",
    "#import geocoder"
   ]
  },
  {
   "cell_type": "markdown",
   "metadata": {},
   "source": [
    "**Read Dataset**"
   ]
  },
  {
   "cell_type": "code",
   "execution_count": null,
   "metadata": {},
   "outputs": [],
   "source": [
    "#innovations = pd.read_parquet(\"geocoding_all_0424.parquet\")\n",
    "innovations = pd.read_parquet(\"sample_for_geocoding.parquet\")"
   ]
  },
  {
   "cell_type": "markdown",
   "metadata": {},
   "source": [
    "**Preprocessing (minimise time used for geocoding)**"
   ]
  },
  {
   "cell_type": "code",
   "execution_count": null,
   "metadata": {},
   "outputs": [],
   "source": [
    "#drop all duplicates\n",
    "geocoded_innovations = innovations.drop_duplicates(subset = \"user_location\", keep =\"first\")\n",
    "#drop all rows with lat/lon\n",
    "geocoded_innovations = geocoded_innovations[geocoded_innovations[\"longitude\"].isna() & geocoded_innovations[\"latitude\"].isna()]\n",
    "#only \"user_location\" column\n",
    "geocoded_innovations = geocoded_innovations[[\"user_location\"]]"
   ]
  },
  {
   "cell_type": "markdown",
   "metadata": {},
   "source": [
    "**Geocoding**"
   ]
  },
  {
   "cell_type": "code",
   "execution_count": null,
   "metadata": {},
   "outputs": [],
   "source": [
    "geolocator = Nominatim(user_agent=\"Eric\")\n",
    "\n",
    "geocoded_innovations[\"geocoded\"] = geocoded_innovations.user_location.apply(geolocator.geocode)"
   ]
  },
  {
   "cell_type": "code",
   "execution_count": null,
   "metadata": {},
   "outputs": [],
   "source": [
    "#Store lat and lon in separate columns \n",
    "geocoded_innovations['Lat'] = geocoded_innovations[\"geocoded\"].apply(lambda x: x.latitude if x else None)\n",
    "geocoded_innovations['Lon'] = geocoded_innovations[\"geocoded\"].apply(lambda x: x.longitude if x else None)"
   ]
  },
  {
   "cell_type": "markdown",
   "metadata": {},
   "source": [
    "**Afterprocessing**"
   ]
  },
  {
   "cell_type": "code",
   "execution_count": null,
   "metadata": {},
   "outputs": [],
   "source": [
    "#drop \"user_location\" column before joining two dataset (dropping column, which can be found in both datasets (apart from index))\n",
    "geocoded_innovations.drop(\"user_location\", axis=1, inplace = True)\n",
    "\n",
    "#joining two dataframes (left join full dataset and geocoded subset)\n",
    "result = innovations.join(geocoded_innovations)\n",
    "\n",
    "#Populate NaN values in columns \"geocoded\", \"Lat\" and \"Lon\" of same locations\n",
    "result[\"geocoded\"] = (result[\"geocoded\"].fillna(result.groupby(\"user_location\")[\"geocoded\"].transform(\"first\")))\n",
    "result[\"Lat\"] = (result[\"Lat\"].fillna(result.groupby(\"user_location\")[\"Lat\"].transform(\"first\")))\n",
    "result[\"Lon\"] = (result[\"Lon\"].fillna(result.groupby(\"user_location\")[\"Lon\"].transform(\"first\")))\n",
    "\n",
    "result\n",
    "\n"
   ]
  },
  {
   "cell_type": "code",
   "execution_count": null,
   "metadata": {},
   "outputs": [],
   "source": [
    "result"
   ]
  },
  {
   "cell_type": "markdown",
   "metadata": {},
   "source": [
    "**Interactive Visualisation**"
   ]
  },
  {
   "cell_type": "code",
   "execution_count": null,
   "metadata": {},
   "outputs": [],
   "source": [
    "import folium\n",
    "from folium.plugins import HeatMapWithTime\n",
    "import numpy as np\n",
    "from numpy import nan\n",
    "import math"
   ]
  },
  {
   "cell_type": "code",
   "execution_count": null,
   "metadata": {},
   "outputs": [],
   "source": [
    "#Removing all row, where Lat column has NaN values\n",
    "nonan = result[result[\"Lat\"].notna()]"
   ]
  },
  {
   "cell_type": "code",
   "execution_count": null,
   "metadata": {},
   "outputs": [],
   "source": [
    "lat_lon_list = []\n",
    "for i in nonan[\"created_at\"].unique():\n",
    "    temp=[]\n",
    "    for index, instance in nonan[nonan[\"created_at\"] == i].iterrows():\n",
    "        temp.append([instance[\"Lat\"],instance[\"Lon\"]])\n",
    "    lat_lon_list.append(temp)\n"
   ]
  },
  {
   "cell_type": "code",
   "execution_count": null,
   "metadata": {},
   "outputs": [],
   "source": [
    "#converting it to datetime format\n",
    "nonan[\"created_at\"]= pd.to_datetime(nonan[\"created_at\"])#creating a time index\n",
    "time_index = []\n",
    "for i in nonan[\"created_at\"].unique():\n",
    "    time_index.append(i)#formatting the index\n",
    "date_strings = [d.strftime('%d/%m/%Y, %H:%M:%S') for d in time_index]"
   ]
  },
  {
   "cell_type": "code",
   "execution_count": null,
   "metadata": {},
   "outputs": [],
   "source": [
    "m = folium.Map([47.32, 8.50], zoom_start=5, tiles = \"CartoDB dark_matter\", control_scale = True)\n",
    "\n",
    "HeatMapWithTime(lat_lon_list,radius=5,auto_play=True,position='bottomright',name=\"cluster\",index=date_strings,max_opacity=1).add_to(m)\n",
    "\n",
    "m"
   ]
  },
  {
   "cell_type": "code",
   "execution_count": null,
   "metadata": {},
   "outputs": [],
   "source": [
    "# Todo\n",
    "# Geocode all dataframe\n",
    "# add innovation selector to folium\n",
    "# find better visualisation in folium. not heatmap but point\n",
    "# Move coordinates for origninally geocoded tweets from columns \"Latitude\" and \"Longitude\" to \"Lat\" and \"Lon\""
   ]
  }
 ],
 "metadata": {
  "interpreter": {
   "hash": "963f678b1c8ca4844b9b37f76ea304114b13d5bc802bc196226e021fae05aad4"
  },
  "kernelspec": {
   "display_name": "Python 3.8.10 ('geo_env')",
   "language": "python",
   "name": "python3"
  },
  "language_info": {
   "codemirror_mode": {
    "name": "ipython",
    "version": 3
   },
   "file_extension": ".py",
   "mimetype": "text/x-python",
   "name": "python",
   "nbconvert_exporter": "python",
   "pygments_lexer": "ipython3",
   "version": "3.10.4"
  },
  "orig_nbformat": 4
 },
 "nbformat": 4,
 "nbformat_minor": 2
}
