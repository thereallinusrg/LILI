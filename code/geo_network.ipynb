{
 "cells": [
  {
   "cell_type": "code",
   "execution_count": null,
   "metadata": {},
   "outputs": [],
   "source": []
  },
  {
   "cell_type": "markdown",
   "metadata": {},
   "source": [
    "# CSV Import\n",
    "Dask only import if one of the Inno Columns is ==True; \n",
    "\n",
    "Add all in one df (gpd?)\n"
   ]
  },
  {
   "cell_type": "markdown",
   "metadata": {},
   "source": [
    "# Get coordinates for Tweets (Geocoding)\n",
    "--> Via dict or list of locations (so we don't geocode everything)\n",
    "\n",
    "--> Slight noise for tweets at same city?\n",
    "\n",
    "--> Only one goecode per user?"
   ]
  },
  {
   "cell_type": "markdown",
   "metadata": {},
   "source": [
    "# Visualize\n",
    "--> Make a time based visualization for each Innovation"
   ]
  }
 ],
 "metadata": {
  "interpreter": {
   "hash": "d9a0fd26f19acfad023c81a399efe002ffb2594adbc625505a6269bcb569d10d"
  },
  "kernelspec": {
   "display_name": "Python 3.10.4 ('default': conda)",
   "language": "python",
   "name": "python3"
  },
  "language_info": {
   "name": "python",
   "version": "3.10.4"
  },
  "orig_nbformat": 4
 },
 "nbformat": 4,
 "nbformat_minor": 2
}
