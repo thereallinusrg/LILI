{
 "cells": [
  {
   "cell_type": "markdown",
   "metadata": {},
   "source": [
    "# How to build a network?\n",
    "- Social network simulation?\n",
    "\n",
    "- We have:\n",
    "    - Datetime\n",
    "    - Innovation\n",
    "    - Location\n",
    "- How to build a Network from this?\n",
    "- -> Tree shaped?"
   ]
  },
  {
   "cell_type": "markdown",
   "metadata": {},
   "source": [
    "# CSV Import\n",
    "- Dask only import if one of the Inno Columns is ==True; \n",
    "- Loop trough all CSV's and append \"tures\" to a single dd\n",
    "- Turn into gpd"
   ]
  },
  {
   "cell_type": "code",
   "execution_count": 1,
   "metadata": {},
   "outputs": [
    {
     "name": "stderr",
     "output_type": "stream",
     "text": [
      "ERROR 1: PROJ: proj_create_from_database: Open of /home/linusrg/Code/LILI/.micromamba/envs/LILI-Env/share/proj failed\n"
     ]
    }
   ],
   "source": [
    "import dask.dataframe as dd\n",
    "import geopandas as gpd\n",
    "import pandas as pd\n",
    "import os\n",
    "# Treat '' and np.inf as NaN\n",
    "pd.options.mode.use_inf_as_na = True"
   ]
  },
  {
   "cell_type": "code",
   "execution_count": 2,
   "metadata": {},
   "outputs": [],
   "source": [
    "path = '~/Code/LILI/data/' \n",
    "cols = [\"inno_01\",\"inno_02\",\"inno_03\",\"inno_04\",\"inno_05\",\"inno_06\",\"inno_07\",\"inno_08\",\"inno_09\",\"inno_10\",\"inno_12\",\"inno_13\",\"inno_15\",\"inno_16\",\"inno_17\",\"inno_18\",\"inno_19\",\"inno_20\",\"inno_21\",\"inno_22\",\"inno_23\",\"inno_24\",\"inno_25\",\"inno_26\",\"inno_27\",\"inno_29\",\"inno_30\",\"inno_31\",\"inno_32\",\"inno_33\",\"inno_34\",\"inno_39\"]\n",
    "imp_cols = [\"twitter_id\",\"user_id\",\"user_location\",\"longitude\",\"latitude\",\"place_box_1_long\",\"place_box_1_lat\",\"place_box_2_long\",\"place_box_2_lat\",\"country\",\"country_code\",\"place_full_name\",\"place_id\",\"place_name\"] + cols\n",
    "#empty result df\n",
    "df_allgeo = pd.DataFrame()"
   ]
  },
  {
   "cell_type": "code",
   "execution_count": 3,
   "metadata": {},
   "outputs": [],
   "source": [
    "def dask_imp(path, imp_cols=imp_cols):\n",
    "        df = dd.read_csv(path, sep = '\\t', lineterminator='\\n', usecols=imp_cols, false_values =['', ' ', \"''\", \"' '\", \"\", \" \"], dtype=\n",
    "        {'twitter_id': 'int64',\n",
    "        'user_id': 'int64',\n",
    "        'user_location': 'string',\n",
    "        'longitude': 'float',\n",
    "        'latitude': 'float',\n",
    "        'place_box_1_long': 'string',\n",
    "        'place_box_1_lat': 'string',\n",
    "        'place_box_2_long': 'string',\n",
    "        'place_box_2_lat': 'string',\n",
    "        'country': 'string',\n",
    "        'country_code': 'string',\n",
    "        'place_full_name': 'string',\n",
    "        'place_id': 'string',\n",
    "        'place_name': 'string',\n",
    "        'place_type': 'string',\n",
    "        'inno_01': 'boolean',\n",
    "        'inno_02': 'boolean',\n",
    "        'inno_03': 'boolean',\n",
    "        'inno_04': 'boolean',\n",
    "        'inno_05': 'boolean',\n",
    "        'inno_06': 'boolean',\n",
    "        'inno_07': 'boolean',\n",
    "        'inno_08': 'boolean',\n",
    "        'inno_09': 'boolean',\n",
    "        'inno_10': 'boolean',\n",
    "        'inno_12': 'boolean',\n",
    "        'inno_13': 'boolean',\n",
    "        'inno_15': 'boolean',\n",
    "        'inno_16': 'boolean',\n",
    "        'inno_17': 'boolean',\n",
    "        'inno_18': 'boolean',\n",
    "        'inno_19': 'boolean',\n",
    "        'inno_20': 'boolean',\n",
    "        'inno_21': 'boolean',\n",
    "        'inno_22': 'boolean',\n",
    "        'inno_23': 'boolean',\n",
    "        'inno_24': 'boolean',\n",
    "        'inno_25': 'boolean',\n",
    "        'inno_26': 'boolean',\n",
    "        'inno_27': 'boolean',\n",
    "        'inno_29': 'boolean',\n",
    "        'inno_30': 'boolean',\n",
    "        'inno_31': 'boolean',\n",
    "        'inno_32': 'boolean',\n",
    "        'inno_33': 'boolean',\n",
    "        'inno_34': 'boolean',\n",
    "        'inno_39': 'boolean'})\n",
    "        return df        "
   ]
  },
  {
   "cell_type": "code",
   "execution_count": 4,
   "metadata": {},
   "outputs": [],
   "source": [
    "#create subfolder list\n",
    "subfolders = []\n",
    "for root, dirs, files in os.walk('../data'):\n",
    "   for name in files:\n",
    "      if root in subfolders:\n",
    "         pass\n",
    "      else:\n",
    "         subfolders.append(root) \n",
    "subfolders.sort()"
   ]
  },
  {
   "cell_type": "code",
   "execution_count": 5,
   "metadata": {},
   "outputs": [],
   "source": [
    "#Create empty csv with actual headers to initialize dask data frame\n",
    "# The empty.csv is included in the repo (unlike the data folder)\n",
    "#df_s = df_i.head(0)\n",
    "#df_s.to_csv('empty.csv', sep = \"\\t\")\n"
   ]
  },
  {
   "cell_type": "code",
   "execution_count": 6,
   "metadata": {},
   "outputs": [
    {
     "data": {
      "text/plain": [
       "46"
      ]
     },
     "execution_count": 6,
     "metadata": {},
     "output_type": "execute_result"
    }
   ],
   "source": [
    "df_s = dask_imp('empty.csv')\n",
    "df_s.shape[1]"
   ]
  },
  {
   "cell_type": "code",
   "execution_count": 7,
   "metadata": {},
   "outputs": [],
   "source": [
    "#loop trough folders, parallel import in folders (parallelization across subfolders not possible with Dask, takes ~20s)\n",
    "import warnings\n",
    "warnings.simplefilter(action='ignore', category=FutureWarning)\n",
    "#ignore the warning, append still works and concat is not implemented in dask yet :)\n",
    "df_s = dask_imp('empty.csv')\n",
    "for folder in subfolders:\n",
    "      df = dask_imp(f'{folder}/*.csv')\n",
    "      \n",
    "     # df[cols] = df[cols].applymap(lambda x: eval(x), meta = df[cols])\n",
    "      df['innovation'] = df[cols].sum(axis=1)\n",
    "      df_i = df[df.innovation != 0]\n",
    "      df_i = df_i.drop('innovation', axis=1)\n",
    "\n",
    "      if df_i.shape[1] == df_s.shape[1]:\n",
    "           df_s = df_s.append(df_i)\n",
    "      else: print(folder, \"--> wrong column count\")"
   ]
  },
  {
   "cell_type": "code",
   "execution_count": 8,
   "metadata": {},
   "outputs": [],
   "source": [
    "### Empty or empty string in Inno to FALSE\n",
    "# Replace NaN with 0\n",
    "\n",
    "df_s[cols] = df_s[cols].replace(['', pd.NA, ' ', 'NaN', '<NA>', 'False'], 0)\n",
    "df_s = df_s.replace('Fal', 0)"
   ]
  },
  {
   "cell_type": "code",
   "execution_count": 9,
   "metadata": {},
   "outputs": [],
   "source": [
    "# Stack all the bool to one named column\n",
    "df_s['inno_nr'] = df_s[cols].idxmax(1).astype('string')\n",
    "df_n = df_s.drop(cols, axis=1)\n",
    "df_n['inno_nr'] = df_n['inno_nr'].astype('string')"
   ]
  },
  {
   "cell_type": "code",
   "execution_count": 10,
   "metadata": {},
   "outputs": [
    {
     "name": "stderr",
     "output_type": "stream",
     "text": [
      "/home/linusrg/Code/LILI/.micromamba/envs/LILI-Env/lib/python3.10/site-packages/dask/dataframe/core.py:7296: UserWarning: Insufficient elements for `head`. 5 elements requested, only 2 elements available. Try passing larger `npartitions` to `head`.\n",
      "  warnings.warn(\n"
     ]
    },
    {
     "data": {
      "text/html": [
       "<div>\n",
       "<style scoped>\n",
       "    .dataframe tbody tr th:only-of-type {\n",
       "        vertical-align: middle;\n",
       "    }\n",
       "\n",
       "    .dataframe tbody tr th {\n",
       "        vertical-align: top;\n",
       "    }\n",
       "\n",
       "    .dataframe thead th {\n",
       "        text-align: right;\n",
       "    }\n",
       "</style>\n",
       "<table border=\"1\" class=\"dataframe\">\n",
       "  <thead>\n",
       "    <tr style=\"text-align: right;\">\n",
       "      <th></th>\n",
       "      <th>twitter_id</th>\n",
       "      <th>user_id</th>\n",
       "      <th>user_location</th>\n",
       "      <th>longitude</th>\n",
       "      <th>latitude</th>\n",
       "      <th>place_box_1_long</th>\n",
       "      <th>place_box_1_lat</th>\n",
       "      <th>place_box_2_long</th>\n",
       "      <th>place_box_2_lat</th>\n",
       "      <th>country</th>\n",
       "      <th>country_code</th>\n",
       "      <th>place_full_name</th>\n",
       "      <th>place_id</th>\n",
       "      <th>place_name</th>\n",
       "      <th>inno_nr</th>\n",
       "    </tr>\n",
       "  </thead>\n",
       "  <tbody>\n",
       "    <tr>\n",
       "      <th>0</th>\n",
       "      <td>153387731521773569</td>\n",
       "      <td>191216844</td>\n",
       "      <td>Paraguay</td>\n",
       "      <td>NaN</td>\n",
       "      <td>NaN</td>\n",
       "      <td>&lt;NA&gt;</td>\n",
       "      <td>&lt;NA&gt;</td>\n",
       "      <td>&lt;NA&gt;</td>\n",
       "      <td>&lt;NA&gt;</td>\n",
       "      <td>&lt;NA&gt;</td>\n",
       "      <td>&lt;NA&gt;</td>\n",
       "      <td>&lt;NA&gt;</td>\n",
       "      <td>&lt;NA&gt;</td>\n",
       "      <td>&lt;NA&gt;</td>\n",
       "      <td>inno_02</td>\n",
       "    </tr>\n",
       "    <tr>\n",
       "      <th>1</th>\n",
       "      <td>153525325689655297</td>\n",
       "      <td>30079977</td>\n",
       "      <td>Perú ツ</td>\n",
       "      <td>NaN</td>\n",
       "      <td>NaN</td>\n",
       "      <td>&lt;NA&gt;</td>\n",
       "      <td>&lt;NA&gt;</td>\n",
       "      <td>&lt;NA&gt;</td>\n",
       "      <td>&lt;NA&gt;</td>\n",
       "      <td>&lt;NA&gt;</td>\n",
       "      <td>&lt;NA&gt;</td>\n",
       "      <td>&lt;NA&gt;</td>\n",
       "      <td>&lt;NA&gt;</td>\n",
       "      <td>&lt;NA&gt;</td>\n",
       "      <td>inno_02</td>\n",
       "    </tr>\n",
       "  </tbody>\n",
       "</table>\n",
       "</div>"
      ],
      "text/plain": [
       "           twitter_id    user_id user_location  longitude  latitude  \\\n",
       "0  153387731521773569  191216844     Paraguay         NaN       NaN   \n",
       "1  153525325689655297   30079977        Perú ツ        NaN       NaN   \n",
       "\n",
       "  place_box_1_long place_box_1_lat place_box_2_long place_box_2_lat country  \\\n",
       "0             <NA>            <NA>             <NA>            <NA>    <NA>   \n",
       "1             <NA>            <NA>             <NA>            <NA>    <NA>   \n",
       "\n",
       "  country_code place_full_name place_id place_name  inno_nr  \n",
       "0         <NA>            <NA>     <NA>       <NA>  inno_02  \n",
       "1         <NA>            <NA>     <NA>       <NA>  inno_02  "
      ]
     },
     "execution_count": 10,
     "metadata": {},
     "output_type": "execute_result"
    }
   ],
   "source": [
    "df_n.head(5)"
   ]
  },
  {
   "cell_type": "code",
   "execution_count": 11,
   "metadata": {},
   "outputs": [],
   "source": [
    "# Create an export parquet\n",
    "#df_n.to_parquet('all_raw_dask.parquet')"
   ]
  },
  {
   "cell_type": "code",
   "execution_count": 12,
   "metadata": {},
   "outputs": [
    {
     "ename": "ValueError",
     "evalue": "Fal cannot be cast to bool",
     "output_type": "error",
     "traceback": [
      "\u001b[0;31m---------------------------------------------------------------------------\u001b[0m",
      "\u001b[0;31mValueError\u001b[0m                                Traceback (most recent call last)",
      "\u001b[1;32m/home/linusrg/Code/LILI/code/geo_network.ipynb Cell 14'\u001b[0m in \u001b[0;36m<cell line: 3>\u001b[0;34m()\u001b[0m\n\u001b[1;32m      <a href='vscode-notebook-cell:/home/linusrg/Code/LILI/code/geo_network.ipynb#ch0000012?line=0'>1</a>\u001b[0m \u001b[39m#turn dask data frame into pandas data frame\u001b[39;00m\n\u001b[1;32m      <a href='vscode-notebook-cell:/home/linusrg/Code/LILI/code/geo_network.ipynb#ch0000012?line=1'>2</a>\u001b[0m \u001b[39m#this is a longish process. ~50min\u001b[39;00m\n\u001b[0;32m----> <a href='vscode-notebook-cell:/home/linusrg/Code/LILI/code/geo_network.ipynb#ch0000012?line=2'>3</a>\u001b[0m df \u001b[39m=\u001b[39m df_n\u001b[39m.\u001b[39;49mcompute()\n\u001b[1;32m      <a href='vscode-notebook-cell:/home/linusrg/Code/LILI/code/geo_network.ipynb#ch0000012?line=3'>4</a>\u001b[0m df\u001b[39m.\u001b[39mto_parquet(\u001b[39m'\u001b[39m\u001b[39mall2.parquet\u001b[39m\u001b[39m'\u001b[39m)\n",
      "File \u001b[0;32m~/Code/LILI/.micromamba/envs/LILI-Env/lib/python3.10/site-packages/dask/base.py:292\u001b[0m, in \u001b[0;36mDaskMethodsMixin.compute\u001b[0;34m(self, **kwargs)\u001b[0m\n\u001b[1;32m    <a href='file:///home/linusrg/Code/LILI/.micromamba/envs/LILI-Env/lib/python3.10/site-packages/dask/base.py?line=267'>268</a>\u001b[0m \u001b[39mdef\u001b[39;00m \u001b[39mcompute\u001b[39m(\u001b[39mself\u001b[39m, \u001b[39m*\u001b[39m\u001b[39m*\u001b[39mkwargs):\n\u001b[1;32m    <a href='file:///home/linusrg/Code/LILI/.micromamba/envs/LILI-Env/lib/python3.10/site-packages/dask/base.py?line=268'>269</a>\u001b[0m     \u001b[39m\"\"\"Compute this dask collection\u001b[39;00m\n\u001b[1;32m    <a href='file:///home/linusrg/Code/LILI/.micromamba/envs/LILI-Env/lib/python3.10/site-packages/dask/base.py?line=269'>270</a>\u001b[0m \n\u001b[1;32m    <a href='file:///home/linusrg/Code/LILI/.micromamba/envs/LILI-Env/lib/python3.10/site-packages/dask/base.py?line=270'>271</a>\u001b[0m \u001b[39m    This turns a lazy Dask collection into its in-memory equivalent.\u001b[39;00m\n\u001b[0;32m   (...)\u001b[0m\n\u001b[1;32m    <a href='file:///home/linusrg/Code/LILI/.micromamba/envs/LILI-Env/lib/python3.10/site-packages/dask/base.py?line=289'>290</a>\u001b[0m \u001b[39m    dask.base.compute\u001b[39;00m\n\u001b[1;32m    <a href='file:///home/linusrg/Code/LILI/.micromamba/envs/LILI-Env/lib/python3.10/site-packages/dask/base.py?line=290'>291</a>\u001b[0m \u001b[39m    \"\"\"\u001b[39;00m\n\u001b[0;32m--> <a href='file:///home/linusrg/Code/LILI/.micromamba/envs/LILI-Env/lib/python3.10/site-packages/dask/base.py?line=291'>292</a>\u001b[0m     (result,) \u001b[39m=\u001b[39m compute(\u001b[39mself\u001b[39;49m, traverse\u001b[39m=\u001b[39;49m\u001b[39mFalse\u001b[39;49;00m, \u001b[39m*\u001b[39;49m\u001b[39m*\u001b[39;49mkwargs)\n\u001b[1;32m    <a href='file:///home/linusrg/Code/LILI/.micromamba/envs/LILI-Env/lib/python3.10/site-packages/dask/base.py?line=292'>293</a>\u001b[0m     \u001b[39mreturn\u001b[39;00m result\n",
      "File \u001b[0;32m~/Code/LILI/.micromamba/envs/LILI-Env/lib/python3.10/site-packages/dask/base.py:575\u001b[0m, in \u001b[0;36mcompute\u001b[0;34m(traverse, optimize_graph, scheduler, get, *args, **kwargs)\u001b[0m\n\u001b[1;32m    <a href='file:///home/linusrg/Code/LILI/.micromamba/envs/LILI-Env/lib/python3.10/site-packages/dask/base.py?line=571'>572</a>\u001b[0m     keys\u001b[39m.\u001b[39mappend(x\u001b[39m.\u001b[39m__dask_keys__())\n\u001b[1;32m    <a href='file:///home/linusrg/Code/LILI/.micromamba/envs/LILI-Env/lib/python3.10/site-packages/dask/base.py?line=572'>573</a>\u001b[0m     postcomputes\u001b[39m.\u001b[39mappend(x\u001b[39m.\u001b[39m__dask_postcompute__())\n\u001b[0;32m--> <a href='file:///home/linusrg/Code/LILI/.micromamba/envs/LILI-Env/lib/python3.10/site-packages/dask/base.py?line=574'>575</a>\u001b[0m results \u001b[39m=\u001b[39m schedule(dsk, keys, \u001b[39m*\u001b[39;49m\u001b[39m*\u001b[39;49mkwargs)\n\u001b[1;32m    <a href='file:///home/linusrg/Code/LILI/.micromamba/envs/LILI-Env/lib/python3.10/site-packages/dask/base.py?line=575'>576</a>\u001b[0m \u001b[39mreturn\u001b[39;00m repack([f(r, \u001b[39m*\u001b[39ma) \u001b[39mfor\u001b[39;00m r, (f, a) \u001b[39min\u001b[39;00m \u001b[39mzip\u001b[39m(results, postcomputes)])\n",
      "File \u001b[0;32m~/Code/LILI/.micromamba/envs/LILI-Env/lib/python3.10/site-packages/dask/threaded.py:81\u001b[0m, in \u001b[0;36mget\u001b[0;34m(dsk, result, cache, num_workers, pool, **kwargs)\u001b[0m\n\u001b[1;32m     <a href='file:///home/linusrg/Code/LILI/.micromamba/envs/LILI-Env/lib/python3.10/site-packages/dask/threaded.py?line=77'>78</a>\u001b[0m     \u001b[39melif\u001b[39;00m \u001b[39misinstance\u001b[39m(pool, multiprocessing\u001b[39m.\u001b[39mpool\u001b[39m.\u001b[39mPool):\n\u001b[1;32m     <a href='file:///home/linusrg/Code/LILI/.micromamba/envs/LILI-Env/lib/python3.10/site-packages/dask/threaded.py?line=78'>79</a>\u001b[0m         pool \u001b[39m=\u001b[39m MultiprocessingPoolExecutor(pool)\n\u001b[0;32m---> <a href='file:///home/linusrg/Code/LILI/.micromamba/envs/LILI-Env/lib/python3.10/site-packages/dask/threaded.py?line=80'>81</a>\u001b[0m results \u001b[39m=\u001b[39m get_async(\n\u001b[1;32m     <a href='file:///home/linusrg/Code/LILI/.micromamba/envs/LILI-Env/lib/python3.10/site-packages/dask/threaded.py?line=81'>82</a>\u001b[0m     pool\u001b[39m.\u001b[39;49msubmit,\n\u001b[1;32m     <a href='file:///home/linusrg/Code/LILI/.micromamba/envs/LILI-Env/lib/python3.10/site-packages/dask/threaded.py?line=82'>83</a>\u001b[0m     pool\u001b[39m.\u001b[39;49m_max_workers,\n\u001b[1;32m     <a href='file:///home/linusrg/Code/LILI/.micromamba/envs/LILI-Env/lib/python3.10/site-packages/dask/threaded.py?line=83'>84</a>\u001b[0m     dsk,\n\u001b[1;32m     <a href='file:///home/linusrg/Code/LILI/.micromamba/envs/LILI-Env/lib/python3.10/site-packages/dask/threaded.py?line=84'>85</a>\u001b[0m     result,\n\u001b[1;32m     <a href='file:///home/linusrg/Code/LILI/.micromamba/envs/LILI-Env/lib/python3.10/site-packages/dask/threaded.py?line=85'>86</a>\u001b[0m     cache\u001b[39m=\u001b[39;49mcache,\n\u001b[1;32m     <a href='file:///home/linusrg/Code/LILI/.micromamba/envs/LILI-Env/lib/python3.10/site-packages/dask/threaded.py?line=86'>87</a>\u001b[0m     get_id\u001b[39m=\u001b[39;49m_thread_get_id,\n\u001b[1;32m     <a href='file:///home/linusrg/Code/LILI/.micromamba/envs/LILI-Env/lib/python3.10/site-packages/dask/threaded.py?line=87'>88</a>\u001b[0m     pack_exception\u001b[39m=\u001b[39;49mpack_exception,\n\u001b[1;32m     <a href='file:///home/linusrg/Code/LILI/.micromamba/envs/LILI-Env/lib/python3.10/site-packages/dask/threaded.py?line=88'>89</a>\u001b[0m     \u001b[39m*\u001b[39;49m\u001b[39m*\u001b[39;49mkwargs,\n\u001b[1;32m     <a href='file:///home/linusrg/Code/LILI/.micromamba/envs/LILI-Env/lib/python3.10/site-packages/dask/threaded.py?line=89'>90</a>\u001b[0m )\n\u001b[1;32m     <a href='file:///home/linusrg/Code/LILI/.micromamba/envs/LILI-Env/lib/python3.10/site-packages/dask/threaded.py?line=91'>92</a>\u001b[0m \u001b[39m# Cleanup pools associated to dead threads\u001b[39;00m\n\u001b[1;32m     <a href='file:///home/linusrg/Code/LILI/.micromamba/envs/LILI-Env/lib/python3.10/site-packages/dask/threaded.py?line=92'>93</a>\u001b[0m \u001b[39mwith\u001b[39;00m pools_lock:\n",
      "File \u001b[0;32m~/Code/LILI/.micromamba/envs/LILI-Env/lib/python3.10/site-packages/dask/local.py:508\u001b[0m, in \u001b[0;36mget_async\u001b[0;34m(submit, num_workers, dsk, result, cache, get_id, rerun_exceptions_locally, pack_exception, raise_exception, callbacks, dumps, loads, chunksize, **kwargs)\u001b[0m\n\u001b[1;32m    <a href='file:///home/linusrg/Code/LILI/.micromamba/envs/LILI-Env/lib/python3.10/site-packages/dask/local.py?line=505'>506</a>\u001b[0m         _execute_task(task, data)  \u001b[39m# Re-execute locally\u001b[39;00m\n\u001b[1;32m    <a href='file:///home/linusrg/Code/LILI/.micromamba/envs/LILI-Env/lib/python3.10/site-packages/dask/local.py?line=506'>507</a>\u001b[0m     \u001b[39melse\u001b[39;00m:\n\u001b[0;32m--> <a href='file:///home/linusrg/Code/LILI/.micromamba/envs/LILI-Env/lib/python3.10/site-packages/dask/local.py?line=507'>508</a>\u001b[0m         raise_exception(exc, tb)\n\u001b[1;32m    <a href='file:///home/linusrg/Code/LILI/.micromamba/envs/LILI-Env/lib/python3.10/site-packages/dask/local.py?line=508'>509</a>\u001b[0m res, worker_id \u001b[39m=\u001b[39m loads(res_info)\n\u001b[1;32m    <a href='file:///home/linusrg/Code/LILI/.micromamba/envs/LILI-Env/lib/python3.10/site-packages/dask/local.py?line=509'>510</a>\u001b[0m state[\u001b[39m\"\u001b[39m\u001b[39mcache\u001b[39m\u001b[39m\"\u001b[39m][key] \u001b[39m=\u001b[39m res\n",
      "File \u001b[0;32m~/Code/LILI/.micromamba/envs/LILI-Env/lib/python3.10/site-packages/dask/local.py:316\u001b[0m, in \u001b[0;36mreraise\u001b[0;34m(exc, tb)\u001b[0m\n\u001b[1;32m    <a href='file:///home/linusrg/Code/LILI/.micromamba/envs/LILI-Env/lib/python3.10/site-packages/dask/local.py?line=313'>314</a>\u001b[0m \u001b[39mif\u001b[39;00m exc\u001b[39m.\u001b[39m__traceback__ \u001b[39mis\u001b[39;00m \u001b[39mnot\u001b[39;00m tb:\n\u001b[1;32m    <a href='file:///home/linusrg/Code/LILI/.micromamba/envs/LILI-Env/lib/python3.10/site-packages/dask/local.py?line=314'>315</a>\u001b[0m     \u001b[39mraise\u001b[39;00m exc\u001b[39m.\u001b[39mwith_traceback(tb)\n\u001b[0;32m--> <a href='file:///home/linusrg/Code/LILI/.micromamba/envs/LILI-Env/lib/python3.10/site-packages/dask/local.py?line=315'>316</a>\u001b[0m \u001b[39mraise\u001b[39;00m exc\n",
      "File \u001b[0;32m~/Code/LILI/.micromamba/envs/LILI-Env/lib/python3.10/site-packages/dask/local.py:221\u001b[0m, in \u001b[0;36mexecute_task\u001b[0;34m(key, task_info, dumps, loads, get_id, pack_exception)\u001b[0m\n\u001b[1;32m    <a href='file:///home/linusrg/Code/LILI/.micromamba/envs/LILI-Env/lib/python3.10/site-packages/dask/local.py?line=218'>219</a>\u001b[0m \u001b[39mtry\u001b[39;00m:\n\u001b[1;32m    <a href='file:///home/linusrg/Code/LILI/.micromamba/envs/LILI-Env/lib/python3.10/site-packages/dask/local.py?line=219'>220</a>\u001b[0m     task, data \u001b[39m=\u001b[39m loads(task_info)\n\u001b[0;32m--> <a href='file:///home/linusrg/Code/LILI/.micromamba/envs/LILI-Env/lib/python3.10/site-packages/dask/local.py?line=220'>221</a>\u001b[0m     result \u001b[39m=\u001b[39m _execute_task(task, data)\n\u001b[1;32m    <a href='file:///home/linusrg/Code/LILI/.micromamba/envs/LILI-Env/lib/python3.10/site-packages/dask/local.py?line=221'>222</a>\u001b[0m     \u001b[39mid\u001b[39m \u001b[39m=\u001b[39m get_id()\n\u001b[1;32m    <a href='file:///home/linusrg/Code/LILI/.micromamba/envs/LILI-Env/lib/python3.10/site-packages/dask/local.py?line=222'>223</a>\u001b[0m     result \u001b[39m=\u001b[39m dumps((result, \u001b[39mid\u001b[39m))\n",
      "File \u001b[0;32m~/Code/LILI/.micromamba/envs/LILI-Env/lib/python3.10/site-packages/dask/core.py:119\u001b[0m, in \u001b[0;36m_execute_task\u001b[0;34m(arg, cache, dsk)\u001b[0m\n\u001b[1;32m    <a href='file:///home/linusrg/Code/LILI/.micromamba/envs/LILI-Env/lib/python3.10/site-packages/dask/core.py?line=114'>115</a>\u001b[0m     func, args \u001b[39m=\u001b[39m arg[\u001b[39m0\u001b[39m], arg[\u001b[39m1\u001b[39m:]\n\u001b[1;32m    <a href='file:///home/linusrg/Code/LILI/.micromamba/envs/LILI-Env/lib/python3.10/site-packages/dask/core.py?line=115'>116</a>\u001b[0m     \u001b[39m# Note: Don't assign the subtask results to a variable. numpy detects\u001b[39;00m\n\u001b[1;32m    <a href='file:///home/linusrg/Code/LILI/.micromamba/envs/LILI-Env/lib/python3.10/site-packages/dask/core.py?line=116'>117</a>\u001b[0m     \u001b[39m# temporaries by their reference count and can execute certain\u001b[39;00m\n\u001b[1;32m    <a href='file:///home/linusrg/Code/LILI/.micromamba/envs/LILI-Env/lib/python3.10/site-packages/dask/core.py?line=117'>118</a>\u001b[0m     \u001b[39m# operations in-place.\u001b[39;00m\n\u001b[0;32m--> <a href='file:///home/linusrg/Code/LILI/.micromamba/envs/LILI-Env/lib/python3.10/site-packages/dask/core.py?line=118'>119</a>\u001b[0m     \u001b[39mreturn\u001b[39;00m func(\u001b[39m*\u001b[39;49m(_execute_task(a, cache) \u001b[39mfor\u001b[39;49;00m a \u001b[39min\u001b[39;49;00m args))\n\u001b[1;32m    <a href='file:///home/linusrg/Code/LILI/.micromamba/envs/LILI-Env/lib/python3.10/site-packages/dask/core.py?line=119'>120</a>\u001b[0m \u001b[39melif\u001b[39;00m \u001b[39mnot\u001b[39;00m ishashable(arg):\n\u001b[1;32m    <a href='file:///home/linusrg/Code/LILI/.micromamba/envs/LILI-Env/lib/python3.10/site-packages/dask/core.py?line=120'>121</a>\u001b[0m     \u001b[39mreturn\u001b[39;00m arg\n",
      "File \u001b[0;32m~/Code/LILI/.micromamba/envs/LILI-Env/lib/python3.10/site-packages/dask/optimization.py:990\u001b[0m, in \u001b[0;36mSubgraphCallable.__call__\u001b[0;34m(self, *args)\u001b[0m\n\u001b[1;32m    <a href='file:///home/linusrg/Code/LILI/.micromamba/envs/LILI-Env/lib/python3.10/site-packages/dask/optimization.py?line=987'>988</a>\u001b[0m \u001b[39mif\u001b[39;00m \u001b[39mnot\u001b[39;00m \u001b[39mlen\u001b[39m(args) \u001b[39m==\u001b[39m \u001b[39mlen\u001b[39m(\u001b[39mself\u001b[39m\u001b[39m.\u001b[39minkeys):\n\u001b[1;32m    <a href='file:///home/linusrg/Code/LILI/.micromamba/envs/LILI-Env/lib/python3.10/site-packages/dask/optimization.py?line=988'>989</a>\u001b[0m     \u001b[39mraise\u001b[39;00m \u001b[39mValueError\u001b[39;00m(\u001b[39m\"\u001b[39m\u001b[39mExpected \u001b[39m\u001b[39m%d\u001b[39;00m\u001b[39m args, got \u001b[39m\u001b[39m%d\u001b[39;00m\u001b[39m\"\u001b[39m \u001b[39m%\u001b[39m (\u001b[39mlen\u001b[39m(\u001b[39mself\u001b[39m\u001b[39m.\u001b[39minkeys), \u001b[39mlen\u001b[39m(args)))\n\u001b[0;32m--> <a href='file:///home/linusrg/Code/LILI/.micromamba/envs/LILI-Env/lib/python3.10/site-packages/dask/optimization.py?line=989'>990</a>\u001b[0m \u001b[39mreturn\u001b[39;00m core\u001b[39m.\u001b[39;49mget(\u001b[39mself\u001b[39;49m\u001b[39m.\u001b[39;49mdsk, \u001b[39mself\u001b[39;49m\u001b[39m.\u001b[39;49moutkey, \u001b[39mdict\u001b[39;49m(\u001b[39mzip\u001b[39;49m(\u001b[39mself\u001b[39;49m\u001b[39m.\u001b[39;49minkeys, args)))\n",
      "File \u001b[0;32m~/Code/LILI/.micromamba/envs/LILI-Env/lib/python3.10/site-packages/dask/core.py:149\u001b[0m, in \u001b[0;36mget\u001b[0;34m(dsk, out, cache)\u001b[0m\n\u001b[1;32m    <a href='file:///home/linusrg/Code/LILI/.micromamba/envs/LILI-Env/lib/python3.10/site-packages/dask/core.py?line=146'>147</a>\u001b[0m \u001b[39mfor\u001b[39;00m key \u001b[39min\u001b[39;00m toposort(dsk):\n\u001b[1;32m    <a href='file:///home/linusrg/Code/LILI/.micromamba/envs/LILI-Env/lib/python3.10/site-packages/dask/core.py?line=147'>148</a>\u001b[0m     task \u001b[39m=\u001b[39m dsk[key]\n\u001b[0;32m--> <a href='file:///home/linusrg/Code/LILI/.micromamba/envs/LILI-Env/lib/python3.10/site-packages/dask/core.py?line=148'>149</a>\u001b[0m     result \u001b[39m=\u001b[39m _execute_task(task, cache)\n\u001b[1;32m    <a href='file:///home/linusrg/Code/LILI/.micromamba/envs/LILI-Env/lib/python3.10/site-packages/dask/core.py?line=149'>150</a>\u001b[0m     cache[key] \u001b[39m=\u001b[39m result\n\u001b[1;32m    <a href='file:///home/linusrg/Code/LILI/.micromamba/envs/LILI-Env/lib/python3.10/site-packages/dask/core.py?line=150'>151</a>\u001b[0m result \u001b[39m=\u001b[39m _execute_task(out, cache)\n",
      "File \u001b[0;32m~/Code/LILI/.micromamba/envs/LILI-Env/lib/python3.10/site-packages/dask/core.py:119\u001b[0m, in \u001b[0;36m_execute_task\u001b[0;34m(arg, cache, dsk)\u001b[0m\n\u001b[1;32m    <a href='file:///home/linusrg/Code/LILI/.micromamba/envs/LILI-Env/lib/python3.10/site-packages/dask/core.py?line=114'>115</a>\u001b[0m     func, args \u001b[39m=\u001b[39m arg[\u001b[39m0\u001b[39m], arg[\u001b[39m1\u001b[39m:]\n\u001b[1;32m    <a href='file:///home/linusrg/Code/LILI/.micromamba/envs/LILI-Env/lib/python3.10/site-packages/dask/core.py?line=115'>116</a>\u001b[0m     \u001b[39m# Note: Don't assign the subtask results to a variable. numpy detects\u001b[39;00m\n\u001b[1;32m    <a href='file:///home/linusrg/Code/LILI/.micromamba/envs/LILI-Env/lib/python3.10/site-packages/dask/core.py?line=116'>117</a>\u001b[0m     \u001b[39m# temporaries by their reference count and can execute certain\u001b[39;00m\n\u001b[1;32m    <a href='file:///home/linusrg/Code/LILI/.micromamba/envs/LILI-Env/lib/python3.10/site-packages/dask/core.py?line=117'>118</a>\u001b[0m     \u001b[39m# operations in-place.\u001b[39;00m\n\u001b[0;32m--> <a href='file:///home/linusrg/Code/LILI/.micromamba/envs/LILI-Env/lib/python3.10/site-packages/dask/core.py?line=118'>119</a>\u001b[0m     \u001b[39mreturn\u001b[39;00m func(\u001b[39m*\u001b[39;49m(_execute_task(a, cache) \u001b[39mfor\u001b[39;49;00m a \u001b[39min\u001b[39;49;00m args))\n\u001b[1;32m    <a href='file:///home/linusrg/Code/LILI/.micromamba/envs/LILI-Env/lib/python3.10/site-packages/dask/core.py?line=119'>120</a>\u001b[0m \u001b[39melif\u001b[39;00m \u001b[39mnot\u001b[39;00m ishashable(arg):\n\u001b[1;32m    <a href='file:///home/linusrg/Code/LILI/.micromamba/envs/LILI-Env/lib/python3.10/site-packages/dask/core.py?line=120'>121</a>\u001b[0m     \u001b[39mreturn\u001b[39;00m arg\n",
      "File \u001b[0;32m~/Code/LILI/.micromamba/envs/LILI-Env/lib/python3.10/site-packages/dask/dataframe/io/csv.py:128\u001b[0m, in \u001b[0;36mCSVFunctionWrapper.__call__\u001b[0;34m(self, part)\u001b[0m\n\u001b[1;32m    <a href='file:///home/linusrg/Code/LILI/.micromamba/envs/LILI-Env/lib/python3.10/site-packages/dask/dataframe/io/csv.py?line=124'>125</a>\u001b[0m         rest_kwargs[\u001b[39m\"\u001b[39m\u001b[39musecols\u001b[39m\u001b[39m\"\u001b[39m] \u001b[39m=\u001b[39m columns\n\u001b[1;32m    <a href='file:///home/linusrg/Code/LILI/.micromamba/envs/LILI-Env/lib/python3.10/site-packages/dask/dataframe/io/csv.py?line=126'>127</a>\u001b[0m \u001b[39m# Call `pandas_read_text`\u001b[39;00m\n\u001b[0;32m--> <a href='file:///home/linusrg/Code/LILI/.micromamba/envs/LILI-Env/lib/python3.10/site-packages/dask/dataframe/io/csv.py?line=127'>128</a>\u001b[0m df \u001b[39m=\u001b[39m pandas_read_text(\n\u001b[1;32m    <a href='file:///home/linusrg/Code/LILI/.micromamba/envs/LILI-Env/lib/python3.10/site-packages/dask/dataframe/io/csv.py?line=128'>129</a>\u001b[0m     \u001b[39mself\u001b[39;49m\u001b[39m.\u001b[39;49mreader,\n\u001b[1;32m    <a href='file:///home/linusrg/Code/LILI/.micromamba/envs/LILI-Env/lib/python3.10/site-packages/dask/dataframe/io/csv.py?line=129'>130</a>\u001b[0m     block,\n\u001b[1;32m    <a href='file:///home/linusrg/Code/LILI/.micromamba/envs/LILI-Env/lib/python3.10/site-packages/dask/dataframe/io/csv.py?line=130'>131</a>\u001b[0m     \u001b[39mself\u001b[39;49m\u001b[39m.\u001b[39;49mheader,\n\u001b[1;32m    <a href='file:///home/linusrg/Code/LILI/.micromamba/envs/LILI-Env/lib/python3.10/site-packages/dask/dataframe/io/csv.py?line=131'>132</a>\u001b[0m     rest_kwargs,\n\u001b[1;32m    <a href='file:///home/linusrg/Code/LILI/.micromamba/envs/LILI-Env/lib/python3.10/site-packages/dask/dataframe/io/csv.py?line=132'>133</a>\u001b[0m     \u001b[39mself\u001b[39;49m\u001b[39m.\u001b[39;49mdtypes,\n\u001b[1;32m    <a href='file:///home/linusrg/Code/LILI/.micromamba/envs/LILI-Env/lib/python3.10/site-packages/dask/dataframe/io/csv.py?line=133'>134</a>\u001b[0m     columns,\n\u001b[1;32m    <a href='file:///home/linusrg/Code/LILI/.micromamba/envs/LILI-Env/lib/python3.10/site-packages/dask/dataframe/io/csv.py?line=134'>135</a>\u001b[0m     write_header,\n\u001b[1;32m    <a href='file:///home/linusrg/Code/LILI/.micromamba/envs/LILI-Env/lib/python3.10/site-packages/dask/dataframe/io/csv.py?line=135'>136</a>\u001b[0m     \u001b[39mself\u001b[39;49m\u001b[39m.\u001b[39;49menforce,\n\u001b[1;32m    <a href='file:///home/linusrg/Code/LILI/.micromamba/envs/LILI-Env/lib/python3.10/site-packages/dask/dataframe/io/csv.py?line=136'>137</a>\u001b[0m     path_info,\n\u001b[1;32m    <a href='file:///home/linusrg/Code/LILI/.micromamba/envs/LILI-Env/lib/python3.10/site-packages/dask/dataframe/io/csv.py?line=137'>138</a>\u001b[0m )\n\u001b[1;32m    <a href='file:///home/linusrg/Code/LILI/.micromamba/envs/LILI-Env/lib/python3.10/site-packages/dask/dataframe/io/csv.py?line=138'>139</a>\u001b[0m \u001b[39mif\u001b[39;00m project_after_read:\n\u001b[1;32m    <a href='file:///home/linusrg/Code/LILI/.micromamba/envs/LILI-Env/lib/python3.10/site-packages/dask/dataframe/io/csv.py?line=139'>140</a>\u001b[0m     \u001b[39mreturn\u001b[39;00m df[\u001b[39mself\u001b[39m\u001b[39m.\u001b[39mcolumns]\n",
      "File \u001b[0;32m~/Code/LILI/.micromamba/envs/LILI-Env/lib/python3.10/site-packages/dask/dataframe/io/csv.py:181\u001b[0m, in \u001b[0;36mpandas_read_text\u001b[0;34m(reader, b, header, kwargs, dtypes, columns, write_header, enforce, path)\u001b[0m\n\u001b[1;32m    <a href='file:///home/linusrg/Code/LILI/.micromamba/envs/LILI-Env/lib/python3.10/site-packages/dask/dataframe/io/csv.py?line=178'>179</a>\u001b[0m bio\u001b[39m.\u001b[39mwrite(b)\n\u001b[1;32m    <a href='file:///home/linusrg/Code/LILI/.micromamba/envs/LILI-Env/lib/python3.10/site-packages/dask/dataframe/io/csv.py?line=179'>180</a>\u001b[0m bio\u001b[39m.\u001b[39mseek(\u001b[39m0\u001b[39m)\n\u001b[0;32m--> <a href='file:///home/linusrg/Code/LILI/.micromamba/envs/LILI-Env/lib/python3.10/site-packages/dask/dataframe/io/csv.py?line=180'>181</a>\u001b[0m df \u001b[39m=\u001b[39m reader(bio, \u001b[39m*\u001b[39;49m\u001b[39m*\u001b[39;49mkwargs)\n\u001b[1;32m    <a href='file:///home/linusrg/Code/LILI/.micromamba/envs/LILI-Env/lib/python3.10/site-packages/dask/dataframe/io/csv.py?line=181'>182</a>\u001b[0m \u001b[39mif\u001b[39;00m dtypes:\n\u001b[1;32m    <a href='file:///home/linusrg/Code/LILI/.micromamba/envs/LILI-Env/lib/python3.10/site-packages/dask/dataframe/io/csv.py?line=182'>183</a>\u001b[0m     coerce_dtypes(df, dtypes)\n",
      "File \u001b[0;32m~/Code/LILI/.micromamba/envs/LILI-Env/lib/python3.10/site-packages/pandas/util/_decorators.py:311\u001b[0m, in \u001b[0;36mdeprecate_nonkeyword_arguments.<locals>.decorate.<locals>.wrapper\u001b[0;34m(*args, **kwargs)\u001b[0m\n\u001b[1;32m    <a href='file:///home/linusrg/Code/LILI/.micromamba/envs/LILI-Env/lib/python3.10/site-packages/pandas/util/_decorators.py?line=304'>305</a>\u001b[0m \u001b[39mif\u001b[39;00m \u001b[39mlen\u001b[39m(args) \u001b[39m>\u001b[39m num_allow_args:\n\u001b[1;32m    <a href='file:///home/linusrg/Code/LILI/.micromamba/envs/LILI-Env/lib/python3.10/site-packages/pandas/util/_decorators.py?line=305'>306</a>\u001b[0m     warnings\u001b[39m.\u001b[39mwarn(\n\u001b[1;32m    <a href='file:///home/linusrg/Code/LILI/.micromamba/envs/LILI-Env/lib/python3.10/site-packages/pandas/util/_decorators.py?line=306'>307</a>\u001b[0m         msg\u001b[39m.\u001b[39mformat(arguments\u001b[39m=\u001b[39marguments),\n\u001b[1;32m    <a href='file:///home/linusrg/Code/LILI/.micromamba/envs/LILI-Env/lib/python3.10/site-packages/pandas/util/_decorators.py?line=307'>308</a>\u001b[0m         \u001b[39mFutureWarning\u001b[39;00m,\n\u001b[1;32m    <a href='file:///home/linusrg/Code/LILI/.micromamba/envs/LILI-Env/lib/python3.10/site-packages/pandas/util/_decorators.py?line=308'>309</a>\u001b[0m         stacklevel\u001b[39m=\u001b[39mstacklevel,\n\u001b[1;32m    <a href='file:///home/linusrg/Code/LILI/.micromamba/envs/LILI-Env/lib/python3.10/site-packages/pandas/util/_decorators.py?line=309'>310</a>\u001b[0m     )\n\u001b[0;32m--> <a href='file:///home/linusrg/Code/LILI/.micromamba/envs/LILI-Env/lib/python3.10/site-packages/pandas/util/_decorators.py?line=310'>311</a>\u001b[0m \u001b[39mreturn\u001b[39;00m func(\u001b[39m*\u001b[39;49margs, \u001b[39m*\u001b[39;49m\u001b[39m*\u001b[39;49mkwargs)\n",
      "File \u001b[0;32m~/Code/LILI/.micromamba/envs/LILI-Env/lib/python3.10/site-packages/pandas/io/parsers/readers.py:680\u001b[0m, in \u001b[0;36mread_csv\u001b[0;34m(filepath_or_buffer, sep, delimiter, header, names, index_col, usecols, squeeze, prefix, mangle_dupe_cols, dtype, engine, converters, true_values, false_values, skipinitialspace, skiprows, skipfooter, nrows, na_values, keep_default_na, na_filter, verbose, skip_blank_lines, parse_dates, infer_datetime_format, keep_date_col, date_parser, dayfirst, cache_dates, iterator, chunksize, compression, thousands, decimal, lineterminator, quotechar, quoting, doublequote, escapechar, comment, encoding, encoding_errors, dialect, error_bad_lines, warn_bad_lines, on_bad_lines, delim_whitespace, low_memory, memory_map, float_precision, storage_options)\u001b[0m\n\u001b[1;32m    <a href='file:///home/linusrg/Code/LILI/.micromamba/envs/LILI-Env/lib/python3.10/site-packages/pandas/io/parsers/readers.py?line=664'>665</a>\u001b[0m kwds_defaults \u001b[39m=\u001b[39m _refine_defaults_read(\n\u001b[1;32m    <a href='file:///home/linusrg/Code/LILI/.micromamba/envs/LILI-Env/lib/python3.10/site-packages/pandas/io/parsers/readers.py?line=665'>666</a>\u001b[0m     dialect,\n\u001b[1;32m    <a href='file:///home/linusrg/Code/LILI/.micromamba/envs/LILI-Env/lib/python3.10/site-packages/pandas/io/parsers/readers.py?line=666'>667</a>\u001b[0m     delimiter,\n\u001b[0;32m   (...)\u001b[0m\n\u001b[1;32m    <a href='file:///home/linusrg/Code/LILI/.micromamba/envs/LILI-Env/lib/python3.10/site-packages/pandas/io/parsers/readers.py?line=675'>676</a>\u001b[0m     defaults\u001b[39m=\u001b[39m{\u001b[39m\"\u001b[39m\u001b[39mdelimiter\u001b[39m\u001b[39m\"\u001b[39m: \u001b[39m\"\u001b[39m\u001b[39m,\u001b[39m\u001b[39m\"\u001b[39m},\n\u001b[1;32m    <a href='file:///home/linusrg/Code/LILI/.micromamba/envs/LILI-Env/lib/python3.10/site-packages/pandas/io/parsers/readers.py?line=676'>677</a>\u001b[0m )\n\u001b[1;32m    <a href='file:///home/linusrg/Code/LILI/.micromamba/envs/LILI-Env/lib/python3.10/site-packages/pandas/io/parsers/readers.py?line=677'>678</a>\u001b[0m kwds\u001b[39m.\u001b[39mupdate(kwds_defaults)\n\u001b[0;32m--> <a href='file:///home/linusrg/Code/LILI/.micromamba/envs/LILI-Env/lib/python3.10/site-packages/pandas/io/parsers/readers.py?line=679'>680</a>\u001b[0m \u001b[39mreturn\u001b[39;00m _read(filepath_or_buffer, kwds)\n",
      "File \u001b[0;32m~/Code/LILI/.micromamba/envs/LILI-Env/lib/python3.10/site-packages/pandas/io/parsers/readers.py:581\u001b[0m, in \u001b[0;36m_read\u001b[0;34m(filepath_or_buffer, kwds)\u001b[0m\n\u001b[1;32m    <a href='file:///home/linusrg/Code/LILI/.micromamba/envs/LILI-Env/lib/python3.10/site-packages/pandas/io/parsers/readers.py?line=577'>578</a>\u001b[0m     \u001b[39mreturn\u001b[39;00m parser\n\u001b[1;32m    <a href='file:///home/linusrg/Code/LILI/.micromamba/envs/LILI-Env/lib/python3.10/site-packages/pandas/io/parsers/readers.py?line=579'>580</a>\u001b[0m \u001b[39mwith\u001b[39;00m parser:\n\u001b[0;32m--> <a href='file:///home/linusrg/Code/LILI/.micromamba/envs/LILI-Env/lib/python3.10/site-packages/pandas/io/parsers/readers.py?line=580'>581</a>\u001b[0m     \u001b[39mreturn\u001b[39;00m parser\u001b[39m.\u001b[39;49mread(nrows)\n",
      "File \u001b[0;32m~/Code/LILI/.micromamba/envs/LILI-Env/lib/python3.10/site-packages/pandas/io/parsers/readers.py:1254\u001b[0m, in \u001b[0;36mTextFileReader.read\u001b[0;34m(self, nrows)\u001b[0m\n\u001b[1;32m   <a href='file:///home/linusrg/Code/LILI/.micromamba/envs/LILI-Env/lib/python3.10/site-packages/pandas/io/parsers/readers.py?line=1251'>1252</a>\u001b[0m nrows \u001b[39m=\u001b[39m validate_integer(\u001b[39m\"\u001b[39m\u001b[39mnrows\u001b[39m\u001b[39m\"\u001b[39m, nrows)\n\u001b[1;32m   <a href='file:///home/linusrg/Code/LILI/.micromamba/envs/LILI-Env/lib/python3.10/site-packages/pandas/io/parsers/readers.py?line=1252'>1253</a>\u001b[0m \u001b[39mtry\u001b[39;00m:\n\u001b[0;32m-> <a href='file:///home/linusrg/Code/LILI/.micromamba/envs/LILI-Env/lib/python3.10/site-packages/pandas/io/parsers/readers.py?line=1253'>1254</a>\u001b[0m     index, columns, col_dict \u001b[39m=\u001b[39m \u001b[39mself\u001b[39;49m\u001b[39m.\u001b[39;49m_engine\u001b[39m.\u001b[39;49mread(nrows)\n\u001b[1;32m   <a href='file:///home/linusrg/Code/LILI/.micromamba/envs/LILI-Env/lib/python3.10/site-packages/pandas/io/parsers/readers.py?line=1254'>1255</a>\u001b[0m \u001b[39mexcept\u001b[39;00m \u001b[39mException\u001b[39;00m:\n\u001b[1;32m   <a href='file:///home/linusrg/Code/LILI/.micromamba/envs/LILI-Env/lib/python3.10/site-packages/pandas/io/parsers/readers.py?line=1255'>1256</a>\u001b[0m     \u001b[39mself\u001b[39m\u001b[39m.\u001b[39mclose()\n",
      "File \u001b[0;32m~/Code/LILI/.micromamba/envs/LILI-Env/lib/python3.10/site-packages/pandas/io/parsers/c_parser_wrapper.py:225\u001b[0m, in \u001b[0;36mCParserWrapper.read\u001b[0;34m(self, nrows)\u001b[0m\n\u001b[1;32m    <a href='file:///home/linusrg/Code/LILI/.micromamba/envs/LILI-Env/lib/python3.10/site-packages/pandas/io/parsers/c_parser_wrapper.py?line=222'>223</a>\u001b[0m \u001b[39mtry\u001b[39;00m:\n\u001b[1;32m    <a href='file:///home/linusrg/Code/LILI/.micromamba/envs/LILI-Env/lib/python3.10/site-packages/pandas/io/parsers/c_parser_wrapper.py?line=223'>224</a>\u001b[0m     \u001b[39mif\u001b[39;00m \u001b[39mself\u001b[39m\u001b[39m.\u001b[39mlow_memory:\n\u001b[0;32m--> <a href='file:///home/linusrg/Code/LILI/.micromamba/envs/LILI-Env/lib/python3.10/site-packages/pandas/io/parsers/c_parser_wrapper.py?line=224'>225</a>\u001b[0m         chunks \u001b[39m=\u001b[39m \u001b[39mself\u001b[39;49m\u001b[39m.\u001b[39;49m_reader\u001b[39m.\u001b[39;49mread_low_memory(nrows)\n\u001b[1;32m    <a href='file:///home/linusrg/Code/LILI/.micromamba/envs/LILI-Env/lib/python3.10/site-packages/pandas/io/parsers/c_parser_wrapper.py?line=225'>226</a>\u001b[0m         \u001b[39m# destructive to chunks\u001b[39;00m\n\u001b[1;32m    <a href='file:///home/linusrg/Code/LILI/.micromamba/envs/LILI-Env/lib/python3.10/site-packages/pandas/io/parsers/c_parser_wrapper.py?line=226'>227</a>\u001b[0m         data \u001b[39m=\u001b[39m _concatenate_chunks(chunks)\n",
      "File \u001b[0;32m~/Code/LILI/.micromamba/envs/LILI-Env/lib/python3.10/site-packages/pandas/_libs/parsers.pyx:805\u001b[0m, in \u001b[0;36mpandas._libs.parsers.TextReader.read_low_memory\u001b[0;34m()\u001b[0m\n",
      "File \u001b[0;32m~/Code/LILI/.micromamba/envs/LILI-Env/lib/python3.10/site-packages/pandas/_libs/parsers.pyx:883\u001b[0m, in \u001b[0;36mpandas._libs.parsers.TextReader._read_rows\u001b[0;34m()\u001b[0m\n",
      "File \u001b[0;32m~/Code/LILI/.micromamba/envs/LILI-Env/lib/python3.10/site-packages/pandas/_libs/parsers.pyx:1026\u001b[0m, in \u001b[0;36mpandas._libs.parsers.TextReader._convert_column_data\u001b[0;34m()\u001b[0m\n",
      "File \u001b[0;32m~/Code/LILI/.micromamba/envs/LILI-Env/lib/python3.10/site-packages/pandas/_libs/parsers.pyx:1057\u001b[0m, in \u001b[0;36mpandas._libs.parsers.TextReader._convert_tokens\u001b[0;34m()\u001b[0m\n",
      "File \u001b[0;32m~/Code/LILI/.micromamba/envs/LILI-Env/lib/python3.10/site-packages/pandas/_libs/parsers.pyx:1157\u001b[0m, in \u001b[0;36mpandas._libs.parsers.TextReader._convert_with_dtype\u001b[0;34m()\u001b[0m\n",
      "File \u001b[0;32m~/Code/LILI/.micromamba/envs/LILI-Env/lib/python3.10/site-packages/pandas/core/arrays/boolean.py:359\u001b[0m, in \u001b[0;36mBooleanArray._from_sequence_of_strings\u001b[0;34m(cls, strings, dtype, copy, true_values, false_values)\u001b[0m\n\u001b[1;32m    <a href='file:///home/linusrg/Code/LILI/.micromamba/envs/LILI-Env/lib/python3.10/site-packages/pandas/core/arrays/boolean.py?line=355'>356</a>\u001b[0m     \u001b[39melse\u001b[39;00m:\n\u001b[1;32m    <a href='file:///home/linusrg/Code/LILI/.micromamba/envs/LILI-Env/lib/python3.10/site-packages/pandas/core/arrays/boolean.py?line=356'>357</a>\u001b[0m         \u001b[39mraise\u001b[39;00m \u001b[39mValueError\u001b[39;00m(\u001b[39mf\u001b[39m\u001b[39m\"\u001b[39m\u001b[39m{\u001b[39;00ms\u001b[39m}\u001b[39;00m\u001b[39m cannot be cast to bool\u001b[39m\u001b[39m\"\u001b[39m)\n\u001b[0;32m--> <a href='file:///home/linusrg/Code/LILI/.micromamba/envs/LILI-Env/lib/python3.10/site-packages/pandas/core/arrays/boolean.py?line=358'>359</a>\u001b[0m scalars \u001b[39m=\u001b[39m [map_string(x) \u001b[39mfor\u001b[39;00m x \u001b[39min\u001b[39;00m strings]\n\u001b[1;32m    <a href='file:///home/linusrg/Code/LILI/.micromamba/envs/LILI-Env/lib/python3.10/site-packages/pandas/core/arrays/boolean.py?line=359'>360</a>\u001b[0m \u001b[39mreturn\u001b[39;00m \u001b[39mcls\u001b[39m\u001b[39m.\u001b[39m_from_sequence(scalars, dtype\u001b[39m=\u001b[39mdtype, copy\u001b[39m=\u001b[39mcopy)\n",
      "File \u001b[0;32m~/Code/LILI/.micromamba/envs/LILI-Env/lib/python3.10/site-packages/pandas/core/arrays/boolean.py:359\u001b[0m, in \u001b[0;36m<listcomp>\u001b[0;34m(.0)\u001b[0m\n\u001b[1;32m    <a href='file:///home/linusrg/Code/LILI/.micromamba/envs/LILI-Env/lib/python3.10/site-packages/pandas/core/arrays/boolean.py?line=355'>356</a>\u001b[0m     \u001b[39melse\u001b[39;00m:\n\u001b[1;32m    <a href='file:///home/linusrg/Code/LILI/.micromamba/envs/LILI-Env/lib/python3.10/site-packages/pandas/core/arrays/boolean.py?line=356'>357</a>\u001b[0m         \u001b[39mraise\u001b[39;00m \u001b[39mValueError\u001b[39;00m(\u001b[39mf\u001b[39m\u001b[39m\"\u001b[39m\u001b[39m{\u001b[39;00ms\u001b[39m}\u001b[39;00m\u001b[39m cannot be cast to bool\u001b[39m\u001b[39m\"\u001b[39m)\n\u001b[0;32m--> <a href='file:///home/linusrg/Code/LILI/.micromamba/envs/LILI-Env/lib/python3.10/site-packages/pandas/core/arrays/boolean.py?line=358'>359</a>\u001b[0m scalars \u001b[39m=\u001b[39m [map_string(x) \u001b[39mfor\u001b[39;00m x \u001b[39min\u001b[39;00m strings]\n\u001b[1;32m    <a href='file:///home/linusrg/Code/LILI/.micromamba/envs/LILI-Env/lib/python3.10/site-packages/pandas/core/arrays/boolean.py?line=359'>360</a>\u001b[0m \u001b[39mreturn\u001b[39;00m \u001b[39mcls\u001b[39m\u001b[39m.\u001b[39m_from_sequence(scalars, dtype\u001b[39m=\u001b[39mdtype, copy\u001b[39m=\u001b[39mcopy)\n",
      "File \u001b[0;32m~/Code/LILI/.micromamba/envs/LILI-Env/lib/python3.10/site-packages/pandas/core/arrays/boolean.py:357\u001b[0m, in \u001b[0;36mBooleanArray._from_sequence_of_strings.<locals>.map_string\u001b[0;34m(s)\u001b[0m\n\u001b[1;32m    <a href='file:///home/linusrg/Code/LILI/.micromamba/envs/LILI-Env/lib/python3.10/site-packages/pandas/core/arrays/boolean.py?line=354'>355</a>\u001b[0m     \u001b[39mreturn\u001b[39;00m \u001b[39mFalse\u001b[39;00m\n\u001b[1;32m    <a href='file:///home/linusrg/Code/LILI/.micromamba/envs/LILI-Env/lib/python3.10/site-packages/pandas/core/arrays/boolean.py?line=355'>356</a>\u001b[0m \u001b[39melse\u001b[39;00m:\n\u001b[0;32m--> <a href='file:///home/linusrg/Code/LILI/.micromamba/envs/LILI-Env/lib/python3.10/site-packages/pandas/core/arrays/boolean.py?line=356'>357</a>\u001b[0m     \u001b[39mraise\u001b[39;00m \u001b[39mValueError\u001b[39;00m(\u001b[39mf\u001b[39m\u001b[39m\"\u001b[39m\u001b[39m{\u001b[39;00ms\u001b[39m}\u001b[39;00m\u001b[39m cannot be cast to bool\u001b[39m\u001b[39m\"\u001b[39m)\n",
      "\u001b[0;31mValueError\u001b[0m: Fal cannot be cast to bool"
     ]
    }
   ],
   "source": [
    "#turn dask data frame into pandas data frame\n",
    "#this is a longish process. ~50min\n",
    "df = df_n.compute()\n",
    "df.to_parquet('all2.parquet')"
   ]
  },
  {
   "cell_type": "code",
   "execution_count": null,
   "metadata": {},
   "outputs": [],
   "source": [
    "len(df)"
   ]
  },
  {
   "cell_type": "code",
   "execution_count": null,
   "metadata": {},
   "outputs": [],
   "source": [
    "greatdf = pd.read_parquet('all2.parquet', engine='fastparquet')"
   ]
  },
  {
   "cell_type": "code",
   "execution_count": null,
   "metadata": {},
   "outputs": [],
   "source": [
    "type(greatdf)"
   ]
  },
  {
   "cell_type": "markdown",
   "metadata": {},
   "source": [
    "# Get coordinates for Tweets (Geocoding)\n",
    "- Define one spatial identifier for every user (Coordinate, Place, User Location)\n",
    "- Safe user and place in a separate list\n",
    "- \n",
    "- Geocode each unique location\n",
    "\n",
    "- Slight noise for tweets at same city?\n",
    "\n"
   ]
  },
  {
   "cell_type": "markdown",
   "metadata": {},
   "source": [
    "# Visualize\n",
    "--> Make a time based visualization for each Innovation\n",
    "\n",
    "- Kepler.GL?"
   ]
  }
 ],
 "metadata": {
  "interpreter": {
   "hash": "d9a0fd26f19acfad023c81a399efe002ffb2594adbc625505a6269bcb569d10d"
  },
  "kernelspec": {
   "display_name": "Python 3.10.4 ('default': conda)",
   "language": "python",
   "name": "python3"
  },
  "language_info": {
   "codemirror_mode": {
    "name": "ipython",
    "version": 3
   },
   "file_extension": ".py",
   "mimetype": "text/x-python",
   "name": "python",
   "nbconvert_exporter": "python",
   "pygments_lexer": "ipython3",
   "version": "3.10.4"
  },
  "orig_nbformat": 4
 },
 "nbformat": 4,
 "nbformat_minor": 2
}
