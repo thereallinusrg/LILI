{
 "cells": [
  {
   "cell_type": "markdown",
   "metadata": {},
   "source": [
    "# How to build a network?\n",
    "- Social network simulation?\n",
    "\n",
    "- We have:\n",
    "    - Datetime\n",
    "    - Innovation\n",
    "    - Location\n",
    "- How to build a Network from this?\n",
    "- -> Tree shaped?"
   ]
  },
  {
   "cell_type": "markdown",
   "metadata": {},
   "source": [
    "# CSV Import\n",
    "- Dask only import if one of the Inno Columns is ==True; \n",
    "- Loop trough all CSV's and append \"tures\" to a single dd\n",
    "- Turn into gpd"
   ]
  },
  {
   "cell_type": "code",
   "execution_count": null,
   "metadata": {},
   "outputs": [
    {
     "ename": "",
     "evalue": "",
     "output_type": "error",
     "traceback": [
      "\u001b[1;31mUnable to start Kernel 'default (Python 3.10.4)' due to connection timeout. \n",
      "View Jupyter <a href='command:jupyter.viewOutput'>log</a> for further details."
     ]
    }
   ],
   "source": [
    "import dask.dataframe as dd\n",
    "import geopandas as gpd\n",
    "import pandas as pd"
   ]
  },
  {
   "cell_type": "markdown",
   "metadata": {},
   "source": [
    "# Get coordinates for Tweets (Geocoding)\n",
    "- Define one spatial identifier for every user (Coordinate, Place, User Location)\n",
    "- Safe user and place in a separate list\n",
    "- \n",
    "- Geocode each unique location\n",
    "\n",
    "- Slight noise for tweets at same city?\n",
    "\n"
   ]
  },
  {
   "cell_type": "markdown",
   "metadata": {},
   "source": [
    "# Visualize\n",
    "--> Make a time based visualization for each Innovation\n",
    "\n",
    "- Kepler.GL?"
   ]
  }
 ],
 "metadata": {
  "interpreter": {
   "hash": "d9a0fd26f19acfad023c81a399efe002ffb2594adbc625505a6269bcb569d10d"
  },
  "kernelspec": {
   "display_name": "Python 3.10.4 ('default': conda)",
   "language": "python",
   "name": "python3"
  },
  "language_info": {
   "codemirror_mode": {
    "name": "ipython",
    "version": 3
   },
   "file_extension": ".py",
   "mimetype": "text/x-python",
   "name": "python",
   "nbconvert_exporter": "python",
   "pygments_lexer": "ipython3",
   "version": "3.10.4"
  },
  "orig_nbformat": 4
 },
 "nbformat": 4,
 "nbformat_minor": 2
}
