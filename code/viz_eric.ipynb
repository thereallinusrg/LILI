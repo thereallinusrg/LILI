{
 "cells": [
  {
   "cell_type": "code",
   "execution_count": 1,
   "metadata": {},
   "outputs": [],
   "source": [
    "import pandas as pd\n",
    "import geopandas as gpd\n",
    "import folium\n",
    "from folium.plugins import HeatMapWithTime\n",
    "from folium.plugins import TimestampedGeoJson\n",
    "from numpy import nan\n",
    "import math\n",
    "import datetime\n",
    "\n",
    "\n",
    "import matplotlib\n",
    "import matplotlib.pyplot as plt\n",
    "import matplotlib.colors as mcolors\n",
    "\n",
    "import seaborn as sns"
   ]
  },
  {
   "cell_type": "code",
   "execution_count": 85,
   "metadata": {},
   "outputs": [
    {
     "name": "stderr",
     "output_type": "stream",
     "text": [
      "c:\\Users\\eric9\\anaconda3\\envs\\geo_env\\lib\\site-packages\\IPython\\core\\interactiveshell.py:3165: DtypeWarning: Columns (53) have mixed types.Specify dtype option on import or set low_memory=False.\n",
      "  has_raised = await self.run_ast_nodes(code_ast.body, cell_name,\n"
     ]
    }
   ],
   "source": [
    "inno_geocoded = pd.read_csv(\"inno_geocoded.csv\")\n",
    "gdf = gpd.GeoDataFrame(inno_geocoded, geometry=gpd.points_from_xy(inno_geocoded.lng, inno_geocoded.lat))"
   ]
  },
  {
   "cell_type": "code",
   "execution_count": 86,
   "metadata": {},
   "outputs": [],
   "source": [
    "inno2 = gdf[\"inno_nr\"] == \"inno_34\"\n",
    "inno2 = gdf[inno2]\n",
    "inno2 = inno2[inno2[\"lat\"].notna()]\n",
    "inno2[\"created_at_td\"] = pd.to_datetime(inno2[\"created_at\"])"
   ]
  },
  {
   "cell_type": "code",
   "execution_count": 90,
   "metadata": {},
   "outputs": [],
   "source": [
    "inno2[\"created_at_int\"] = inno2[\"created_at_td\"].apply(lambda x:x.toordinal())"
   ]
  },
  {
   "cell_type": "code",
   "execution_count": 91,
   "metadata": {},
   "outputs": [],
   "source": [
    "norm = matplotlib.colors.Normalize(vmin= 735272,vmax= 737397, clip=True)\n",
    "mapper = plt.cm.ScalarMappable(norm=norm, cmap=plt.cm.viridis)\n",
    "inno2[\"color\"] = inno2[\"created_at_int\"].apply(lambda x: mcolors.to_hex(mapper.to_rgba(x)))"
   ]
  },
  {
   "cell_type": "code",
   "execution_count": 92,
   "metadata": {},
   "outputs": [],
   "source": [
    "\n",
    "df = inno2.copy()\n",
    "x_coords = df[\"geometry\"].x.to_list()\n",
    "y_coords = df[\"geometry\"].y.to_list()\n",
    "coordinate_list = [[x, y] for x, y in zip(x_coords, y_coords)]\n",
    "df[\"created_at_td\"] = pd.to_datetime(df[\"created_at_td\"])\n",
    "times_list = [i.isoformat() for i in df[\"created_at_td\"].to_list()]\n",
    "colorlist = df[\"color\"].to_list()\n",
    "\n",
    "feature_list = [\n",
    "    {\n",
    "        \"type\": \"Feature\",\n",
    "        \"geometry\": {\n",
    "            \"type\": \"LineString\",\n",
    "            \"coordinates\": coordinate_list,\n",
    "        },\n",
    "        \"properties\": {\n",
    "            \"times\": times_list,\n",
    "            \"style\": {\"color\": \"blue\", \"weight\": 1},\n",
    "            \"icon\": \"circle\",\n",
    "            \"iconstyle\": {\"fillColor\": \"#ff0000\", \"fillOpacity\": 1, \"stroke\": \"true\", \"radius\": 5}\n",
    "        },\n",
    "    }\n",
    "]"
   ]
  },
  {
   "cell_type": "code",
   "execution_count": 93,
   "metadata": {},
   "outputs": [
    {
     "data": {
      "text/html": [
       "<div style=\"width:100%;\"><div style=\"position:relative;width:100%;height:0;padding-bottom:60%;\"><span style=\"color:#565656\">Make this Notebook Trusted to load map: File -> Trust Notebook</span><iframe src=\"about:blank\" style=\"position:absolute;width:100%;height:100%;left:0;top:0;border:none !important;\" data-html=%3C%21DOCTYPE%20html%3E%0A%3Chead%3E%20%20%20%20%0A%20%20%20%20%3Cmeta%20http-equiv%3D%22content-type%22%20content%3D%22text/html%3B%20charset%3DUTF-8%22%20/%3E%0A%20%20%20%20%0A%20%20%20%20%20%20%20%20%3Cscript%3E%0A%20%20%20%20%20%20%20%20%20%20%20%20L_NO_TOUCH%20%3D%20false%3B%0A%20%20%20%20%20%20%20%20%20%20%20%20L_DISABLE_3D%20%3D%20false%3B%0A%20%20%20%20%20%20%20%20%3C/script%3E%0A%20%20%20%20%0A%20%20%20%20%3Cstyle%3Ehtml%2C%20body%20%7Bwidth%3A%20100%25%3Bheight%3A%20100%25%3Bmargin%3A%200%3Bpadding%3A%200%3B%7D%3C/style%3E%0A%20%20%20%20%3Cstyle%3E%23map%20%7Bposition%3Aabsolute%3Btop%3A0%3Bbottom%3A0%3Bright%3A0%3Bleft%3A0%3B%7D%3C/style%3E%0A%20%20%20%20%3Cscript%20src%3D%22https%3A//cdn.jsdelivr.net/npm/leaflet%401.6.0/dist/leaflet.js%22%3E%3C/script%3E%0A%20%20%20%20%3Cscript%20src%3D%22https%3A//code.jquery.com/jquery-1.12.4.min.js%22%3E%3C/script%3E%0A%20%20%20%20%3Cscript%20src%3D%22https%3A//maxcdn.bootstrapcdn.com/bootstrap/3.2.0/js/bootstrap.min.js%22%3E%3C/script%3E%0A%20%20%20%20%3Cscript%20src%3D%22https%3A//cdnjs.cloudflare.com/ajax/libs/Leaflet.awesome-markers/2.0.2/leaflet.awesome-markers.js%22%3E%3C/script%3E%0A%20%20%20%20%3Clink%20rel%3D%22stylesheet%22%20href%3D%22https%3A//cdn.jsdelivr.net/npm/leaflet%401.6.0/dist/leaflet.css%22/%3E%0A%20%20%20%20%3Clink%20rel%3D%22stylesheet%22%20href%3D%22https%3A//maxcdn.bootstrapcdn.com/bootstrap/3.2.0/css/bootstrap.min.css%22/%3E%0A%20%20%20%20%3Clink%20rel%3D%22stylesheet%22%20href%3D%22https%3A//maxcdn.bootstrapcdn.com/bootstrap/3.2.0/css/bootstrap-theme.min.css%22/%3E%0A%20%20%20%20%3Clink%20rel%3D%22stylesheet%22%20href%3D%22https%3A//maxcdn.bootstrapcdn.com/font-awesome/4.6.3/css/font-awesome.min.css%22/%3E%0A%20%20%20%20%3Clink%20rel%3D%22stylesheet%22%20href%3D%22https%3A//cdnjs.cloudflare.com/ajax/libs/Leaflet.awesome-markers/2.0.2/leaflet.awesome-markers.css%22/%3E%0A%20%20%20%20%3Clink%20rel%3D%22stylesheet%22%20href%3D%22https%3A//cdn.jsdelivr.net/gh/python-visualization/folium/folium/templates/leaflet.awesome.rotate.min.css%22/%3E%0A%20%20%20%20%0A%20%20%20%20%20%20%20%20%20%20%20%20%3Cmeta%20name%3D%22viewport%22%20content%3D%22width%3Ddevice-width%2C%0A%20%20%20%20%20%20%20%20%20%20%20%20%20%20%20%20initial-scale%3D1.0%2C%20maximum-scale%3D1.0%2C%20user-scalable%3Dno%22%20/%3E%0A%20%20%20%20%20%20%20%20%20%20%20%20%3Cstyle%3E%0A%20%20%20%20%20%20%20%20%20%20%20%20%20%20%20%20%23map_62a6bdeda523484e8f399ca0163bead2%20%7B%0A%20%20%20%20%20%20%20%20%20%20%20%20%20%20%20%20%20%20%20%20position%3A%20relative%3B%0A%20%20%20%20%20%20%20%20%20%20%20%20%20%20%20%20%20%20%20%20width%3A%20100.0%25%3B%0A%20%20%20%20%20%20%20%20%20%20%20%20%20%20%20%20%20%20%20%20height%3A%20100.0%25%3B%0A%20%20%20%20%20%20%20%20%20%20%20%20%20%20%20%20%20%20%20%20left%3A%200.0%25%3B%0A%20%20%20%20%20%20%20%20%20%20%20%20%20%20%20%20%20%20%20%20top%3A%200.0%25%3B%0A%20%20%20%20%20%20%20%20%20%20%20%20%20%20%20%20%7D%0A%20%20%20%20%20%20%20%20%20%20%20%20%3C/style%3E%0A%20%20%20%20%20%20%20%20%0A%20%20%20%20%3Cscript%20src%3D%22https%3A//cdnjs.cloudflare.com/ajax/libs/jquery/2.0.0/jquery.min.js%22%3E%3C/script%3E%0A%20%20%20%20%3Cscript%20src%3D%22https%3A//cdnjs.cloudflare.com/ajax/libs/jqueryui/1.10.2/jquery-ui.min.js%22%3E%3C/script%3E%0A%20%20%20%20%3Cscript%20src%3D%22https%3A//cdn.jsdelivr.net/npm/iso8601-js-period%400.2.1/iso8601.min.js%22%3E%3C/script%3E%0A%20%20%20%20%3Cscript%20src%3D%22https%3A//cdn.jsdelivr.net/npm/leaflet-timedimension%401.1.1/dist/leaflet.timedimension.min.js%22%3E%3C/script%3E%0A%20%20%20%20%3Cscript%20src%3D%22https%3A//cdnjs.cloudflare.com/ajax/libs/moment.js/2.18.1/moment.min.js%22%3E%3C/script%3E%0A%20%20%20%20%3Clink%20rel%3D%22stylesheet%22%20href%3D%22https%3A//cdnjs.cloudflare.com/ajax/libs/highlight.js/8.4/styles/default.min.css%22/%3E%0A%20%20%20%20%3Clink%20rel%3D%22stylesheet%22%20href%3D%22https%3A//cdn.jsdelivr.net/npm/leaflet-timedimension%401.1.1/dist/leaflet.timedimension.control.css%22/%3E%0A%3C/head%3E%0A%3Cbody%3E%20%20%20%20%0A%20%20%20%20%0A%20%20%20%20%20%20%20%20%20%20%20%20%3Cdiv%20class%3D%22folium-map%22%20id%3D%22map_62a6bdeda523484e8f399ca0163bead2%22%20%3E%3C/div%3E%0A%20%20%20%20%20%20%20%20%0A%3C/body%3E%0A%3Cscript%3E%20%20%20%20%0A%20%20%20%20%0A%20%20%20%20%20%20%20%20%20%20%20%20var%20map_62a6bdeda523484e8f399ca0163bead2%20%3D%20L.map%28%0A%20%20%20%20%20%20%20%20%20%20%20%20%20%20%20%20%22map_62a6bdeda523484e8f399ca0163bead2%22%2C%0A%20%20%20%20%20%20%20%20%20%20%20%20%20%20%20%20%7B%0A%20%20%20%20%20%20%20%20%20%20%20%20%20%20%20%20%20%20%20%20center%3A%20%5B47.32%2C%208.5%5D%2C%0A%20%20%20%20%20%20%20%20%20%20%20%20%20%20%20%20%20%20%20%20crs%3A%20L.CRS.EPSG3857%2C%0A%20%20%20%20%20%20%20%20%20%20%20%20%20%20%20%20%20%20%20%20zoom%3A%202%2C%0A%20%20%20%20%20%20%20%20%20%20%20%20%20%20%20%20%20%20%20%20zoomControl%3A%20true%2C%0A%20%20%20%20%20%20%20%20%20%20%20%20%20%20%20%20%20%20%20%20preferCanvas%3A%20false%2C%0A%20%20%20%20%20%20%20%20%20%20%20%20%20%20%20%20%7D%0A%20%20%20%20%20%20%20%20%20%20%20%20%29%3B%0A%20%20%20%20%20%20%20%20%20%20%20%20L.control.scale%28%29.addTo%28map_62a6bdeda523484e8f399ca0163bead2%29%3B%0A%0A%20%20%20%20%20%20%20%20%20%20%20%20%0A%0A%20%20%20%20%20%20%20%20%0A%20%20%20%20%0A%20%20%20%20%20%20%20%20%20%20%20%20var%20tile_layer_5d5d9a3ec8ad412eb6925e001c370878%20%3D%20L.tileLayer%28%0A%20%20%20%20%20%20%20%20%20%20%20%20%20%20%20%20%22https%3A//cartodb-basemaps-%7Bs%7D.global.ssl.fastly.net/dark_all/%7Bz%7D/%7Bx%7D/%7By%7D.png%22%2C%0A%20%20%20%20%20%20%20%20%20%20%20%20%20%20%20%20%7B%22attribution%22%3A%20%22%5Cu0026copy%3B%20%5Cu003ca%20href%3D%5C%22http%3A//www.openstreetmap.org/copyright%5C%22%5Cu003eOpenStreetMap%5Cu003c/a%5Cu003e%20contributors%20%5Cu0026copy%3B%20%5Cu003ca%20href%3D%5C%22http%3A//cartodb.com/attributions%5C%22%5Cu003eCartoDB%5Cu003c/a%5Cu003e%2C%20CartoDB%20%5Cu003ca%20href%20%3D%5C%22http%3A//cartodb.com/attributions%5C%22%5Cu003eattributions%5Cu003c/a%5Cu003e%22%2C%20%22detectRetina%22%3A%20false%2C%20%22maxNativeZoom%22%3A%2018%2C%20%22maxZoom%22%3A%2018%2C%20%22minZoom%22%3A%200%2C%20%22noWrap%22%3A%20false%2C%20%22opacity%22%3A%201%2C%20%22subdomains%22%3A%20%22abc%22%2C%20%22tms%22%3A%20false%7D%0A%20%20%20%20%20%20%20%20%20%20%20%20%29.addTo%28map_62a6bdeda523484e8f399ca0163bead2%29%3B%0A%20%20%20%20%20%20%20%20%0A%20%20%20%20%0A%20%20%20%20%20%20%20%20%20%20%20%20L.Control.TimeDimensionCustom%20%3D%20L.Control.TimeDimension.extend%28%7B%0A%20%20%20%20%20%20%20%20%20%20%20%20%20%20%20%20_getDisplayDateFormat%3A%20function%28date%29%7B%0A%20%20%20%20%20%20%20%20%20%20%20%20%20%20%20%20%20%20%20%20var%20newdate%20%3D%20new%20moment%28date%29%3B%0A%20%20%20%20%20%20%20%20%20%20%20%20%20%20%20%20%20%20%20%20console.log%28newdate%29%0A%20%20%20%20%20%20%20%20%20%20%20%20%20%20%20%20%20%20%20%20return%20newdate.format%28%22YYYY-MM-DD%20HH%3Amm%3Ass%22%29%3B%0A%20%20%20%20%20%20%20%20%20%20%20%20%20%20%20%20%7D%0A%20%20%20%20%20%20%20%20%20%20%20%20%7D%29%3B%0A%20%20%20%20%20%20%20%20%20%20%20%20map_62a6bdeda523484e8f399ca0163bead2.timeDimension%20%3D%20L.timeDimension%28%0A%20%20%20%20%20%20%20%20%20%20%20%20%20%20%20%20%7B%0A%20%20%20%20%20%20%20%20%20%20%20%20%20%20%20%20%20%20%20%20period%3A%20%22PT1H%22%2C%0A%20%20%20%20%20%20%20%20%20%20%20%20%20%20%20%20%7D%0A%20%20%20%20%20%20%20%20%20%20%20%20%29%3B%0A%20%20%20%20%20%20%20%20%20%20%20%20var%20timeDimensionControl%20%3D%20new%20L.Control.TimeDimensionCustom%28%0A%20%20%20%20%20%20%20%20%20%20%20%20%20%20%20%20%7B%22autoPlay%22%3A%20true%2C%20%22loopButton%22%3A%20false%2C%20%22maxSpeed%22%3A%2010%2C%20%22minSpeed%22%3A%200.1%2C%20%22playerOptions%22%3A%20%7B%22loop%22%3A%20true%2C%20%22startOver%22%3A%20true%2C%20%22transitionTime%22%3A%201%7D%2C%20%22position%22%3A%20%22bottomleft%22%2C%20%22timeSliderDragUpdate%22%3A%20false%7D%0A%20%20%20%20%20%20%20%20%20%20%20%20%29%3B%0A%20%20%20%20%20%20%20%20%20%20%20%20map_62a6bdeda523484e8f399ca0163bead2.addControl%28this.timeDimensionControl%29%3B%0A%0A%20%20%20%20%20%20%20%20%20%20%20%20var%20geoJsonLayer%20%3D%20L.geoJson%28%5B%7B%27type%27%3A%20%27Feature%27%2C%20%27geometry%27%3A%20%7B%27type%27%3A%20%27LineString%27%2C%20%27coordinates%27%3A%20%5B%5B36.784112734047056%2C%20-1.24139975%5D%2C%20%5B12.5152257%2C%2042.5195891%5D%2C%20%5B-3.7035825%2C%2040.4167047%5D%2C%20%5B-64.183319%2C%20-31.4173391%5D%2C%20%5B-84.6824346%2C%2043.6211955%5D%2C%20%5B-58.268868%2C%20-34.7303025%5D%2C%20%5B-74.8013085%2C%2010.9799669%5D%2C%20%5B-3.7112332%2C%2040.3409182%5D%2C%20%5B-56.0201525%2C%20-32.8755548%5D%2C%20%5B-99.0%2C%2018.75%5D%2C%20%5B-4.6233348%2C%2036.5387779%5D%2C%20%5B-57.9537638%2C%20-34.9206797%5D%2C%20%5B-57.9537638%2C%20-34.9206797%5D%2C%20%5B-5.9953403%2C%2037.3886303%5D%2C%20%5B-16.58385%2C%2028.3814745%5D%2C%20%5B-0.7194043%2C%2037.6511396%5D%2C%20%5B-81.39808672093476%2C%2040.8185398%5D%2C%20%5B-4.8379791%2C%2039.3260685%5D%2C%20%5B-115.12510798422218%2C%2036.0608658%5D%2C%20%5B-4.7760138%2C%2037.8845813%5D%2C%20%5B-115.4636754%2C%2032.5754715%5D%5D%7D%2C%20%27properties%27%3A%20%7B%27times%27%3A%20%5B%272014-02-08T16%3A41%3A56%2B00%3A00%27%2C%20%272016-01-02T19%3A13%3A16%2B00%3A00%27%2C%20%272016-03-01T20%3A51%3A08%2B00%3A00%27%2C%20%272017-08-01T17%3A36%3A33%2B00%3A00%27%2C%20%272018-03-05T16%3A49%3A19%2B00%3A00%27%2C%20%272018-07-03T18%3A40%3A49%2B00%3A00%27%2C%20%272018-08-04T06%3A40%3A50%2B00%3A00%27%2C%20%272018-08-06T13%3A14%3A50%2B00%3A00%27%2C%20%272018-10-01T18%3A39%3A26%2B00%3A00%27%2C%20%272018-12-05T04%3A42%3A49%2B00%3A00%27%2C%20%272019-01-01T17%3A56%3A35%2B00%3A00%27%2C%20%272019-01-13T14%3A25%3A22%2B00%3A00%27%2C%20%272019-01-13T14%3A25%3A22%2B00%3A00%27%2C%20%272019-03-03T19%3A09%3A53%2B00%3A00%27%2C%20%272019-06-03T14%3A09%3A15%2B00%3A00%27%2C%20%272019-08-07T13%3A05%3A43%2B00%3A00%27%2C%20%272019-09-04T03%3A11%3A29%2B00%3A00%27%2C%20%272019-10-01T14%3A54%3A40%2B00%3A00%27%2C%20%272019-10-01T21%3A19%3A55%2B00%3A00%27%2C%20%272019-11-07T06%3A03%3A51%2B00%3A00%27%2C%20%272019-12-04T15%3A24%3A03%2B00%3A00%27%5D%2C%20%27style%27%3A%20%7B%27color%27%3A%20%27blue%27%2C%20%27weight%27%3A%201%7D%2C%20%27icon%27%3A%20%27circle%27%2C%20%27iconstyle%27%3A%20%7B%27fillColor%27%3A%20%27%23ff0000%27%2C%20%27fillOpacity%27%3A%201%2C%20%27stroke%27%3A%20%27true%27%2C%20%27radius%27%3A%205%7D%7D%7D%5D%2C%20%7B%0A%20%20%20%20%20%20%20%20%20%20%20%20%20%20%20%20%20%20%20%20pointToLayer%3A%20function%20%28feature%2C%20latLng%29%20%7B%0A%20%20%20%20%20%20%20%20%20%20%20%20%20%20%20%20%20%20%20%20%20%20%20%20if%20%28feature.properties.icon%20%3D%3D%20%27marker%27%29%20%7B%0A%20%20%20%20%20%20%20%20%20%20%20%20%20%20%20%20%20%20%20%20%20%20%20%20%20%20%20%20if%28feature.properties.iconstyle%29%7B%0A%20%20%20%20%20%20%20%20%20%20%20%20%20%20%20%20%20%20%20%20%20%20%20%20%20%20%20%20%20%20%20%20return%20new%20L.Marker%28latLng%2C%20%7B%0A%20%20%20%20%20%20%20%20%20%20%20%20%20%20%20%20%20%20%20%20%20%20%20%20%20%20%20%20%20%20%20%20%20%20%20%20icon%3A%20L.icon%28feature.properties.iconstyle%29%7D%29%3B%0A%20%20%20%20%20%20%20%20%20%20%20%20%20%20%20%20%20%20%20%20%20%20%20%20%20%20%20%20%7D%0A%20%20%20%20%20%20%20%20%20%20%20%20%20%20%20%20%20%20%20%20%20%20%20%20%20%20%20%20//else%0A%20%20%20%20%20%20%20%20%20%20%20%20%20%20%20%20%20%20%20%20%20%20%20%20%20%20%20%20return%20new%20L.Marker%28latLng%29%3B%0A%20%20%20%20%20%20%20%20%20%20%20%20%20%20%20%20%20%20%20%20%20%20%20%20%7D%0A%20%20%20%20%20%20%20%20%20%20%20%20%20%20%20%20%20%20%20%20%20%20%20%20if%20%28feature.properties.icon%20%3D%3D%20%27circle%27%29%20%7B%0A%20%20%20%20%20%20%20%20%20%20%20%20%20%20%20%20%20%20%20%20%20%20%20%20%20%20%20%20if%20%28feature.properties.iconstyle%29%20%7B%0A%20%20%20%20%20%20%20%20%20%20%20%20%20%20%20%20%20%20%20%20%20%20%20%20%20%20%20%20%20%20%20%20return%20new%20L.circleMarker%28latLng%2C%20feature.properties.iconstyle%29%0A%20%20%20%20%20%20%20%20%20%20%20%20%20%20%20%20%20%20%20%20%20%20%20%20%20%20%20%20%20%20%20%20%7D%3B%0A%20%20%20%20%20%20%20%20%20%20%20%20%20%20%20%20%20%20%20%20%20%20%20%20%20%20%20%20//else%0A%20%20%20%20%20%20%20%20%20%20%20%20%20%20%20%20%20%20%20%20%20%20%20%20%20%20%20%20return%20new%20L.circleMarker%28latLng%29%3B%0A%20%20%20%20%20%20%20%20%20%20%20%20%20%20%20%20%20%20%20%20%20%20%20%20%7D%0A%20%20%20%20%20%20%20%20%20%20%20%20%20%20%20%20%20%20%20%20%20%20%20%20//else%0A%0A%20%20%20%20%20%20%20%20%20%20%20%20%20%20%20%20%20%20%20%20%20%20%20%20return%20new%20L.Marker%28latLng%29%3B%0A%20%20%20%20%20%20%20%20%20%20%20%20%20%20%20%20%20%20%20%20%7D%2C%0A%20%20%20%20%20%20%20%20%20%20%20%20%20%20%20%20%20%20%20%20style%3A%20function%20%28feature%29%20%7B%0A%20%20%20%20%20%20%20%20%20%20%20%20%20%20%20%20%20%20%20%20%20%20%20%20return%20feature.properties.style%3B%0A%20%20%20%20%20%20%20%20%20%20%20%20%20%20%20%20%20%20%20%20%7D%2C%0A%20%20%20%20%20%20%20%20%20%20%20%20%20%20%20%20%20%20%20%20onEachFeature%3A%20function%28feature%2C%20layer%29%20%7B%0A%20%20%20%20%20%20%20%20%20%20%20%20%20%20%20%20%20%20%20%20%20%20%20%20if%20%28feature.properties.popup%29%20%7B%0A%20%20%20%20%20%20%20%20%20%20%20%20%20%20%20%20%20%20%20%20%20%20%20%20layer.bindPopup%28feature.properties.popup%29%3B%0A%20%20%20%20%20%20%20%20%20%20%20%20%20%20%20%20%20%20%20%20%20%20%20%20%7D%0A%20%20%20%20%20%20%20%20%20%20%20%20%20%20%20%20%20%20%20%20%7D%0A%20%20%20%20%20%20%20%20%20%20%20%20%20%20%20%20%7D%29%0A%0A%20%20%20%20%20%20%20%20%20%20%20%20var%20timestamped_geo_json_b73d8c030d5144faac12a7e8062cdded%20%3D%20L.timeDimension.layer.geoJson%28%0A%20%20%20%20%20%20%20%20%20%20%20%20%20%20%20%20geoJsonLayer%2C%0A%20%20%20%20%20%20%20%20%20%20%20%20%20%20%20%20%7B%0A%20%20%20%20%20%20%20%20%20%20%20%20%20%20%20%20%20%20%20%20updateTimeDimension%3A%20true%2C%0A%20%20%20%20%20%20%20%20%20%20%20%20%20%20%20%20%20%20%20%20addlastPoint%3A%20true%2C%0A%20%20%20%20%20%20%20%20%20%20%20%20%20%20%20%20%20%20%20%20duration%3A%20undefined%2C%0A%20%20%20%20%20%20%20%20%20%20%20%20%20%20%20%20%7D%0A%20%20%20%20%20%20%20%20%20%20%20%20%29.addTo%28map_62a6bdeda523484e8f399ca0163bead2%29%3B%0A%20%20%20%20%20%20%20%20%0A%3C/script%3E onload=\"this.contentDocument.open();this.contentDocument.write(    decodeURIComponent(this.getAttribute('data-html')));this.contentDocument.close();\" allowfullscreen webkitallowfullscreen mozallowfullscreen></iframe></div></div>"
      ],
      "text/plain": [
       "<folium.folium.Map at 0x2cc02c72af0>"
      ]
     },
     "execution_count": 93,
     "metadata": {},
     "output_type": "execute_result"
    }
   ],
   "source": [
    "map = folium.Map([47.32, 8.50], zoom_start=2, tiles = \"CartoDB dark_matter\", control_scale = True)\n",
    "\n",
    "TimestampedGeoJson(\n",
    "    feature_list,\n",
    "    period = 'PT1H',\n",
    "    #duration = 'PT1M',\n",
    "    transition_time = 1,\n",
    "    auto_play = True).add_to(map)\n",
    "\n",
    "map"
   ]
  }
 ],
 "metadata": {
  "interpreter": {
   "hash": "b01ad1143563f8596f325ca984a88deaf35cb23dcb1577ba55446b45d1468a13"
  },
  "kernelspec": {
   "display_name": "Python 3.8.10 ('geo_env')",
   "language": "python",
   "name": "python3"
  },
  "language_info": {
   "codemirror_mode": {
    "name": "ipython",
    "version": 3
   },
   "file_extension": ".py",
   "mimetype": "text/x-python",
   "name": "python",
   "nbconvert_exporter": "python",
   "pygments_lexer": "ipython3",
   "version": "3.8.10"
  },
  "orig_nbformat": 4
 },
 "nbformat": 4,
 "nbformat_minor": 2
}
