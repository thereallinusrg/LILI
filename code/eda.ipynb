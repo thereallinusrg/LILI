{
 "cells": [
  {
   "cell_type": "code",
   "execution_count": 1,
   "metadata": {},
   "outputs": [
    {
     "name": "stderr",
     "output_type": "stream",
     "text": [
      "ERROR 1: PROJ: proj_create_from_database: Open of /home/linusrg/Code/LILI/.micromamba/envs/default/share/proj failed\n"
     ]
    }
   ],
   "source": [
    "import dask.dataframe as dd\n",
    "import geopandas as gpd\n",
    "import pandas as pd"
   ]
  },
  {
   "cell_type": "code",
   "execution_count": 2,
   "metadata": {},
   "outputs": [],
   "source": [
    "path = '~/Code/LILI/data/' "
   ]
  },
  {
   "cell_type": "code",
   "execution_count": 3,
   "metadata": {},
   "outputs": [
    {
     "name": "stdout",
     "output_type": "stream",
     "text": [
      "1.74 s ± 31.4 ms per loop (mean ± std. dev. of 7 runs, 1 loop each)\n"
     ]
    }
   ],
   "source": [
    "def pandaimp(path) :\n",
    "    df = pd.read_csv(f'{path}expressions/2019/01/02_expressions.csv', sep = '\\t') \n",
    "\n",
    "%timeit pandaimp(path)"
   ]
  },
  {
   "cell_type": "code",
   "execution_count": 4,
   "metadata": {},
   "outputs": [
    {
     "name": "stdout",
     "output_type": "stream",
     "text": [
      "8.18 ms ± 116 µs per loop (mean ± std. dev. of 7 runs, 100 loops each)\n"
     ]
    }
   ],
   "source": [
    "def daskimp(path):\n",
    "        df = dd.read_csv(f'{path}expressions/2019/01/02_expressions.csv', sep = \"\\t\", dtype=\n",
    "                {'country': 'string',\n",
    "        'country_code': 'string',\n",
    "        'place_full_name': 'string',\n",
    "        'place_id': 'string',\n",
    "        'place_name': 'string',\n",
    "        'place_type': 'string'})\n",
    "\n",
    "%timeit daskimp(path)"
   ]
  },
  {
   "cell_type": "code",
   "execution_count": 5,
   "metadata": {},
   "outputs": [],
   "source": [
    "df = dd.read_csv(f'{path}expressions/2019/01/02_expressions.csv', sep = \"\\t\", dtype=\n",
    "            {'country': 'string',\n",
    "    'country_code': 'string',\n",
    "    'place_full_name': 'string',\n",
    "    'place_id': 'string',\n",
    "    'place_name': 'string',\n",
    "    'place_type': 'string'})"
   ]
  },
  {
   "cell_type": "code",
   "execution_count": 6,
   "metadata": {},
   "outputs": [
    {
     "data": {
      "text/html": [
       "<div>\n",
       "<style scoped>\n",
       "    .dataframe tbody tr th:only-of-type {\n",
       "        vertical-align: middle;\n",
       "    }\n",
       "\n",
       "    .dataframe tbody tr th {\n",
       "        vertical-align: top;\n",
       "    }\n",
       "\n",
       "    .dataframe thead th {\n",
       "        text-align: right;\n",
       "    }\n",
       "</style>\n",
       "<table border=\"1\" class=\"dataframe\">\n",
       "  <thead>\n",
       "    <tr style=\"text-align: right;\">\n",
       "      <th></th>\n",
       "      <th>created_at</th>\n",
       "      <th>id</th>\n",
       "      <th>twitter_id</th>\n",
       "      <th>text</th>\n",
       "      <th>truncated</th>\n",
       "      <th>user_id</th>\n",
       "      <th>user_location</th>\n",
       "      <th>user_lang</th>\n",
       "      <th>longitude</th>\n",
       "      <th>latitude</th>\n",
       "      <th>...</th>\n",
       "      <th>inno_26</th>\n",
       "      <th>inno_27</th>\n",
       "      <th>inno_29</th>\n",
       "      <th>inno_30</th>\n",
       "      <th>inno_31</th>\n",
       "      <th>inno_32</th>\n",
       "      <th>inno_33</th>\n",
       "      <th>inno_34</th>\n",
       "      <th>inno_39</th>\n",
       "      <th>inno_44</th>\n",
       "    </tr>\n",
       "  </thead>\n",
       "  <tbody>\n",
       "    <tr>\n",
       "      <th>0</th>\n",
       "      <td>Wed Jan 02 07:00:00 +0000 2019</td>\n",
       "      <td>201901020000_0002</td>\n",
       "      <td>1080358028199620608</td>\n",
       "      <td>Emprendedores y valientes 💪 No dejes de leer e...</td>\n",
       "      <td>False</td>\n",
       "      <td>935212979511091200</td>\n",
       "      <td>Sevilla, España</td>\n",
       "      <td>es</td>\n",
       "      <td>NaN</td>\n",
       "      <td>NaN</td>\n",
       "      <td>...</td>\n",
       "      <td>False</td>\n",
       "      <td>False</td>\n",
       "      <td>False</td>\n",
       "      <td>False</td>\n",
       "      <td>False</td>\n",
       "      <td>False</td>\n",
       "      <td>False</td>\n",
       "      <td>False</td>\n",
       "      <td>False</td>\n",
       "      <td>False</td>\n",
       "    </tr>\n",
       "    <tr>\n",
       "      <th>1</th>\n",
       "      <td>Wed Jan 02 07:00:00 +0000 2019</td>\n",
       "      <td>201901020000_0003</td>\n",
       "      <td>1080358028195577856</td>\n",
       "      <td>#Deportes: Dominicano Karl Anthony cerca de un...</td>\n",
       "      <td>True</td>\n",
       "      <td>792146727721656320</td>\n",
       "      <td>Mundo</td>\n",
       "      <td>es</td>\n",
       "      <td>NaN</td>\n",
       "      <td>NaN</td>\n",
       "      <td>...</td>\n",
       "      <td>False</td>\n",
       "      <td>False</td>\n",
       "      <td>False</td>\n",
       "      <td>False</td>\n",
       "      <td>False</td>\n",
       "      <td>False</td>\n",
       "      <td>False</td>\n",
       "      <td>False</td>\n",
       "      <td>False</td>\n",
       "      <td>False</td>\n",
       "    </tr>\n",
       "    <tr>\n",
       "      <th>2</th>\n",
       "      <td>Wed Jan 02 07:00:00 +0000 2019</td>\n",
       "      <td>201901020000_0004</td>\n",
       "      <td>1080358028182904832</td>\n",
       "      <td>#Espacio Sonda superó sobrevuelo histórico del...</td>\n",
       "      <td>False</td>\n",
       "      <td>44489439</td>\n",
       "      <td>La Paz - Bolivia</td>\n",
       "      <td>es</td>\n",
       "      <td>NaN</td>\n",
       "      <td>NaN</td>\n",
       "      <td>...</td>\n",
       "      <td>False</td>\n",
       "      <td>False</td>\n",
       "      <td>False</td>\n",
       "      <td>False</td>\n",
       "      <td>False</td>\n",
       "      <td>False</td>\n",
       "      <td>False</td>\n",
       "      <td>False</td>\n",
       "      <td>False</td>\n",
       "      <td>False</td>\n",
       "    </tr>\n",
       "    <tr>\n",
       "      <th>3</th>\n",
       "      <td>Wed Jan 02 07:00:00 +0000 2019</td>\n",
       "      <td>201901020000_0005</td>\n",
       "      <td>1080358028216389632</td>\n",
       "      <td>Hoy te damos a conocer el HORARIO ESPECIAL de ...</td>\n",
       "      <td>True</td>\n",
       "      <td>735485872762544130</td>\n",
       "      <td>Bétera, España</td>\n",
       "      <td>es</td>\n",
       "      <td>NaN</td>\n",
       "      <td>NaN</td>\n",
       "      <td>...</td>\n",
       "      <td>False</td>\n",
       "      <td>False</td>\n",
       "      <td>False</td>\n",
       "      <td>False</td>\n",
       "      <td>False</td>\n",
       "      <td>False</td>\n",
       "      <td>False</td>\n",
       "      <td>False</td>\n",
       "      <td>False</td>\n",
       "      <td>False</td>\n",
       "    </tr>\n",
       "    <tr>\n",
       "      <th>4</th>\n",
       "      <td>Wed Jan 02 07:00:01 +0000 2019</td>\n",
       "      <td>201901020000_0007</td>\n",
       "      <td>1080358032381333505</td>\n",
       "      <td>RT @alertasurbanas: #BuzónAU Este sujeto se me...</td>\n",
       "      <td>False</td>\n",
       "      <td>2883273104</td>\n",
       "      <td>Cancún Quintana Roo</td>\n",
       "      <td>es</td>\n",
       "      <td>NaN</td>\n",
       "      <td>NaN</td>\n",
       "      <td>...</td>\n",
       "      <td>False</td>\n",
       "      <td>False</td>\n",
       "      <td>False</td>\n",
       "      <td>False</td>\n",
       "      <td>False</td>\n",
       "      <td>False</td>\n",
       "      <td>False</td>\n",
       "      <td>False</td>\n",
       "      <td>False</td>\n",
       "      <td>False</td>\n",
       "    </tr>\n",
       "  </tbody>\n",
       "</table>\n",
       "<p>5 rows × 61 columns</p>\n",
       "</div>"
      ],
      "text/plain": [
       "                       created_at                 id           twitter_id  \\\n",
       "0  Wed Jan 02 07:00:00 +0000 2019  201901020000_0002  1080358028199620608   \n",
       "1  Wed Jan 02 07:00:00 +0000 2019  201901020000_0003  1080358028195577856   \n",
       "2  Wed Jan 02 07:00:00 +0000 2019  201901020000_0004  1080358028182904832   \n",
       "3  Wed Jan 02 07:00:00 +0000 2019  201901020000_0005  1080358028216389632   \n",
       "4  Wed Jan 02 07:00:01 +0000 2019  201901020000_0007  1080358032381333505   \n",
       "\n",
       "                                                text  truncated  \\\n",
       "0  Emprendedores y valientes 💪 No dejes de leer e...      False   \n",
       "1  #Deportes: Dominicano Karl Anthony cerca de un...       True   \n",
       "2  #Espacio Sonda superó sobrevuelo histórico del...      False   \n",
       "3  Hoy te damos a conocer el HORARIO ESPECIAL de ...       True   \n",
       "4  RT @alertasurbanas: #BuzónAU Este sujeto se me...      False   \n",
       "\n",
       "              user_id        user_location user_lang  longitude  latitude  \\\n",
       "0  935212979511091200      Sevilla, España        es        NaN       NaN   \n",
       "1  792146727721656320                Mundo        es        NaN       NaN   \n",
       "2            44489439     La Paz - Bolivia        es        NaN       NaN   \n",
       "3  735485872762544130       Bétera, España        es        NaN       NaN   \n",
       "4          2883273104  Cancún Quintana Roo        es        NaN       NaN   \n",
       "\n",
       "   ...  inno_26  inno_27  inno_29  inno_30 inno_31 inno_32 inno_33 inno_34  \\\n",
       "0  ...    False    False    False    False   False   False   False   False   \n",
       "1  ...    False    False    False    False   False   False   False   False   \n",
       "2  ...    False    False    False    False   False   False   False   False   \n",
       "3  ...    False    False    False    False   False   False   False   False   \n",
       "4  ...    False    False    False    False   False   False   False   False   \n",
       "\n",
       "  inno_39 inno_44  \n",
       "0   False   False  \n",
       "1   False   False  \n",
       "2   False   False  \n",
       "3   False   False  \n",
       "4   False   False  \n",
       "\n",
       "[5 rows x 61 columns]"
      ]
     },
     "execution_count": 6,
     "metadata": {},
     "output_type": "execute_result"
    }
   ],
   "source": [
    "#df = pd.read_csv(f'{path}expressions/2019/01/02_expressions.csv', sep = '\\t') \n",
    "df.head()"
   ]
  },
  {
   "cell_type": "code",
   "execution_count": 7,
   "metadata": {},
   "outputs": [],
   "source": [
    "cols = [\"inno_01\",\"inno_02\",\"inno_03\",\"inno_04\",\"inno_05\",\"inno_06\",\"inno_07\",\"inno_08\",\"inno_09\",\"inno_10\",\"inno_12\",\"inno_13\",\"inno_15\",\"inno_16\",\"inno_17\",\"inno_18\",\"inno_19\",\"inno_20\",\"inno_21\",\"inno_22\",\"inno_23\",\"inno_24\",\"inno_25\",\"inno_26\",\"inno_27\",\"inno_29\",\"inno_30\",\"inno_31\",\"inno_32\",\"inno_33\",\"inno_34\",\"inno_39\",\"inno_44\"]"
   ]
  },
  {
   "cell_type": "code",
   "execution_count": 8,
   "metadata": {},
   "outputs": [],
   "source": [
    "df['innovation'] = df[cols].sum(axis=1)"
   ]
  },
  {
   "cell_type": "code",
   "execution_count": 9,
   "metadata": {},
   "outputs": [
    {
     "data": {
      "text/plain": [
       "44"
      ]
     },
     "execution_count": 9,
     "metadata": {},
     "output_type": "execute_result"
    }
   ],
   "source": [
    "df_s = df[df.innovation != 0]\n",
    "len(df_s)"
   ]
  },
  {
   "cell_type": "code",
   "execution_count": 12,
   "metadata": {},
   "outputs": [
    {
     "data": {
      "text/plain": [
       "(None,)"
      ]
     },
     "execution_count": 12,
     "metadata": {},
     "output_type": "execute_result"
    }
   ],
   "source": [
    "df_s.to_parquet('sample_for_geocoding.parquet')"
   ]
  }
 ],
 "metadata": {
  "interpreter": {
   "hash": "331b2b8dd17392d8608a47257ad3bf62ee3ec5ce7c83d76980d067708f1a1d75"
  },
  "kernelspec": {
   "display_name": "Python 3.10.2 ('mamba-new': conda)",
   "language": "python",
   "name": "python3"
  },
  "language_info": {
   "codemirror_mode": {
    "name": "ipython",
    "version": 3
   },
   "file_extension": ".py",
   "mimetype": "text/x-python",
   "name": "python",
   "nbconvert_exporter": "python",
   "pygments_lexer": "ipython3",
   "version": "3.10.4"
  },
  "orig_nbformat": 4
 },
 "nbformat": 4,
 "nbformat_minor": 2
}
